{
 "cells": [
  {
   "cell_type": "markdown",
   "metadata": {},
   "source": [
    "Implied unemployment rate"
   ]
  },
  {
   "cell_type": "markdown",
   "metadata": {},
   "source": [
    "Inspiration\n",
    "Discussions of current labour market data in the US"
   ]
  },
  {
   "cell_type": "markdown",
   "metadata": {},
   "source": [
    "The traditional economic model that incorporates the employment rate is primarily the IS-LM (Investment-Saving, Liquidity Preference-Money Supply) model extended by the inclusion of the labor market through the AD-AS (Aggregate Demand-Aggregate Supply) framework. This extended model is often referred to in macroeconomics as the IS-LM-AD-AS model.\n",
    "\n",
    "1. **IS-LM Model:** The IS-LM model, developed by John Hicks, describes the relationship between interest rates and real GDP when the goods and money markets are in equilibrium. It does not directly incorporate the employment rate but does so indirectly through the level of economic activity. Higher economic activity (GDP) generally means higher employment.\n",
    "\n",
    "2. **AD-AS Model:** The Aggregate Demand-Aggregate Supply model introduces the concepts of aggregate demand for goods and services and aggregate supply (the total output of goods and services firms are willing to produce) in an economy. The AD curve can shift due to changes in consumption, investment, government spending, and net exports. The AS curve can shift due to changes in factors like labor force size, productivity, and technology. Changes in either demand or supply will affect the price level and output, which in turn affects employment levels.\n",
    "\n",
    "3. **Incorporation of the Labor Market:** The traditional approach to incorporating the employment rate into economic models is by linking it to the level of economic activity (GDP) and through the Phillips Curve, which shows an inverse relationship between the rate of inflation and the unemployment rate. The labor market is considered in the AD-AS framework, where the level of output (GDP) correlates with the level of employment due to production functions that require labor input.\n",
    "\n",
    "In summary, while the IS-LM model lays the groundwork for understanding the interactions between markets for goods and money, the AD-AS model, with its consideration of the labor market, more directly incorporates the employment rate. This integration allows economists to analyze how policies and external shocks may impact employment, inflation, and economic growth."
   ]
  },
  {
   "cell_type": "markdown",
   "metadata": {},
   "source": [
    "For calculating the implied employment rate in the United States, the AD-AS (Aggregate Demand-Aggregate Supply) model would be more direct and suitable. This model can help understand how various factors influence the overall level of economic activity, prices, and employment. To use the AD-AS model for this purpose, you would need to gather several types of data:\n",
    "\n",
    "1. **Aggregate Demand Data:**\n",
    "   - **Consumer Spending:** Data on household consumption expenditures.\n",
    "   - **Investment Spending:** Data on business investments, residential construction, and inventory changes.\n",
    "   - **Government Spending:** Data on federal, state, and local government expenditures.\n",
    "   - **Net Exports:** The difference between exports and imports.\n",
    "\n",
    "2. **Aggregate Supply Data:**\n",
    "   - **Labor Force Data:** Total number of people employed and the unemployment rate, to understand the potential production capabilities of the economy.\n",
    "   - **Productivity Levels:** Output per labor hour, which affects the short-run and long-run aggregate supply curves.\n",
    "   - **Cost of Production:** Input prices including wages, raw materials, and other factors that can shift the aggregate supply curve.\n",
    "\n",
    "3. **Price Level and Inflation Data:**\n",
    "   - **Consumer Price Index (CPI) or Personal Consumption Expenditures (PCE):** For measuring inflation and understanding how it affects aggregate demand and supply.\n",
    "\n",
    "4. **Interest Rates:**\n",
    "   - **Federal Funds Rate:** The interest rate at which depository institutions lend reserve balances to other depository institutions overnight.\n",
    "   - **Treasury Bill Rates:** Short-term interest rates that reflect monetary policy expectations.\n",
    "\n",
    "5. **Gross Domestic Product (GDP) Data:**\n",
    "   - **Real GDP:** To understand the current economic output and its comparison with potential output.\n",
    "   - **GDP Growth Rate:** To gauge economic expansion or contraction.\n",
    "\n",
    "6. **External Shocks:** Information on any recent external shocks that might have affected the economy (e.g., oil price shocks, global pandemics, significant policy changes).\n",
    "\n",
    "By analyzing changes in these data points and applying them to the AD-AS model, you can understand how shifts in aggregate demand and supply are likely to impact the overall level of employment in the economy. For instance, an increase in aggregate demand can lead to higher GDP and lower unemployment (higher employment), all else being equal. Similarly, an increase in aggregate supply can result in lower prices and increased employment due to higher economic output."
   ]
  },
  {
   "cell_type": "markdown",
   "metadata": {},
   "source": [
    "To calculate the implied employment rate using the AD-AS framework, you would typically start with understanding the relationship between GDP and employment. A common approach is to use Okun's Law, which provides a rough estimate of how changes in unemployment relate to GDP growth. While not a direct part of the AD-AS model, Okun's Law can serve as a bridge between changes in GDP (which the AD-AS model can help predict) and changes in the unemployment rate.\n",
    "\n",
    "**Okun's Law Formula:**\n",
    "\\[ \\Delta U = k - c \\Delta Y \\]\n",
    "\n",
    "Where:\n",
    "- \\( \\Delta U \\) is the change in the unemployment rate.\n",
    "- \\( k \\) is a constant that represents the normal rate of growth in the labor force plus the normal rate of increase in labor productivity.\n",
    "- \\( c \\) is the Okun's coefficient (usually around 2 for the United States, but it can vary by country and over time).\n",
    "- \\( \\Delta Y \\) is the percentage change in real GDP.\n",
    "\n",
    "This formula suggests that if real GDP grows at a rate faster than the normal rate (captured by \\( k \\)), unemployment will decrease (implying an increase in the employment rate).\n",
    "\n",
    "To apply this in practice, you would need:\n",
    "1. **Current and historical unemployment rates**\n",
    "2. **Current and historical real GDP growth rates**\n",
    "\n",
    "To obtain these datasets for the United States, you can visit the following sources:\n",
    "\n",
    "1. **For Unemployment Rates:**\n",
    "   - **U.S. Bureau of Labor Statistics (BLS):** They provide monthly and annual data on unemployment rates. Visit their official website and navigate to the Labor Force Statistics section.\n",
    "     - Website: [https://www.bls.gov](https://www.bls.gov)\n",
    "\n",
    "2. **For Real GDP Growth Rates:**\n",
    "   - **U.S. Bureau of Economic Analysis (BEA):** They publish quarterly and annual growth rates of real GDP. You can find these statistics in the National Data section on their website.\n",
    "     - Website: [https://www.bea.gov](https://www.bea.gov)\n",
    "\n",
    "These sources are official and regularly updated, making them reliable for economic analysis. Remember, while Okun's Law provides a straightforward way to relate GDP changes to unemployment, it's an approximation and assumes all other factors are constant, which is rarely the case in a dynamic economy."
   ]
  },
  {
   "cell_type": "code",
   "execution_count": 168,
   "metadata": {},
   "outputs": [
    {
     "name": "stdout",
     "output_type": "stream",
     "text": [
      "         Date    Value\n",
      "0  2023-12-31    3.40%\n",
      "1  2023-09-30    4.90%\n",
      "2  2023-06-30    2.10%\n",
      "3  2023-03-31    2.20%\n",
      "4  2022-12-31    2.60%\n",
      "5  2022-09-30    2.70%\n",
      "6  2022-06-30   -0.60%\n",
      "7  2022-03-31   -2.00%\n",
      "8  2021-12-31    7.00%\n",
      "9  2021-09-30    3.30%\n",
      "10 2021-06-30    6.20%\n",
      "11 2021-03-31    5.20%\n",
      "12 2020-12-31    4.20%\n",
      "13 2020-09-30   34.80%\n",
      "14 2020-06-30  -28.00%\n",
      "15 2020-03-31   -5.30%\n",
      "16 2019-12-31    2.60%\n",
      "17 2019-09-30    4.60%\n",
      "18 2019-06-30    3.40%\n",
      "19 2019-03-31    2.20%\n",
      "20 2018-12-31    0.60%\n",
      "21 2018-09-30    2.50%\n",
      "22 2018-06-30    2.10%\n",
      "23 2018-03-31    3.30%\n",
      "24 2017-12-31    4.60%\n",
      "25 2017-09-30    3.20%\n",
      "26 2017-06-30    2.30%\n",
      "27 2017-03-31    1.70%\n",
      "28 2016-12-31    2.00%\n",
      "29 2016-09-30    2.40%\n",
      "30 2016-06-30    1.20%\n",
      "31 2016-03-31    2.40%\n",
      "32 2015-12-31    0.60%\n",
      "33 2015-09-30    1.30%\n",
      "34 2015-06-30    2.30%\n",
      "35 2015-03-31    3.80%\n",
      "36 2014-12-31    2.30%\n",
      "37 2014-09-30    5.00%\n",
      "38 2014-06-30    5.50%\n",
      "39 2014-03-31   -1.10%\n",
      "40 2013-12-31    3.20%\n",
      "41 2013-09-30    3.20%\n",
      "42 2013-06-30    0.50%\n",
      "43 2013-03-31    3.60%\n",
      "44 2012-12-31    0.50%\n",
      "45 2012-09-30    0.50%\n",
      "46 2012-06-30    1.70%\n",
      "47 2012-03-31    3.20%\n",
      "48 2011-12-31    4.70%\n",
      "49 2011-09-30   -0.10%\n"
     ]
    }
   ],
   "source": [
    "import pandas as pd\n",
    "\n",
    "# Data for the DataFrame\n",
    "data = {\n",
    "    'Date': [\n",
    "        'December 31, 2023', 'September 30, 2023', 'June 30, 2023', 'March 31, 2023', 'December 31, 2022',\n",
    "        'September 30, 2022', 'June 30, 2022', 'March 31, 2022', 'December 31, 2021', 'September 30, 2021',\n",
    "        'June 30, 2021', 'March 31, 2021', 'December 31, 2020', 'September 30, 2020', 'June 30, 2020',\n",
    "        'March 31, 2020', 'December 31, 2019', 'September 30, 2019', 'June 30, 2019', 'March 31, 2019',\n",
    "        'December 31, 2018', 'September 30, 2018', 'June 30, 2018', 'March 31, 2018', 'December 31, 2017',\n",
    "        'September 30, 2017', 'June 30, 2017', 'March 31, 2017', 'December 31, 2016', 'September 30, 2016',\n",
    "        'June 30, 2016', 'March 31, 2016', 'December 31, 2015', 'September 30, 2015', 'June 30, 2015',\n",
    "        'March 31, 2015', 'December 31, 2014', 'September 30, 2014', 'June 30, 2014', 'March 31, 2014',\n",
    "        'December 31, 2013', 'September 30, 2013', 'June 30, 2013', 'March 31, 2013', 'December 31, 2012',\n",
    "        'September 30, 2012', 'June 30, 2012', 'March 31, 2012', 'December 31, 2011', 'September 30, 2011'\n",
    "    ],\n",
    "    'Value': [\n",
    "        '3.40%', '4.90%', '2.10%', '2.20%', '2.60%', '2.70%', '-0.60%', '-2.00%', '7.00%', '3.30%',\n",
    "        '6.20%', '5.20%', '4.20%', '34.80%', '-28.00%', '-5.30%', '2.60%', '4.60%', '3.40%', '2.20%',\n",
    "        '0.60%', '2.50%', '2.10%', '3.30%', '4.60%', '3.20%', '2.30%', '1.70%', '2.00%', '2.40%',\n",
    "        '1.20%', '2.40%', '0.60%', '1.30%', '2.30%', '3.80%', '2.30%', '5.00%', '5.50%', '-1.10%',\n",
    "        '3.20%', '3.20%', '0.50%', '3.60%', '0.50%', '0.50%', '1.70%', '3.20%', '4.70%', '-0.10%'\n",
    "    ]\n",
    "}\n",
    "\n",
    "# Creating the DataFrame\n",
    "dfrealgdp = pd.DataFrame(data)\n",
    "\n",
    "# Convert the 'Date' column to datetime format\n",
    "dfrealgdp['Date'] = pd.to_datetime(dfrealgdp['Date'])\n",
    "\n",
    "# Displaying the DataFrame\n",
    "print(dfrealgdp)\n"
   ]
  },
  {
   "cell_type": "markdown",
   "metadata": {},
   "source": []
  },
  {
   "cell_type": "code",
   "execution_count": 169,
   "metadata": {},
   "outputs": [
    {
     "name": "stdout",
     "output_type": "stream",
     "text": [
      "                  Date  Value\n",
      "0    December 31, 2034  28.08\n",
      "1   September 30, 2034  27.96\n",
      "2        June 30, 2034  27.84\n",
      "3       March 31, 2034  27.71\n",
      "4    December 31, 2033  27.59\n",
      "5   September 30, 2033  27.46\n",
      "6        June 30, 2033  27.34\n",
      "7       March 31, 2033  27.21\n",
      "8    December 31, 2032  27.09\n",
      "9   September 30, 2032  26.96\n",
      "10       June 30, 2032  26.84\n",
      "11      March 31, 2032  26.71\n",
      "12   December 31, 2031  26.58\n",
      "13  September 30, 2031  26.46\n",
      "14       June 30, 2031  26.33\n",
      "15      March 31, 2031  26.20\n",
      "16   December 31, 2030  26.08\n",
      "17  September 30, 2030  25.95\n",
      "18       June 30, 2030  25.82\n",
      "19      March 31, 2030  25.70\n",
      "20   December 31, 2029  25.57\n",
      "21  September 30, 2029  25.44\n",
      "22       June 30, 2029  25.31\n",
      "23      March 31, 2029  25.18\n",
      "24   December 31, 2028  25.06\n",
      "25  September 30, 2028  22.55\n",
      "26       June 30, 2028  22.44\n",
      "27      March 31, 2028  22.34\n",
      "28   December 31, 2027  22.23\n",
      "29  September 30, 2027  22.17\n",
      "30       June 30, 2027  22.07\n",
      "31      March 31, 2027  21.98\n",
      "32   December 31, 2026  21.88\n",
      "33  September 30, 2026  21.79\n",
      "34       June 30, 2026  21.70\n",
      "35      March 31, 2026  21.61\n",
      "36   December 31, 2025  21.52\n",
      "37  September 30, 2025  20.99\n",
      "38       June 30, 2025  20.90\n",
      "39      March 31, 2025  20.80\n",
      "40   December 31, 2024  20.71\n",
      "41  September 30, 2024  20.62\n",
      "42       June 30, 2024  20.52\n",
      "43      March 31, 2024  20.43\n",
      "44   December 31, 2023  20.33\n",
      "45  September 30, 2023  20.24\n",
      "46       June 30, 2023  20.15\n",
      "47      March 31, 2023  20.06\n",
      "48   December 31, 2022  19.97\n",
      "49  September 30, 2022  19.88\n"
     ]
    }
   ],
   "source": [
    "import pandas as pd\n",
    "\n",
    "# Data for the DataFrame\n",
    "data_potential_gdp = {\n",
    "    'Date': [\n",
    "        'December 31, 2034', 'September 30, 2034', 'June 30, 2034', 'March 31, 2034', 'December 31, 2033',\n",
    "        'September 30, 2033', 'June 30, 2033', 'March 31, 2033', 'December 31, 2032', 'September 30, 2032',\n",
    "        'June 30, 2032', 'March 31, 2032', 'December 31, 2031', 'September 30, 2031', 'June 30, 2031',\n",
    "        'March 31, 2031', 'December 31, 2030', 'September 30, 2030', 'June 30, 2030', 'March 31, 2030',\n",
    "        'December 31, 2029', 'September 30, 2029', 'June 30, 2029', 'March 31, 2029', 'December 31, 2028',\n",
    "        'September 30, 2028', 'June 30, 2028', 'March 31, 2028', 'December 31, 2027', 'September 30, 2027',\n",
    "        'June 30, 2027', 'March 31, 2027', 'December 31, 2026', 'September 30, 2026', 'June 30, 2026',\n",
    "        'March 31, 2026', 'December 31, 2025', 'September 30, 2025', 'June 30, 2025', 'March 31, 2025',\n",
    "        'December 31, 2024', 'September 30, 2024', 'June 30, 2024', 'March 31, 2024', 'December 31, 2023',\n",
    "        'September 30, 2023', 'June 30, 2023', 'March 31, 2023', 'December 31, 2022', 'September 30, 2022'\n",
    "    ],\n",
    "    'Value': [\n",
    "        '28.08T', '27.96T', '27.84T', '27.71T', '27.59T', '27.46T', '27.34T', '27.21T', '27.09T', '26.96T',\n",
    "        '26.84T', '26.71T', '26.58T', '26.46T', '26.33T', '26.20T', '26.08T', '25.95T', '25.82T', '25.70T',\n",
    "        '25.57T', '25.44T', '25.31T', '25.18T', '25.06T', '22.55T', '22.44T', '22.34T', '22.23T', '22.17T',\n",
    "        '22.07T', '21.98T', '21.88T', '21.79T', '21.70T', '21.61T', '21.52T', '20.99T', '20.90T', '20.80T',\n",
    "        '20.71T', '20.62T', '20.52T', '20.43T', '20.33T', '20.24T', '20.15T', '20.06T', '19.97T', '19.88T'\n",
    "    ]\n",
    "}\n",
    "\n",
    "# Creating the DataFrame\n",
    "dfpotentialgdp = pd.DataFrame(data_potential_gdp)\n",
    "\n",
    "# Remove 'T' suffix from 'Value' column\n",
    "dfpotentialgdp['Value'] = dfpotentialgdp['Value'].str.replace('T', '')\n",
    "\n",
    "# Displaying the DataFrame\n",
    "print(dfpotentialgdp)\n"
   ]
  },
  {
   "cell_type": "markdown",
   "metadata": {},
   "source": [
    "below is the second part of potential gdp"
   ]
  },
  {
   "cell_type": "code",
   "execution_count": 170,
   "metadata": {},
   "outputs": [
    {
     "name": "stdout",
     "output_type": "stream",
     "text": [
      "         Date  Value\n",
      "49 2010-03-31  16.24\n",
      "48 2010-06-30  16.29\n",
      "47 2010-09-30  16.34\n",
      "46 2010-12-31  16.39\n",
      "45 2011-03-31  16.45\n",
      "..        ...    ...\n",
      "4  2033-12-31  27.59\n",
      "3  2034-03-31  27.71\n",
      "2  2034-06-30  27.84\n",
      "1  2034-09-30  27.96\n",
      "0  2034-12-31  28.08\n",
      "\n",
      "[100 rows x 2 columns]\n"
     ]
    }
   ],
   "source": [
    "import pandas as pd\n",
    "\n",
    "# Data for the second part of potential GDP\n",
    "data_potential_gdp_part2 = {\n",
    "    'Date': [\n",
    "        'June 30, 2022', 'March 31, 2022', 'December 31, 2021', 'September 30, 2021', 'June 30, 2021',\n",
    "        'March 31, 2021', 'December 31, 2020', 'September 30, 2020', 'June 30, 2020', 'March 31, 2020',\n",
    "        'December 31, 2019', 'September 30, 2019', 'June 30, 2019', 'March 31, 2019', 'December 31, 2018',\n",
    "        'September 30, 2018', 'June 30, 2018', 'March 31, 2018', 'December 31, 2017', 'September 30, 2017',\n",
    "        'June 30, 2017', 'March 31, 2017', 'December 31, 2016', 'September 30, 2016', 'June 30, 2016',\n",
    "        'March 31, 2016', 'December 31, 2015', 'September 30, 2015', 'June 30, 2015', 'March 31, 2015',\n",
    "        'December 31, 2014', 'September 30, 2014', 'June 30, 2014', 'March 31, 2014', 'December 31, 2013',\n",
    "        'September 30, 2013', 'June 30, 2013', 'March 31, 2013', 'December 31, 2012', 'September 30, 2012',\n",
    "        'June 30, 2012', 'March 31, 2012', 'December 31, 2011', 'September 30, 2011', 'June 30, 2011',\n",
    "        'March 31, 2011', 'December 31, 2010', 'September 30, 2010', 'June 30, 2010', 'March 31, 2010'\n",
    "    ],\n",
    "    'Value': [\n",
    "        '19.79T', '19.71T', '19.62T', '19.54T', '19.47T', '19.40T', '19.33T', '19.27T', '19.20T', '19.12T',\n",
    "        '19.03T', '18.94T', '18.86T', '18.77T', '18.68T', '18.60T', '18.51T', '18.43T', '18.35T', '18.27T',\n",
    "        '18.20T', '18.12T', '18.05T', '17.98T', '17.91T', '17.84T', '17.76T', '17.69T', '17.61T', '17.54T',\n",
    "        '17.46T', '17.38T', '17.31T', '17.24T', '17.16T', '17.09T', '17.02T', '16.95T', '16.88T', '16.82T',\n",
    "        '16.75T', '16.69T', '16.62T', '16.56T', '16.50T', '16.45T', '16.39T', '16.34T', '16.29T', '16.24T'\n",
    "    ]\n",
    "}\n",
    "\n",
    "# Creating the DataFrame for the second part of potential GDP\n",
    "df_potentialgdp_part2 = pd.DataFrame(data_potential_gdp_part2)\n",
    "\n",
    "# Remove 'T' suffix from 'Value' column\n",
    "df_potentialgdp_part2['Value'] = df_potentialgdp_part2['Value'].str.replace('T', '')\n",
    "\n",
    "# Merge the second part of potential GDP with the original potential GDP DataFrame\n",
    "dfpotentialgdp_merged = pd.concat([dfpotentialgdp, df_potentialgdp_part2]).drop_duplicates(subset='Date')\n",
    "\n",
    "# Convert 'Date' column to datetime format\n",
    "dfpotentialgdp_merged['Date'] = pd.to_datetime(dfpotentialgdp_merged['Date'], format='%B %d, %Y')\n",
    "\n",
    "# Sort DataFrame by 'Date'\n",
    "dfpotentialgdp_merged = dfpotentialgdp_merged.sort_values(by='Date')\n",
    "\n",
    "# Display the merged DataFrame\n",
    "print(dfpotentialgdp_merged)\n"
   ]
  },
  {
   "cell_type": "markdown",
   "metadata": {},
   "source": []
  },
  {
   "cell_type": "code",
   "execution_count": 171,
   "metadata": {},
   "outputs": [
    {
     "name": "stdout",
     "output_type": "stream",
     "text": [
      "         Date     Value\n",
      "0  2010-06-30  0.307882\n",
      "1  2010-09-30  0.306937\n",
      "2  2010-12-31  0.305998\n",
      "3  2011-03-31  0.366077\n",
      "4  2011-06-30  0.303951\n",
      "..        ...       ...\n",
      "94 2033-12-31  0.473416\n",
      "95 2034-03-31  0.434940\n",
      "96 2034-06-30  0.469145\n",
      "97 2034-09-30  0.431034\n",
      "98 2034-12-31  0.429185\n",
      "\n",
      "[99 rows x 2 columns]\n"
     ]
    }
   ],
   "source": [
    "import pandas as pd\n",
    "\n",
    "# Assuming dfpotentialgdp_merged is already defined\n",
    "\n",
    "# Convert the 'Value' column to numeric, ignoring errors\n",
    "dfpotentialgdp_merged['Value'] = pd.to_numeric(dfpotentialgdp_merged['Value'], errors='coerce')\n",
    "\n",
    "# Sort the DataFrame by date in ascending order\n",
    "dfpotentialgdp_merged.sort_values(by='Date', inplace=True)\n",
    "\n",
    "# Calculate the growth rates\n",
    "dfpotentialgdp_merged['Potential GDP Growth Rate'] = dfpotentialgdp_merged['Value'].pct_change() * 100\n",
    "\n",
    "# Drop the first row as it will have a NaN value after calculating percentage change\n",
    "dfpotentialgdp_merged.dropna(subset=['Potential GDP Growth Rate'], inplace=True)\n",
    "\n",
    "# Replace the 'Value' column with 'Potential GDP Growth Rate'\n",
    "dfpotentialgdp_merged['Value'] = dfpotentialgdp_merged['Potential GDP Growth Rate']\n",
    "\n",
    "# Drop the 'Potential GDP Growth Rate' column\n",
    "dfpotentialgdp_merged.drop(columns=['Potential GDP Growth Rate'], inplace=True)\n",
    "\n",
    "# Reset index\n",
    "dfpotentialgdp_merged.reset_index(drop=True, inplace=True)\n",
    "\n",
    "# Display the DataFrame with growth rates\n",
    "print(dfpotentialgdp_merged)\n"
   ]
  },
  {
   "cell_type": "markdown",
   "metadata": {},
   "source": [
    "df unemployment rate"
   ]
  },
  {
   "cell_type": "code",
   "execution_count": 172,
   "metadata": {},
   "outputs": [
    {
     "name": "stdout",
     "output_type": "stream",
     "text": [
      "         Date   Value\n",
      "0  2024-03-31   3.80%\n",
      "1  2024-02-29   3.90%\n",
      "2  2024-01-31   3.70%\n",
      "3  2023-12-31   3.70%\n",
      "4  2023-11-30   3.70%\n",
      "5  2023-10-31   3.80%\n",
      "6  2023-09-30   3.80%\n",
      "7  2023-08-31   3.80%\n",
      "8  2023-07-31   3.50%\n",
      "9  2023-06-30   3.60%\n",
      "10 2023-05-31   3.70%\n",
      "11 2023-04-30   3.40%\n",
      "12 2023-03-31   3.50%\n",
      "13 2023-02-28   3.60%\n",
      "14 2023-01-31   3.40%\n",
      "15 2022-12-31   3.50%\n",
      "16 2022-11-30   3.60%\n",
      "17 2022-10-31   3.60%\n",
      "18 2022-09-30   3.50%\n",
      "19 2022-08-31   3.60%\n",
      "20 2022-07-31   3.50%\n",
      "21 2022-06-30   3.60%\n",
      "22 2022-05-31   3.60%\n",
      "23 2022-04-30   3.70%\n",
      "24 2022-03-31   3.60%\n",
      "25 2022-02-28   3.80%\n",
      "26 2022-01-31   4.00%\n",
      "27 2021-12-31   3.90%\n",
      "28 2021-11-30   4.20%\n",
      "29 2021-10-31   4.50%\n",
      "30 2021-09-30   4.80%\n",
      "31 2021-08-31   5.20%\n",
      "32 2021-07-31   5.40%\n",
      "33 2021-06-30   5.90%\n",
      "34 2021-05-31   5.80%\n",
      "35 2021-04-30   6.10%\n",
      "36 2021-03-31   6.10%\n",
      "37 2021-02-28   6.20%\n",
      "38 2021-01-31   6.30%\n",
      "39 2020-12-31   6.70%\n",
      "40 2020-11-30   6.70%\n",
      "41 2020-10-31   6.90%\n",
      "42 2020-09-30   7.90%\n",
      "43 2020-08-31   8.40%\n",
      "44 2020-07-31  10.20%\n",
      "45 2020-06-30  11.00%\n",
      "46 2020-05-31  13.20%\n",
      "47 2020-04-30  14.70%\n",
      "48 2020-03-31   4.40%\n",
      "49 2020-02-29   3.50%\n"
     ]
    }
   ],
   "source": [
    "import pandas as pd\n",
    "\n",
    "# Data for the DataFrame\n",
    "data_unemployment_rate = {\n",
    "    'Date': [\n",
    "        'March 31, 2024', 'February 29, 2024', 'January 31, 2024', 'December 31, 2023', 'November 30, 2023',\n",
    "        'October 31, 2023', 'September 30, 2023', 'August 31, 2023', 'July 31, 2023', 'June 30, 2023',\n",
    "        'May 31, 2023', 'April 30, 2023', 'March 31, 2023', 'February 28, 2023', 'January 31, 2023',\n",
    "        'December 31, 2022', 'November 30, 2022', 'October 31, 2022', 'September 30, 2022', 'August 31, 2022',\n",
    "        'July 31, 2022', 'June 30, 2022', 'May 31, 2022', 'April 30, 2022', 'March 31, 2022', \n",
    "        'February 28, 2022', 'January 31, 2022', 'December 31, 2021', 'November 30, 2021', 'October 31, 2021',\n",
    "        'September 30, 2021', 'August 31, 2021', 'July 31, 2021', 'June 30, 2021', 'May 31, 2021', 'April 30, 2021',\n",
    "        'March 31, 2021', 'February 28, 2021', 'January 31, 2021', 'December 31, 2020', 'November 30, 2020',\n",
    "        'October 31, 2020', 'September 30, 2020', 'August 31, 2020', 'July 31, 2020', 'June 30, 2020', 'May 31, 2020',\n",
    "        'April 30, 2020', 'March 31, 2020', 'February 29, 2020'\n",
    "    ],\n",
    "    'Value': [\n",
    "        '3.80%', '3.90%', '3.70%', '3.70%', '3.70%', '3.80%', '3.80%', '3.80%', '3.50%', '3.60%', '3.70%', '3.40%',\n",
    "        '3.50%', '3.60%', '3.40%', '3.50%', '3.60%', '3.60%', '3.50%', '3.60%', '3.50%', '3.60%', '3.60%', '3.70%',\n",
    "        '3.60%', '3.80%', '4.00%', '3.90%', '4.20%', '4.50%', '4.80%', '5.20%', '5.40%', '5.90%', '5.80%', '6.10%',\n",
    "        '6.10%', '6.20%', '6.30%', '6.70%', '6.70%', '6.90%', '7.90%', '8.40%', '10.20%', '11.00%', '13.20%', '14.70%',\n",
    "        '4.40%', '3.50%'\n",
    "    ]\n",
    "}\n",
    "\n",
    "# Creating the DataFrame\n",
    "dfunemploymentrate = pd.DataFrame(data_unemployment_rate)\n",
    "\n",
    "# Convert the 'Date' column to datetime format\n",
    "dfunemploymentrate['Date'] = pd.to_datetime(dfunemploymentrate['Date'])\n",
    "\n",
    "# Displaying the DataFrame\n",
    "print(dfunemploymentrate)\n"
   ]
  },
  {
   "cell_type": "markdown",
   "metadata": {},
   "source": []
  },
  {
   "cell_type": "code",
   "execution_count": 173,
   "metadata": {},
   "outputs": [
    {
     "name": "stdout",
     "output_type": "stream",
     "text": [
      "         Date Value_realgdp  Value_potentialgdp_growth_rate  \\\n",
      "0  2022-01-31           NaN                             NaN   \n",
      "1  2022-02-28           NaN                             NaN   \n",
      "2  2022-03-31        -2.00%                        0.458716   \n",
      "3  2022-04-30           NaN                             NaN   \n",
      "4  2022-05-31           NaN                             NaN   \n",
      "5  2022-06-30        -0.60%                        0.405885   \n",
      "6  2022-07-31           NaN                             NaN   \n",
      "7  2022-08-31           NaN                             NaN   \n",
      "8  2022-09-30         2.70%                        0.454775   \n",
      "9  2022-10-31           NaN                             NaN   \n",
      "10 2022-11-30           NaN                             NaN   \n",
      "11 2022-12-31         2.60%                        0.452716   \n",
      "12 2023-01-31           NaN                             NaN   \n",
      "13 2023-02-28           NaN                             NaN   \n",
      "14 2023-03-31         2.20%                        0.450676   \n",
      "15 2023-04-30           NaN                             NaN   \n",
      "16 2023-05-31           NaN                             NaN   \n",
      "17 2023-06-30         2.10%                        0.448654   \n",
      "18 2023-07-31           NaN                             NaN   \n",
      "19 2023-08-31           NaN                             NaN   \n",
      "20 2023-09-30         4.90%                        0.446650   \n",
      "21 2023-10-31           NaN                             NaN   \n",
      "22 2023-11-30           NaN                             NaN   \n",
      "23 2023-12-31         3.40%                        0.444664   \n",
      "24 2024-01-31           NaN                             NaN   \n",
      "25 2024-02-29           NaN                             NaN   \n",
      "26 2024-03-31           NaN                        0.491884   \n",
      "27 2024-04-30           NaN                             NaN   \n",
      "28 2024-05-31           NaN                             NaN   \n",
      "29 2024-06-30           NaN                        0.440529   \n",
      "30 2024-07-31           NaN                             NaN   \n",
      "31 2024-08-31           NaN                             NaN   \n",
      "32 2024-09-30           NaN                        0.487329   \n",
      "33 2024-10-31           NaN                             NaN   \n",
      "34 2024-11-30           NaN                             NaN   \n",
      "35 2024-12-31           NaN                        0.436469   \n",
      "\n",
      "   Value_unemploymentrate  \n",
      "0                   4.00%  \n",
      "1                   3.80%  \n",
      "2                   3.60%  \n",
      "3                   3.70%  \n",
      "4                   3.60%  \n",
      "5                   3.60%  \n",
      "6                   3.50%  \n",
      "7                   3.60%  \n",
      "8                   3.50%  \n",
      "9                   3.60%  \n",
      "10                  3.60%  \n",
      "11                  3.50%  \n",
      "12                  3.40%  \n",
      "13                  3.60%  \n",
      "14                  3.50%  \n",
      "15                  3.40%  \n",
      "16                  3.70%  \n",
      "17                  3.60%  \n",
      "18                  3.50%  \n",
      "19                  3.80%  \n",
      "20                  3.80%  \n",
      "21                  3.80%  \n",
      "22                  3.70%  \n",
      "23                  3.70%  \n",
      "24                  3.70%  \n",
      "25                  3.90%  \n",
      "26                  3.80%  \n",
      "27                    NaN  \n",
      "28                    NaN  \n",
      "29                    NaN  \n",
      "30                    NaN  \n",
      "31                    NaN  \n",
      "32                    NaN  \n",
      "33                    NaN  \n",
      "34                    NaN  \n",
      "35                    NaN  \n"
     ]
    }
   ],
   "source": [
    "import pandas as pd\n",
    "\n",
    "# Generate the monthly time span\n",
    "date_range = pd.date_range(start='2022-01-01', end='2025-01-01', freq='M')\n",
    "time_span = pd.DataFrame({'Date': date_range})\n",
    "\n",
    "# Select data for each DataFrame to fill the new DataFrame\n",
    "# Assuming dfrealgdp, dfpotentialgdp_merged, and dfunemploymentrate are already defined\n",
    "df_realgdp_selected = dfrealgdp[dfrealgdp['Date'].isin(date_range)].rename(columns={'Value': 'Value_realgdp'})\n",
    "df_potentialgdp_selected = dfpotentialgdp_merged[dfpotentialgdp_merged['Date'].isin(date_range)].rename(columns={'Value': 'Value_potentialgdp_growth_rate'})\n",
    "df_unemploymentrate_selected = dfunemploymentrate[dfunemploymentrate['Date'].isin(date_range)].rename(columns={'Value': 'Value_unemploymentrate'})\n",
    "\n",
    "# Merge the selected data into the new DataFrame\n",
    "merged_df = time_span.merge(df_realgdp_selected, on='Date', how='left')\n",
    "merged_df = merged_df.merge(df_potentialgdp_selected, on='Date', how='left')\n",
    "merged_df = merged_df.merge(df_unemploymentrate_selected, on='Date', how='left')\n",
    "\n",
    "# Display the DataFrame\n",
    "print(merged_df)\n"
   ]
  },
  {
   "cell_type": "markdown",
   "metadata": {},
   "source": []
  },
  {
   "cell_type": "code",
   "execution_count": 174,
   "metadata": {},
   "outputs": [
    {
     "data": {
      "image/png": "[encoded data removed]",
      "text/plain": [
       "<Figure size 1200x600 with 1 Axes>"
      ]
     },
     "metadata": {},
     "output_type": "display_data"
    }
   ],
   "source": [
    "import pandas as pd\n",
    "import matplotlib.pyplot as plt\n",
    "\n",
    "# Assuming dfrealgdp, dfpotentialgdp_merged, and dfunemploymentrate are already defined\n",
    "\n",
    "# Generate the monthly time span\n",
    "date_range = pd.date_range(start='2022-01-01', end='2025-01-01', freq='M')\n",
    "time_span = pd.DataFrame({'Date': date_range})\n",
    "\n",
    "# Select data for each DataFrame to fill the new DataFrame\n",
    "df_realgdp_selected = dfrealgdp[dfrealgdp['Date'].isin(date_range)].rename(columns={'Value': 'Value_realgdp'})\n",
    "df_potentialgdp_selected = dfpotentialgdp_merged[dfpotentialgdp_merged['Date'].isin(date_range)].rename(columns={'Value': 'Value_potentialgdp_growth_rate'})\n",
    "df_unemploymentrate_selected = dfunemploymentrate[dfunemploymentrate['Date'].isin(date_range)].rename(columns={'Value': 'Value_unemploymentrate'})\n",
    "\n",
    "# Merge the selected data into the new DataFrame\n",
    "merged_df = time_span.merge(df_realgdp_selected, on='Date', how='left')\n",
    "merged_df = merged_df.merge(df_potentialgdp_selected, on='Date', how='left')\n",
    "merged_df = merged_df.merge(df_unemploymentrate_selected, on='Date', how='left')\n",
    "\n",
    "# Convert columns to numeric type\n",
    "merged_df['Value_realgdp'] = pd.to_numeric(merged_df['Value_realgdp'].str.rstrip('%'), errors='coerce')\n",
    "\n",
    "# Convert 'Value_potentialgdp_growth_rate' column to numeric type, handling non-string values separately\n",
    "merged_df['Value_potentialgdp_growth_rate'] = pd.to_numeric(merged_df['Value_potentialgdp_growth_rate'], errors='coerce')\n",
    "\n",
    "# Convert 'Value_unemploymentrate' column to numeric type\n",
    "merged_df['Value_unemploymentrate'] = pd.to_numeric(merged_df['Value_unemploymentrate'].str.rstrip('%'), errors='coerce')\n",
    "\n",
    "# Plot the data\n",
    "plt.figure(figsize=(12, 6))\n",
    "plt.plot(merged_df['Date'], merged_df['Value_realgdp'], label='Real GDP', marker='o')\n",
    "plt.plot(merged_df['Date'], merged_df['Value_potentialgdp_growth_rate'], label='Potential GDP Growth Rate', marker='o')\n",
    "plt.plot(merged_df['Date'], merged_df['Value_unemploymentrate'], label='Unemployment Rate', marker='o')\n",
    "plt.xlabel('Date')\n",
    "plt.ylabel('Value')\n",
    "plt.title('Dynamic Chart')\n",
    "plt.legend()\n",
    "plt.xticks(rotation=45)\n",
    "plt.tight_layout()\n",
    "plt.show()\n"
   ]
  },
  {
   "cell_type": "markdown",
   "metadata": {},
   "source": []
  },
  {
   "cell_type": "code",
   "execution_count": 175,
   "metadata": {},
   "outputs": [
    {
     "name": "stderr",
     "output_type": "stream",
     "text": [
      "c:\\ProgramData\\anaconda3\\Lib\\site-packages\\_plotly_utils\\basevalidators.py:106: FutureWarning:\n",
      "\n",
      "The behavior of DatetimeProperties.to_pydatetime is deprecated, in a future version this will return a Series containing python datetime objects instead of an ndarray. To retain the old behavior, call `np.array` on the result\n",
      "\n"
     ]
    },
    {
     "data": {
      "application/vnd.plotly.v1+json": {
       "config": {
        "plotlyServerURL": "https://plot.ly"
       },
       "data": [
        {
         "mode": "lines+markers",
         "name": "Real GDP",
         "type": "scatter",
         "x": [
          "2022-01-31T00:00:00",
          "2022-02-28T00:00:00",
          "2022-03-31T00:00:00",
          "2022-04-30T00:00:00",
          "2022-05-31T00:00:00",
          "2022-06-30T00:00:00",
          "2022-07-31T00:00:00",
          "2022-08-31T00:00:00",
          "2022-09-30T00:00:00",
          "2022-10-31T00:00:00",
          "2022-11-30T00:00:00",
          "2022-12-31T00:00:00",
          "2023-01-31T00:00:00",
          "2023-02-28T00:00:00",
          "2023-03-31T00:00:00",
          "2023-04-30T00:00:00",
          "2023-05-31T00:00:00",
          "2023-06-30T00:00:00",
          "2023-07-31T00:00:00",
          "2023-08-31T00:00:00",
          "2023-09-30T00:00:00",
          "2023-10-31T00:00:00",
          "2023-11-30T00:00:00",
          "2023-12-31T00:00:00",
          "2024-01-31T00:00:00",
          "2024-02-29T00:00:00",
          "2024-03-31T00:00:00",
          "2024-04-30T00:00:00",
          "2024-05-31T00:00:00",
          "2024-06-30T00:00:00",
          "2024-07-31T00:00:00",
          "2024-08-31T00:00:00",
          "2024-09-30T00:00:00",
          "2024-10-31T00:00:00",
          "2024-11-30T00:00:00",
          "2024-12-31T00:00:00"
         ],
         "y": [
          null,
          null,
          -2,
          null,
          null,
          -0.6,
          null,
          null,
          2.7,
          null,
          null,
          2.6,
          null,
          null,
          2.2,
          null,
          null,
          2.1,
          null,
          null,
          4.9,
          null,
          null,
          3.4,
          null,
          null,
          null,
          null,
          null,
          null,
          null,
          null,
          null,
          null,
          null,
          null
         ]
        },
        {
         "mode": "lines+markers",
         "name": "Potential GDP Growth Rate",
         "type": "scatter",
         "x": [
          "2022-01-31T00:00:00",
          "2022-02-28T00:00:00",
          "2022-03-31T00:00:00",
          "2022-04-30T00:00:00",
          "2022-05-31T00:00:00",
          "2022-06-30T00:00:00",
          "2022-07-31T00:00:00",
          "2022-08-31T00:00:00",
          "2022-09-30T00:00:00",
          "2022-10-31T00:00:00",
          "2022-11-30T00:00:00",
          "2022-12-31T00:00:00",
          "2023-01-31T00:00:00",
          "2023-02-28T00:00:00",
          "2023-03-31T00:00:00",
          "2023-04-30T00:00:00",
          "2023-05-31T00:00:00",
          "2023-06-30T00:00:00",
          "2023-07-31T00:00:00",
          "2023-08-31T00:00:00",
          "2023-09-30T00:00:00",
          "2023-10-31T00:00:00",
          "2023-11-30T00:00:00",
          "2023-12-31T00:00:00",
          "2024-01-31T00:00:00",
          "2024-02-29T00:00:00",
          "2024-03-31T00:00:00",
          "2024-04-30T00:00:00",
          "2024-05-31T00:00:00",
          "2024-06-30T00:00:00",
          "2024-07-31T00:00:00",
          "2024-08-31T00:00:00",
          "2024-09-30T00:00:00",
          "2024-10-31T00:00:00",
          "2024-11-30T00:00:00",
          "2024-12-31T00:00:00"
         ],
         "y": [
          null,
          null,
          0.4587155963302836,
          null,
          null,
          0.4058853373921867,
          null,
          null,
          0.45477513895906263,
          null,
          null,
          0.45271629778671496,
          null,
          null,
          0.4506760140210231,
          null,
          null,
          0.4486540378863424,
          null,
          null,
          0.4466501240694809,
          null,
          null,
          0.44466403162055634,
          null,
          null,
          0.4918839153959631,
          null,
          null,
          0.4405286343612369,
          null,
          null,
          0.4873294346978696,
          null,
          null,
          0.43646944713870983
         ]
        },
        {
         "mode": "lines+markers",
         "name": "Unemployment Rate",
         "type": "scatter",
         "x": [
          "2022-01-31T00:00:00",
          "2022-02-28T00:00:00",
          "2022-03-31T00:00:00",
          "2022-04-30T00:00:00",
          "2022-05-31T00:00:00",
          "2022-06-30T00:00:00",
          "2022-07-31T00:00:00",
          "2022-08-31T00:00:00",
          "2022-09-30T00:00:00",
          "2022-10-31T00:00:00",
          "2022-11-30T00:00:00",
          "2022-12-31T00:00:00",
          "2023-01-31T00:00:00",
          "2023-02-28T00:00:00",
          "2023-03-31T00:00:00",
          "2023-04-30T00:00:00",
          "2023-05-31T00:00:00",
          "2023-06-30T00:00:00",
          "2023-07-31T00:00:00",
          "2023-08-31T00:00:00",
          "2023-09-30T00:00:00",
          "2023-10-31T00:00:00",
          "2023-11-30T00:00:00",
          "2023-12-31T00:00:00",
          "2024-01-31T00:00:00",
          "2024-02-29T00:00:00",
          "2024-03-31T00:00:00",
          "2024-04-30T00:00:00",
          "2024-05-31T00:00:00",
          "2024-06-30T00:00:00",
          "2024-07-31T00:00:00",
          "2024-08-31T00:00:00",
          "2024-09-30T00:00:00",
          "2024-10-31T00:00:00",
          "2024-11-30T00:00:00",
          "2024-12-31T00:00:00"
         ],
         "y": [
          4,
          3.8,
          3.6,
          3.7,
          3.6,
          3.6,
          3.5,
          3.6,
          3.5,
          3.6,
          3.6,
          3.5,
          3.4,
          3.6,
          3.5,
          3.4,
          3.7,
          3.6,
          3.5,
          3.8,
          3.8,
          3.8,
          3.7,
          3.7,
          3.7,
          3.9,
          3.8,
          null,
          null,
          null,
          null,
          null,
          null,
          null,
          null,
          null
         ]
        }
       ],
       "layout": {
        "template": {
         "data": {
          "bar": [
           {
            "error_x": {
             "color": "#2a3f5f"
            },
            "error_y": {
             "color": "#2a3f5f"
            },
            "marker": {
             "line": {
              "color": "#E5ECF6",
              "width": 0.5
             },
             "pattern": {
              "fillmode": "overlay",
              "size": 10,
              "solidity": 0.2
             }
            },
            "type": "bar"
           }
          ],
          "barpolar": [
           {
            "marker": {
             "line": {
              "color": "#E5ECF6",
              "width": 0.5
             },
             "pattern": {
              "fillmode": "overlay",
              "size": 10,
              "solidity": 0.2
             }
            },
            "type": "barpolar"
           }
          ],
          "carpet": [
           {
            "aaxis": {
             "endlinecolor": "#2a3f5f",
             "gridcolor": "white",
             "linecolor": "white",
             "minorgridcolor": "white",
             "startlinecolor": "#2a3f5f"
            },
            "baxis": {
             "endlinecolor": "#2a3f5f",
             "gridcolor": "white",
             "linecolor": "white",
             "minorgridcolor": "white",
             "startlinecolor": "#2a3f5f"
            },
            "type": "carpet"
           }
          ],
          "choropleth": [
           {
            "colorbar": {
             "outlinewidth": 0,
             "ticks": ""
            },
            "type": "choropleth"
           }
          ],
          "contour": [
           {
            "colorbar": {
             "outlinewidth": 0,
             "ticks": ""
            },
            "colorscale": [
             [
              0,
              "#0d0887"
             ],
             [
              0.1111111111111111,
              "#46039f"
             ],
             [
              0.2222222222222222,
              "#7201a8"
             ],
             [
              0.3333333333333333,
              "#9c179e"
             ],
             [
              0.4444444444444444,
              "#bd3786"
             ],
             [
              0.5555555555555556,
              "#d8576b"
             ],
             [
              0.6666666666666666,
              "#ed7953"
             ],
             [
              0.7777777777777778,
              "#fb9f3a"
             ],
             [
              0.8888888888888888,
              "#fdca26"
             ],
             [
              1,
              "#f0f921"
             ]
            ],
            "type": "contour"
           }
          ],
          "contourcarpet": [
           {
            "colorbar": {
             "outlinewidth": 0,
             "ticks": ""
            },
            "type": "contourcarpet"
           }
          ],
          "heatmap": [
           {
            "colorbar": {
             "outlinewidth": 0,
             "ticks": ""
            },
            "colorscale": [
             [
              0,
              "#0d0887"
             ],
             [
              0.1111111111111111,
              "#46039f"
             ],
             [
              0.2222222222222222,
              "#7201a8"
             ],
             [
              0.3333333333333333,
              "#9c179e"
             ],
             [
              0.4444444444444444,
              "#bd3786"
             ],
             [
              0.5555555555555556,
              "#d8576b"
             ],
             [
              0.6666666666666666,
              "#ed7953"
             ],
             [
              0.7777777777777778,
              "#fb9f3a"
             ],
             [
              0.8888888888888888,
              "#fdca26"
             ],
             [
              1,
              "#f0f921"
             ]
            ],
            "type": "heatmap"
           }
          ],
          "heatmapgl": [
           {
            "colorbar": {
             "outlinewidth": 0,
             "ticks": ""
            },
            "colorscale": [
             [
              0,
              "#0d0887"
             ],
             [
              0.1111111111111111,
              "#46039f"
             ],
             [
              0.2222222222222222,
              "#7201a8"
             ],
             [
              0.3333333333333333,
              "#9c179e"
             ],
             [
              0.4444444444444444,
              "#bd3786"
             ],
             [
              0.5555555555555556,
              "#d8576b"
             ],
             [
              0.6666666666666666,
              "#ed7953"
             ],
             [
              0.7777777777777778,
              "#fb9f3a"
             ],
             [
              0.8888888888888888,
              "#fdca26"
             ],
             [
              1,
              "#f0f921"
             ]
            ],
            "type": "heatmapgl"
           }
          ],
          "histogram": [
           {
            "marker": {
             "pattern": {
              "fillmode": "overlay",
              "size": 10,
              "solidity": 0.2
             }
            },
            "type": "histogram"
           }
          ],
          "histogram2d": [
           {
            "colorbar": {
             "outlinewidth": 0,
             "ticks": ""
            },
            "colorscale": [
             [
              0,
              "#0d0887"
             ],
             [
              0.1111111111111111,
              "#46039f"
             ],
             [
              0.2222222222222222,
              "#7201a8"
             ],
             [
              0.3333333333333333,
              "#9c179e"
             ],
             [
              0.4444444444444444,
              "#bd3786"
             ],
             [
              0.5555555555555556,
              "#d8576b"
             ],
             [
              0.6666666666666666,
              "#ed7953"
             ],
             [
              0.7777777777777778,
              "#fb9f3a"
             ],
             [
              0.8888888888888888,
              "#fdca26"
             ],
             [
              1,
              "#f0f921"
             ]
            ],
            "type": "histogram2d"
           }
          ],
          "histogram2dcontour": [
           {
            "colorbar": {
             "outlinewidth": 0,
             "ticks": ""
            },
            "colorscale": [
             [
              0,
              "#0d0887"
             ],
             [
              0.1111111111111111,
              "#46039f"
             ],
             [
              0.2222222222222222,
              "#7201a8"
             ],
             [
              0.3333333333333333,
              "#9c179e"
             ],
             [
              0.4444444444444444,
              "#bd3786"
             ],
             [
              0.5555555555555556,
              "#d8576b"
             ],
             [
              0.6666666666666666,
              "#ed7953"
             ],
             [
              0.7777777777777778,
              "#fb9f3a"
             ],
             [
              0.8888888888888888,
              "#fdca26"
             ],
             [
              1,
              "#f0f921"
             ]
            ],
            "type": "histogram2dcontour"
           }
          ],
          "mesh3d": [
           {
            "colorbar": {
             "outlinewidth": 0,
             "ticks": ""
            },
            "type": "mesh3d"
           }
          ],
          "parcoords": [
           {
            "line": {
             "colorbar": {
              "outlinewidth": 0,
              "ticks": ""
             }
            },
            "type": "parcoords"
           }
          ],
          "pie": [
           {
            "automargin": true,
            "type": "pie"
           }
          ],
          "scatter": [
           {
            "fillpattern": {
             "fillmode": "overlay",
             "size": 10,
             "solidity": 0.2
            },
            "type": "scatter"
           }
          ],
          "scatter3d": [
           {
            "line": {
             "colorbar": {
              "outlinewidth": 0,
              "ticks": ""
             }
            },
            "marker": {
             "colorbar": {
              "outlinewidth": 0,
              "ticks": ""
             }
            },
            "type": "scatter3d"
           }
          ],
          "scattercarpet": [
           {
            "marker": {
             "colorbar": {
              "outlinewidth": 0,
              "ticks": ""
             }
            },
            "type": "scattercarpet"
           }
          ],
          "scattergeo": [
           {
            "marker": {
             "colorbar": {
              "outlinewidth": 0,
              "ticks": ""
             }
            },
            "type": "scattergeo"
           }
          ],
          "scattergl": [
           {
            "marker": {
             "colorbar": {
              "outlinewidth": 0,
              "ticks": ""
             }
            },
            "type": "scattergl"
           }
          ],
          "scattermapbox": [
           {
            "marker": {
             "colorbar": {
              "outlinewidth": 0,
              "ticks": ""
             }
            },
            "type": "scattermapbox"
           }
          ],
          "scatterpolar": [
           {
            "marker": {
             "colorbar": {
              "outlinewidth": 0,
              "ticks": ""
             }
            },
            "type": "scatterpolar"
           }
          ],
          "scatterpolargl": [
           {
            "marker": {
             "colorbar": {
              "outlinewidth": 0,
              "ticks": ""
             }
            },
            "type": "scatterpolargl"
           }
          ],
          "scatterternary": [
           {
            "marker": {
             "colorbar": {
              "outlinewidth": 0,
              "ticks": ""
             }
            },
            "type": "scatterternary"
           }
          ],
          "surface": [
           {
            "colorbar": {
             "outlinewidth": 0,
             "ticks": ""
            },
            "colorscale": [
             [
              0,
              "#0d0887"
             ],
             [
              0.1111111111111111,
              "#46039f"
             ],
             [
              0.2222222222222222,
              "#7201a8"
             ],
             [
              0.3333333333333333,
              "#9c179e"
             ],
             [
              0.4444444444444444,
              "#bd3786"
             ],
             [
              0.5555555555555556,
              "#d8576b"
             ],
             [
              0.6666666666666666,
              "#ed7953"
             ],
             [
              0.7777777777777778,
              "#fb9f3a"
             ],
             [
              0.8888888888888888,
              "#fdca26"
             ],
             [
              1,
              "#f0f921"
             ]
            ],
            "type": "surface"
           }
          ],
          "table": [
           {
            "cells": {
             "fill": {
              "color": "#EBF0F8"
             },
             "line": {
              "color": "white"
             }
            },
            "header": {
             "fill": {
              "color": "#C8D4E3"
             },
             "line": {
              "color": "white"
             }
            },
            "type": "table"
           }
          ]
         },
         "layout": {
          "annotationdefaults": {
           "arrowcolor": "#2a3f5f",
           "arrowhead": 0,
           "arrowwidth": 1
          },
          "autotypenumbers": "strict",
          "coloraxis": {
           "colorbar": {
            "outlinewidth": 0,
            "ticks": ""
           }
          },
          "colorscale": {
           "diverging": [
            [
             0,
             "#8e0152"
            ],
            [
             0.1,
             "#c51b7d"
            ],
            [
             0.2,
             "#de77ae"
            ],
            [
             0.3,
             "#f1b6da"
            ],
            [
             0.4,
             "#fde0ef"
            ],
            [
             0.5,
             "#f7f7f7"
            ],
            [
             0.6,
             "#e6f5d0"
            ],
            [
             0.7,
             "#b8e186"
            ],
            [
             0.8,
             "#7fbc41"
            ],
            [
             0.9,
             "#4d9221"
            ],
            [
             1,
             "#276419"
            ]
           ],
           "sequential": [
            [
             0,
             "#0d0887"
            ],
            [
             0.1111111111111111,
             "#46039f"
            ],
            [
             0.2222222222222222,
             "#7201a8"
            ],
            [
             0.3333333333333333,
             "#9c179e"
            ],
            [
             0.4444444444444444,
             "#bd3786"
            ],
            [
             0.5555555555555556,
             "#d8576b"
            ],
            [
             0.6666666666666666,
             "#ed7953"
            ],
            [
             0.7777777777777778,
             "#fb9f3a"
            ],
            [
             0.8888888888888888,
             "#fdca26"
            ],
            [
             1,
             "#f0f921"
            ]
           ],
           "sequentialminus": [
            [
             0,
             "#0d0887"
            ],
            [
             0.1111111111111111,
             "#46039f"
            ],
            [
             0.2222222222222222,
             "#7201a8"
            ],
            [
             0.3333333333333333,
             "#9c179e"
            ],
            [
             0.4444444444444444,
             "#bd3786"
            ],
            [
             0.5555555555555556,
             "#d8576b"
            ],
            [
             0.6666666666666666,
             "#ed7953"
            ],
            [
             0.7777777777777778,
             "#fb9f3a"
            ],
            [
             0.8888888888888888,
             "#fdca26"
            ],
            [
             1,
             "#f0f921"
            ]
           ]
          },
          "colorway": [
           "#636efa",
           "#EF553B",
           "#00cc96",
           "#ab63fa",
           "#FFA15A",
           "#19d3f3",
           "#FF6692",
           "#B6E880",
           "#FF97FF",
           "#FECB52"
          ],
          "font": {
           "color": "#2a3f5f"
          },
          "geo": {
           "bgcolor": "white",
           "lakecolor": "white",
           "landcolor": "#E5ECF6",
           "showlakes": true,
           "showland": true,
           "subunitcolor": "white"
          },
          "hoverlabel": {
           "align": "left"
          },
          "hovermode": "closest",
          "mapbox": {
           "style": "light"
          },
          "paper_bgcolor": "white",
          "plot_bgcolor": "#E5ECF6",
          "polar": {
           "angularaxis": {
            "gridcolor": "white",
            "linecolor": "white",
            "ticks": ""
           },
           "bgcolor": "#E5ECF6",
           "radialaxis": {
            "gridcolor": "white",
            "linecolor": "white",
            "ticks": ""
           }
          },
          "scene": {
           "xaxis": {
            "backgroundcolor": "#E5ECF6",
            "gridcolor": "white",
            "gridwidth": 2,
            "linecolor": "white",
            "showbackground": true,
            "ticks": "",
            "zerolinecolor": "white"
           },
           "yaxis": {
            "backgroundcolor": "#E5ECF6",
            "gridcolor": "white",
            "gridwidth": 2,
            "linecolor": "white",
            "showbackground": true,
            "ticks": "",
            "zerolinecolor": "white"
           },
           "zaxis": {
            "backgroundcolor": "#E5ECF6",
            "gridcolor": "white",
            "gridwidth": 2,
            "linecolor": "white",
            "showbackground": true,
            "ticks": "",
            "zerolinecolor": "white"
           }
          },
          "shapedefaults": {
           "line": {
            "color": "#2a3f5f"
           }
          },
          "ternary": {
           "aaxis": {
            "gridcolor": "white",
            "linecolor": "white",
            "ticks": ""
           },
           "baxis": {
            "gridcolor": "white",
            "linecolor": "white",
            "ticks": ""
           },
           "bgcolor": "#E5ECF6",
           "caxis": {
            "gridcolor": "white",
            "linecolor": "white",
            "ticks": ""
           }
          },
          "title": {
           "x": 0.05
          },
          "xaxis": {
           "automargin": true,
           "gridcolor": "white",
           "linecolor": "white",
           "ticks": "",
           "title": {
            "standoff": 15
           },
           "zerolinecolor": "white",
           "zerolinewidth": 2
          },
          "yaxis": {
           "automargin": true,
           "gridcolor": "white",
           "linecolor": "white",
           "ticks": "",
           "title": {
            "standoff": 15
           },
           "zerolinecolor": "white",
           "zerolinewidth": 2
          }
         }
        },
        "title": {
         "text": "Dynamic Chart"
        },
        "xaxis": {
         "title": {
          "text": "Date"
         }
        },
        "yaxis": {
         "title": {
          "text": "Value"
         }
        }
       }
      }
     },
     "metadata": {},
     "output_type": "display_data"
    }
   ],
   "source": [
    "import pandas as pd\n",
    "import plotly.graph_objects as go\n",
    "\n",
    "# Assuming dfrealgdp, dfpotentialgdp_merged, and dfunemploymentrate are already defined\n",
    "\n",
    "# Generate the monthly time span\n",
    "date_range = pd.date_range(start='2022-01-01', end='2025-01-01', freq='M')\n",
    "\n",
    "# Select data for each DataFrame to fill the new DataFrame\n",
    "df_realgdp_selected = dfrealgdp[dfrealgdp['Date'].isin(date_range)].rename(columns={'Value': 'Value_realgdp'})\n",
    "df_potentialgdp_selected = dfpotentialgdp_merged[dfpotentialgdp_merged['Date'].isin(date_range)].rename(columns={'Value': 'Value_potentialgdp_growth_rate'})\n",
    "df_unemploymentrate_selected = dfunemploymentrate[dfunemploymentrate['Date'].isin(date_range)].rename(columns={'Value': 'Value_unemploymentrate'})\n",
    "\n",
    "# Merge the selected data into the new DataFrame\n",
    "merged_df = pd.merge(time_span, df_realgdp_selected, on='Date', how='left')\n",
    "merged_df = pd.merge(merged_df, df_potentialgdp_selected, on='Date', how='left')\n",
    "merged_df = pd.merge(merged_df, df_unemploymentrate_selected, on='Date', how='left')\n",
    "\n",
    "# Convert columns to numeric type\n",
    "merged_df['Value_realgdp'] = pd.to_numeric(merged_df['Value_realgdp'].str.rstrip('%'), errors='coerce')\n",
    "merged_df['Value_potentialgdp_growth_rate'] = pd.to_numeric(merged_df['Value_potentialgdp_growth_rate'], errors='coerce')\n",
    "merged_df['Value_unemploymentrate'] = pd.to_numeric(merged_df['Value_unemploymentrate'].str.rstrip('%'), errors='coerce')\n",
    "\n",
    "# Create traces for each line\n",
    "fig = go.Figure()\n",
    "\n",
    "fig.add_trace(go.Scatter(x=merged_df['Date'], y=merged_df['Value_realgdp'], mode='lines+markers', name='Real GDP'))\n",
    "fig.add_trace(go.Scatter(x=merged_df['Date'], y=merged_df['Value_potentialgdp_growth_rate'], mode='lines+markers', name='Potential GDP Growth Rate'))\n",
    "fig.add_trace(go.Scatter(x=merged_df['Date'], y=merged_df['Value_unemploymentrate'], mode='lines+markers', name='Unemployment Rate'))\n",
    "\n",
    "# Update layout\n",
    "fig.update_layout(title='Dynamic Chart', xaxis_title='Date', yaxis_title='Value')\n",
    "\n",
    "# Show plot\n",
    "fig.show()\n"
   ]
  },
  {
   "cell_type": "markdown",
   "metadata": {},
   "source": [
    "To calculate the implied employment rate using the AD-AS framework, you would typically start with understanding the relationship between GDP and employment. A common approach is to use Okun's Law, which provides a rough estimate of how changes in unemployment relate to GDP growth. While not a direct part of the AD-AS model, Okun's Law can serve as a bridge between changes in GDP (which the AD-AS model can help predict) and changes in the unemployment rate.\n",
    "\n",
    "**Okun's Law Formula:**\n",
    "\\[ \\Delta U = k - c \\Delta Y \\]\n",
    "\n",
    "Where:\n",
    "- \\( \\Delta U \\) is the change in the unemployment rate.\n",
    "- \\( k \\) is a constant that represents the normal rate of growth in the labor force plus the normal rate of increase in labor productivity.\n",
    "- \\( c \\) is the Okun's coefficient (usually around 2 for the United States, but it can vary by country and over time).\n",
    "- \\( \\Delta Y \\) is the percentage change in real GDP.\n",
    "\n",
    "This formula suggests that if real GDP grows at a rate faster than the normal rate (captured by \\( k \\)), unemployment will decrease (implying an increase in the employment rate).\n",
    "\n",
    "To apply this in practice, you would need:\n",
    "1. **Current and historical unemployment rates**\n",
    "2. **Current and historical real GDP growth rates**\n",
    "\n",
    "To obtain these datasets for the United States, you can visit the following sources:\n",
    "\n",
    "1. **For Unemployment Rates:**\n",
    "   - **U.S. Bureau of Labor Statistics (BLS):** They provide monthly and annual data on unemployment rates. Visit their official website and navigate to the Labor Force Statistics section.\n",
    "     - Website: [https://www.bls.gov](https://www.bls.gov)\n",
    "\n",
    "2. **For Real GDP Growth Rates:**\n",
    "   - **U.S. Bureau of Economic Analysis (BEA):** They publish quarterly and annual growth rates of real GDP. You can find these statistics in the National Data section on their website.\n",
    "     - Website: [https://www.bea.gov](https://www.bea.gov)\n",
    "\n",
    "These sources are official and regularly updated, making them reliable for economic analysis. Remember, while Okun's Law provides a straightforward way to relate GDP changes to unemployment, it's an approximation and assumes all other factors are constant, which is rarely the case in a dynamic economy."
   ]
  },
  {
   "cell_type": "markdown",
   "metadata": {},
   "source": [
    "To calculate the intrinsic unemployment rate using Okun's Law and highlight the gap between intrinsic and actual values, we need to follow these steps:\n",
    "\n",
    "1. Obtain historical data for unemployment rates and real GDP growth rates.\n",
    "2. Calculate the change in unemployment rate (∆U) using Okun's Law formula.\n",
    "3. Determine the normal rate of growth in the labor force plus the normal rate of increase in labor productivity (k).\n",
    "4. Determine the Okun's coefficient (c).\n",
    "5. Calculate the percentage change in real GDP (∆Y).\n",
    "6. Apply the Okun's Law formula to calculate ∆U.\n",
    "7. Calculate the implied employment rate using the formula: Employment Rate = 100% - Unemployment Rate.\n",
    "8. Plot the actual unemployment rate and the calculated intrinsic unemployment rate over time, highlighting the gap between them.\n",
    "\n",
    "Since we don't have access to the actual historical data for unemployment rates and real GDP growth rates, we can't perform the calculations in this environment. However, I can provide you with a general Python code framework that demonstrates how to calculate and visualize the intrinsic unemployment rate using Okun's Law. You would need to replace the placeholder data with actual historical data from reliable sources such as the U.S. Bureau of Labor Statistics (BLS) and the U.S. Bureau of Economic Analysis (BEA).\n",
    "\n"
   ]
  },
  {
   "cell_type": "markdown",
   "metadata": {},
   "source": [
    "Certainly! Estimating the values of `k` and `c` for Okun's Law typically involves empirical analysis and may vary depending on the specific economic conditions and time period. However, I can provide you with typical ranges for these coefficients based on historical data and economic research.\n",
    "\n",
    "1. **Normal Rate of Growth in the Labor Force plus Normal Rate of Increase in Labor Productivity (k):**\n",
    "   - The normal rate of growth in the labor force plus the normal rate of increase in labor productivity (k) can vary depending on the country, economic conditions, and time period.\n",
    "   - In the United States, historical values for k have ranged between 1.5% to 3.0%.\n",
    "   - A value of around 2.0% is commonly used as a starting point.\n",
    "\n",
    "2. **Okun's Coefficient (c):**\n",
    "   - Okun's coefficient (c) represents the relationship between changes in GDP growth and changes in the unemployment rate.\n",
    "   - Empirical estimates of c for the United States have ranged between 1.5 to 2.5.\n",
    "   - A common value used for c is around 2.0, indicating that a 1% increase in GDP above the normal rate would lead to a 2% decrease in the unemployment rate.\n",
    "\n",
    "These are general guidelines, and the actual values of `k` and `c` may vary based on the specific economic context. It's recommended to conduct further research or consult economic literature to obtain more accurate estimates for your analysis. Additionally, sensitivity analysis can be performed to assess the impact of different values of `k` and `c` on the results."
   ]
  },
  {
   "cell_type": "code",
   "execution_count": 176,
   "metadata": {},
   "outputs": [
    {
     "name": "stderr",
     "output_type": "stream",
     "text": [
      "C:\\Users\\wjbea\\AppData\\Local\\Temp\\ipykernel_30588\\1071065745.py:29: FutureWarning:\n",
      "\n",
      "Setting an item of incompatible dtype is deprecated and will raise in a future error of pandas. Value '0%' has dtype incompatible with float64, please explicitly cast to a compatible dtype first.\n",
      "\n",
      "c:\\ProgramData\\anaconda3\\Lib\\site-packages\\_plotly_utils\\basevalidators.py:106: FutureWarning:\n",
      "\n",
      "The behavior of DatetimeProperties.to_pydatetime is deprecated, in a future version this will return a Series containing python datetime objects instead of an ndarray. To retain the old behavior, call `np.array` on the result\n",
      "\n"
     ]
    },
    {
     "data": {
      "application/vnd.plotly.v1+json": {
       "config": {
        "plotlyServerURL": "https://plot.ly"
       },
       "data": [
        {
         "mode": "lines+markers",
         "name": "Real GDP",
         "type": "scatter",
         "x": [
          null,
          null,
          "2022-03-31T00:00:00",
          null,
          null,
          "2022-06-30T00:00:00",
          null,
          null,
          "2022-09-30T00:00:00",
          null,
          null,
          "2022-12-31T00:00:00",
          null,
          null,
          "2023-03-31T00:00:00",
          null,
          null,
          "2023-06-30T00:00:00",
          null,
          null,
          "2023-09-30T00:00:00",
          null,
          null,
          "2023-12-31T00:00:00",
          null,
          null,
          null,
          null,
          null,
          null,
          null,
          null,
          null,
          null,
          null,
          null
         ],
         "y": [
          null,
          null,
          -2,
          null,
          null,
          -0.6,
          null,
          null,
          2.7,
          null,
          null,
          2.6,
          null,
          null,
          2.2,
          null,
          null,
          2.1,
          null,
          null,
          4.9,
          null,
          null,
          3.4,
          null,
          null,
          null,
          null,
          null,
          null,
          null,
          null,
          null,
          null,
          null,
          null
         ]
        },
        {
         "mode": "lines+markers",
         "name": "Potential GDP Growth Rate",
         "type": "scatter",
         "x": [
          null,
          null,
          "2022-03-31T00:00:00",
          null,
          null,
          "2022-06-30T00:00:00",
          null,
          null,
          "2022-09-30T00:00:00",
          null,
          null,
          "2022-12-31T00:00:00",
          null,
          null,
          "2023-03-31T00:00:00",
          null,
          null,
          "2023-06-30T00:00:00",
          null,
          null,
          "2023-09-30T00:00:00",
          null,
          null,
          "2023-12-31T00:00:00",
          null,
          null,
          null,
          null,
          null,
          null,
          null,
          null,
          null,
          null,
          null,
          null
         ],
         "y": [
          0,
          0,
          null,
          0,
          0,
          null,
          0,
          0,
          null,
          0,
          0,
          null,
          0,
          0,
          null,
          0,
          0,
          null,
          0,
          0,
          null,
          0,
          0,
          null,
          0,
          0,
          0,
          0,
          0,
          0,
          0,
          0,
          0,
          0,
          0,
          0
         ]
        },
        {
         "mode": "lines+markers",
         "name": "Unemployment Rate",
         "type": "scatter",
         "x": [
          null,
          null,
          "2022-03-31T00:00:00",
          null,
          null,
          "2022-06-30T00:00:00",
          null,
          null,
          "2022-09-30T00:00:00",
          null,
          null,
          "2022-12-31T00:00:00",
          null,
          null,
          "2023-03-31T00:00:00",
          null,
          null,
          "2023-06-30T00:00:00",
          null,
          null,
          "2023-09-30T00:00:00",
          null,
          null,
          "2023-12-31T00:00:00",
          null,
          null,
          null,
          null,
          null,
          null,
          null,
          null,
          null,
          null,
          null,
          null
         ],
         "y": [
          null,
          null,
          3.6,
          null,
          null,
          3.6,
          null,
          null,
          3.5,
          null,
          null,
          3.5,
          null,
          null,
          3.5,
          null,
          null,
          3.6,
          null,
          null,
          3.8,
          null,
          null,
          3.7,
          null,
          null,
          null,
          null,
          null,
          null,
          null,
          null,
          null,
          null,
          null,
          null
         ]
        },
        {
         "line": {
          "color": "orange",
          "dash": "dash"
         },
         "mode": "lines+markers",
         "name": "Implied Unemployment Rate",
         "type": "scatter",
         "x": [
          null,
          null,
          "2022-03-31T00:00:00",
          null,
          null,
          "2022-06-30T00:00:00",
          null,
          null,
          "2022-09-30T00:00:00",
          null,
          null,
          "2022-12-31T00:00:00",
          null,
          null,
          "2023-03-31T00:00:00",
          null,
          null,
          "2023-06-30T00:00:00",
          null,
          null,
          "2023-09-30T00:00:00",
          null,
          null,
          "2023-12-31T00:00:00",
          null,
          null,
          null,
          null,
          null,
          null,
          null,
          null,
          null,
          null,
          null,
          null
         ],
         "y": [
          null,
          null,
          -4.4,
          null,
          null,
          -1.6,
          null,
          null,
          4.9,
          null,
          null,
          4.7,
          null,
          null,
          3.9000000000000004,
          null,
          null,
          3.8000000000000003,
          null,
          null,
          9.600000000000001,
          null,
          null,
          6.5,
          null,
          null,
          null,
          null,
          null,
          null,
          null,
          null,
          null,
          null,
          null,
          null
         ]
        }
       ],
       "layout": {
        "template": {
         "data": {
          "bar": [
           {
            "error_x": {
             "color": "#2a3f5f"
            },
            "error_y": {
             "color": "#2a3f5f"
            },
            "marker": {
             "line": {
              "color": "#E5ECF6",
              "width": 0.5
             },
             "pattern": {
              "fillmode": "overlay",
              "size": 10,
              "solidity": 0.2
             }
            },
            "type": "bar"
           }
          ],
          "barpolar": [
           {
            "marker": {
             "line": {
              "color": "#E5ECF6",
              "width": 0.5
             },
             "pattern": {
              "fillmode": "overlay",
              "size": 10,
              "solidity": 0.2
             }
            },
            "type": "barpolar"
           }
          ],
          "carpet": [
           {
            "aaxis": {
             "endlinecolor": "#2a3f5f",
             "gridcolor": "white",
             "linecolor": "white",
             "minorgridcolor": "white",
             "startlinecolor": "#2a3f5f"
            },
            "baxis": {
             "endlinecolor": "#2a3f5f",
             "gridcolor": "white",
             "linecolor": "white",
             "minorgridcolor": "white",
             "startlinecolor": "#2a3f5f"
            },
            "type": "carpet"
           }
          ],
          "choropleth": [
           {
            "colorbar": {
             "outlinewidth": 0,
             "ticks": ""
            },
            "type": "choropleth"
           }
          ],
          "contour": [
           {
            "colorbar": {
             "outlinewidth": 0,
             "ticks": ""
            },
            "colorscale": [
             [
              0,
              "#0d0887"
             ],
             [
              0.1111111111111111,
              "#46039f"
             ],
             [
              0.2222222222222222,
              "#7201a8"
             ],
             [
              0.3333333333333333,
              "#9c179e"
             ],
             [
              0.4444444444444444,
              "#bd3786"
             ],
             [
              0.5555555555555556,
              "#d8576b"
             ],
             [
              0.6666666666666666,
              "#ed7953"
             ],
             [
              0.7777777777777778,
              "#fb9f3a"
             ],
             [
              0.8888888888888888,
              "#fdca26"
             ],
             [
              1,
              "#f0f921"
             ]
            ],
            "type": "contour"
           }
          ],
          "contourcarpet": [
           {
            "colorbar": {
             "outlinewidth": 0,
             "ticks": ""
            },
            "type": "contourcarpet"
           }
          ],
          "heatmap": [
           {
            "colorbar": {
             "outlinewidth": 0,
             "ticks": ""
            },
            "colorscale": [
             [
              0,
              "#0d0887"
             ],
             [
              0.1111111111111111,
              "#46039f"
             ],
             [
              0.2222222222222222,
              "#7201a8"
             ],
             [
              0.3333333333333333,
              "#9c179e"
             ],
             [
              0.4444444444444444,
              "#bd3786"
             ],
             [
              0.5555555555555556,
              "#d8576b"
             ],
             [
              0.6666666666666666,
              "#ed7953"
             ],
             [
              0.7777777777777778,
              "#fb9f3a"
             ],
             [
              0.8888888888888888,
              "#fdca26"
             ],
             [
              1,
              "#f0f921"
             ]
            ],
            "type": "heatmap"
           }
          ],
          "heatmapgl": [
           {
            "colorbar": {
             "outlinewidth": 0,
             "ticks": ""
            },
            "colorscale": [
             [
              0,
              "#0d0887"
             ],
             [
              0.1111111111111111,
              "#46039f"
             ],
             [
              0.2222222222222222,
              "#7201a8"
             ],
             [
              0.3333333333333333,
              "#9c179e"
             ],
             [
              0.4444444444444444,
              "#bd3786"
             ],
             [
              0.5555555555555556,
              "#d8576b"
             ],
             [
              0.6666666666666666,
              "#ed7953"
             ],
             [
              0.7777777777777778,
              "#fb9f3a"
             ],
             [
              0.8888888888888888,
              "#fdca26"
             ],
             [
              1,
              "#f0f921"
             ]
            ],
            "type": "heatmapgl"
           }
          ],
          "histogram": [
           {
            "marker": {
             "pattern": {
              "fillmode": "overlay",
              "size": 10,
              "solidity": 0.2
             }
            },
            "type": "histogram"
           }
          ],
          "histogram2d": [
           {
            "colorbar": {
             "outlinewidth": 0,
             "ticks": ""
            },
            "colorscale": [
             [
              0,
              "#0d0887"
             ],
             [
              0.1111111111111111,
              "#46039f"
             ],
             [
              0.2222222222222222,
              "#7201a8"
             ],
             [
              0.3333333333333333,
              "#9c179e"
             ],
             [
              0.4444444444444444,
              "#bd3786"
             ],
             [
              0.5555555555555556,
              "#d8576b"
             ],
             [
              0.6666666666666666,
              "#ed7953"
             ],
             [
              0.7777777777777778,
              "#fb9f3a"
             ],
             [
              0.8888888888888888,
              "#fdca26"
             ],
             [
              1,
              "#f0f921"
             ]
            ],
            "type": "histogram2d"
           }
          ],
          "histogram2dcontour": [
           {
            "colorbar": {
             "outlinewidth": 0,
             "ticks": ""
            },
            "colorscale": [
             [
              0,
              "#0d0887"
             ],
             [
              0.1111111111111111,
              "#46039f"
             ],
             [
              0.2222222222222222,
              "#7201a8"
             ],
             [
              0.3333333333333333,
              "#9c179e"
             ],
             [
              0.4444444444444444,
              "#bd3786"
             ],
             [
              0.5555555555555556,
              "#d8576b"
             ],
             [
              0.6666666666666666,
              "#ed7953"
             ],
             [
              0.7777777777777778,
              "#fb9f3a"
             ],
             [
              0.8888888888888888,
              "#fdca26"
             ],
             [
              1,
              "#f0f921"
             ]
            ],
            "type": "histogram2dcontour"
           }
          ],
          "mesh3d": [
           {
            "colorbar": {
             "outlinewidth": 0,
             "ticks": ""
            },
            "type": "mesh3d"
           }
          ],
          "parcoords": [
           {
            "line": {
             "colorbar": {
              "outlinewidth": 0,
              "ticks": ""
             }
            },
            "type": "parcoords"
           }
          ],
          "pie": [
           {
            "automargin": true,
            "type": "pie"
           }
          ],
          "scatter": [
           {
            "fillpattern": {
             "fillmode": "overlay",
             "size": 10,
             "solidity": 0.2
            },
            "type": "scatter"
           }
          ],
          "scatter3d": [
           {
            "line": {
             "colorbar": {
              "outlinewidth": 0,
              "ticks": ""
             }
            },
            "marker": {
             "colorbar": {
              "outlinewidth": 0,
              "ticks": ""
             }
            },
            "type": "scatter3d"
           }
          ],
          "scattercarpet": [
           {
            "marker": {
             "colorbar": {
              "outlinewidth": 0,
              "ticks": ""
             }
            },
            "type": "scattercarpet"
           }
          ],
          "scattergeo": [
           {
            "marker": {
             "colorbar": {
              "outlinewidth": 0,
              "ticks": ""
             }
            },
            "type": "scattergeo"
           }
          ],
          "scattergl": [
           {
            "marker": {
             "colorbar": {
              "outlinewidth": 0,
              "ticks": ""
             }
            },
            "type": "scattergl"
           }
          ],
          "scattermapbox": [
           {
            "marker": {
             "colorbar": {
              "outlinewidth": 0,
              "ticks": ""
             }
            },
            "type": "scattermapbox"
           }
          ],
          "scatterpolar": [
           {
            "marker": {
             "colorbar": {
              "outlinewidth": 0,
              "ticks": ""
             }
            },
            "type": "scatterpolar"
           }
          ],
          "scatterpolargl": [
           {
            "marker": {
             "colorbar": {
              "outlinewidth": 0,
              "ticks": ""
             }
            },
            "type": "scatterpolargl"
           }
          ],
          "scatterternary": [
           {
            "marker": {
             "colorbar": {
              "outlinewidth": 0,
              "ticks": ""
             }
            },
            "type": "scatterternary"
           }
          ],
          "surface": [
           {
            "colorbar": {
             "outlinewidth": 0,
             "ticks": ""
            },
            "colorscale": [
             [
              0,
              "#0d0887"
             ],
             [
              0.1111111111111111,
              "#46039f"
             ],
             [
              0.2222222222222222,
              "#7201a8"
             ],
             [
              0.3333333333333333,
              "#9c179e"
             ],
             [
              0.4444444444444444,
              "#bd3786"
             ],
             [
              0.5555555555555556,
              "#d8576b"
             ],
             [
              0.6666666666666666,
              "#ed7953"
             ],
             [
              0.7777777777777778,
              "#fb9f3a"
             ],
             [
              0.8888888888888888,
              "#fdca26"
             ],
             [
              1,
              "#f0f921"
             ]
            ],
            "type": "surface"
           }
          ],
          "table": [
           {
            "cells": {
             "fill": {
              "color": "#EBF0F8"
             },
             "line": {
              "color": "white"
             }
            },
            "header": {
             "fill": {
              "color": "#C8D4E3"
             },
             "line": {
              "color": "white"
             }
            },
            "type": "table"
           }
          ]
         },
         "layout": {
          "annotationdefaults": {
           "arrowcolor": "#2a3f5f",
           "arrowhead": 0,
           "arrowwidth": 1
          },
          "autotypenumbers": "strict",
          "coloraxis": {
           "colorbar": {
            "outlinewidth": 0,
            "ticks": ""
           }
          },
          "colorscale": {
           "diverging": [
            [
             0,
             "#8e0152"
            ],
            [
             0.1,
             "#c51b7d"
            ],
            [
             0.2,
             "#de77ae"
            ],
            [
             0.3,
             "#f1b6da"
            ],
            [
             0.4,
             "#fde0ef"
            ],
            [
             0.5,
             "#f7f7f7"
            ],
            [
             0.6,
             "#e6f5d0"
            ],
            [
             0.7,
             "#b8e186"
            ],
            [
             0.8,
             "#7fbc41"
            ],
            [
             0.9,
             "#4d9221"
            ],
            [
             1,
             "#276419"
            ]
           ],
           "sequential": [
            [
             0,
             "#0d0887"
            ],
            [
             0.1111111111111111,
             "#46039f"
            ],
            [
             0.2222222222222222,
             "#7201a8"
            ],
            [
             0.3333333333333333,
             "#9c179e"
            ],
            [
             0.4444444444444444,
             "#bd3786"
            ],
            [
             0.5555555555555556,
             "#d8576b"
            ],
            [
             0.6666666666666666,
             "#ed7953"
            ],
            [
             0.7777777777777778,
             "#fb9f3a"
            ],
            [
             0.8888888888888888,
             "#fdca26"
            ],
            [
             1,
             "#f0f921"
            ]
           ],
           "sequentialminus": [
            [
             0,
             "#0d0887"
            ],
            [
             0.1111111111111111,
             "#46039f"
            ],
            [
             0.2222222222222222,
             "#7201a8"
            ],
            [
             0.3333333333333333,
             "#9c179e"
            ],
            [
             0.4444444444444444,
             "#bd3786"
            ],
            [
             0.5555555555555556,
             "#d8576b"
            ],
            [
             0.6666666666666666,
             "#ed7953"
            ],
            [
             0.7777777777777778,
             "#fb9f3a"
            ],
            [
             0.8888888888888888,
             "#fdca26"
            ],
            [
             1,
             "#f0f921"
            ]
           ]
          },
          "colorway": [
           "#636efa",
           "#EF553B",
           "#00cc96",
           "#ab63fa",
           "#FFA15A",
           "#19d3f3",
           "#FF6692",
           "#B6E880",
           "#FF97FF",
           "#FECB52"
          ],
          "font": {
           "color": "#2a3f5f"
          },
          "geo": {
           "bgcolor": "white",
           "lakecolor": "white",
           "landcolor": "#E5ECF6",
           "showlakes": true,
           "showland": true,
           "subunitcolor": "white"
          },
          "hoverlabel": {
           "align": "left"
          },
          "hovermode": "closest",
          "mapbox": {
           "style": "light"
          },
          "paper_bgcolor": "white",
          "plot_bgcolor": "#E5ECF6",
          "polar": {
           "angularaxis": {
            "gridcolor": "white",
            "linecolor": "white",
            "ticks": ""
           },
           "bgcolor": "#E5ECF6",
           "radialaxis": {
            "gridcolor": "white",
            "linecolor": "white",
            "ticks": ""
           }
          },
          "scene": {
           "xaxis": {
            "backgroundcolor": "#E5ECF6",
            "gridcolor": "white",
            "gridwidth": 2,
            "linecolor": "white",
            "showbackground": true,
            "ticks": "",
            "zerolinecolor": "white"
           },
           "yaxis": {
            "backgroundcolor": "#E5ECF6",
            "gridcolor": "white",
            "gridwidth": 2,
            "linecolor": "white",
            "showbackground": true,
            "ticks": "",
            "zerolinecolor": "white"
           },
           "zaxis": {
            "backgroundcolor": "#E5ECF6",
            "gridcolor": "white",
            "gridwidth": 2,
            "linecolor": "white",
            "showbackground": true,
            "ticks": "",
            "zerolinecolor": "white"
           }
          },
          "shapedefaults": {
           "line": {
            "color": "#2a3f5f"
           }
          },
          "ternary": {
           "aaxis": {
            "gridcolor": "white",
            "linecolor": "white",
            "ticks": ""
           },
           "baxis": {
            "gridcolor": "white",
            "linecolor": "white",
            "ticks": ""
           },
           "bgcolor": "#E5ECF6",
           "caxis": {
            "gridcolor": "white",
            "linecolor": "white",
            "ticks": ""
           }
          },
          "title": {
           "x": 0.05
          },
          "xaxis": {
           "automargin": true,
           "gridcolor": "white",
           "linecolor": "white",
           "ticks": "",
           "title": {
            "standoff": 15
           },
           "zerolinecolor": "white",
           "zerolinewidth": 2
          },
          "yaxis": {
           "automargin": true,
           "gridcolor": "white",
           "linecolor": "white",
           "ticks": "",
           "title": {
            "standoff": 15
           },
           "zerolinecolor": "white",
           "zerolinewidth": 2
          }
         }
        },
        "title": {
         "text": "Dynamic Chart"
        },
        "xaxis": {
         "title": {
          "text": "Date"
         }
        },
        "yaxis": {
         "title": {
          "text": "Value"
         }
        }
       }
      }
     },
     "metadata": {},
     "output_type": "display_data"
    }
   ],
   "source": [
    "import pandas as pd\n",
    "import numpy as np\n",
    "import plotly.graph_objs as go\n",
    "\n",
    "# Assuming values for k and c\n",
    "k = 2.0  # Normal rate of growth in the labor force plus normal rate of increase in labor productivity\n",
    "c = 2.0  # Okun's coefficient\n",
    "\n",
    "# Generate the monthly time span\n",
    "date_range = pd.date_range(start='2022-01-01', end='2025-01-01', freq='M')\n",
    "\n",
    "# Select data for each DataFrame to fill the new DataFrame\n",
    "# Assuming dfrealgdp, dfpotentialgdp_merged, and dfunemploymentrate are already defined\n",
    "df_realgdp_selected = dfrealgdp[dfrealgdp['Date'].isin(date_range)].rename(columns={'Value': 'Value_realgdp'})\n",
    "df_potentialgdp_selected = dfpotentialgdp_merged[dfpotentialgdp_merged['Date'].isin(date_range)].rename(columns={'Value': 'Value_potentialgdp_growth_rate'})\n",
    "df_unemploymentrate_selected = dfunemploymentrate[dfunemploymentrate['Date'].isin(date_range)].rename(columns={'Value': 'Value_unemploymentrate'})\n",
    "\n",
    "# Merge the selected data into the new DataFrame\n",
    "merged_df = pd.merge(date_range.to_frame(), df_realgdp_selected, left_on=0, right_on='Date', how='left')\n",
    "merged_df = pd.merge(merged_df, df_potentialgdp_selected, on='Date', how='left')\n",
    "merged_df = pd.merge(merged_df, df_unemploymentrate_selected, on='Date', how='left')\n",
    "\n",
    "# Convert columns to numeric type if needed\n",
    "numeric_cols = ['Value_realgdp', 'Value_unemploymentrate']\n",
    "for col in numeric_cols:\n",
    "    merged_df[col] = pd.to_numeric(merged_df[col].str.rstrip('%'), errors='coerce')\n",
    "\n",
    "# Replace missing values in 'Value_potentialgdp_growth_rate' with zero\n",
    "merged_df['Value_potentialgdp_growth_rate'].fillna('0%', inplace=True)\n",
    "\n",
    "# Convert 'Value_potentialgdp_growth_rate' column to numeric type\n",
    "merged_df['Value_potentialgdp_growth_rate'] = pd.to_numeric(merged_df['Value_potentialgdp_growth_rate'].str.rstrip('%'), errors='coerce')\n",
    "\n",
    "# Apply Okun's Law to estimate the implied unemployment rate\n",
    "merged_df['Implied_Unemployment_Rate'] = merged_df['Value_unemploymentrate'] + c * (merged_df['Value_realgdp'] - k)\n",
    "\n",
    "# Create Plotly figure\n",
    "fig = go.Figure()\n",
    "\n",
    "# Add traces for each dataset\n",
    "fig.add_trace(go.Scatter(x=merged_df['Date'], y=merged_df['Value_realgdp'], mode='lines+markers', name='Real GDP'))\n",
    "fig.add_trace(go.Scatter(x=merged_df['Date'], y=merged_df['Value_potentialgdp_growth_rate'], mode='lines+markers', name='Potential GDP Growth Rate'))\n",
    "fig.add_trace(go.Scatter(x=merged_df['Date'], y=merged_df['Value_unemploymentrate'], mode='lines+markers', name='Unemployment Rate'))\n",
    "fig.add_trace(go.Scatter(x=merged_df['Date'], y=merged_df['Implied_Unemployment_Rate'], mode='lines+markers', name='Implied Unemployment Rate', line=dict(dash='dash', color='orange')))\n",
    "\n",
    "# Update layout\n",
    "fig.update_layout(title='Dynamic Chart',\n",
    "                  xaxis_title='Date',\n",
    "                  yaxis_title='Value')\n",
    "\n",
    "# Show plot\n",
    "fig.show()\n"
   ]
  },
  {
   "cell_type": "markdown",
   "metadata": {},
   "source": []
  },
  {
   "cell_type": "code",
   "execution_count": 177,
   "metadata": {},
   "outputs": [
    {
     "name": "stderr",
     "output_type": "stream",
     "text": [
      "C:\\Users\\wjbea\\AppData\\Local\\Temp\\ipykernel_30588\\308722787.py:30: FutureWarning:\n",
      "\n",
      "Series.fillna with 'method' is deprecated and will raise in a future version. Use obj.ffill() or obj.bfill() instead.\n",
      "\n",
      "c:\\ProgramData\\anaconda3\\Lib\\site-packages\\_plotly_utils\\basevalidators.py:106: FutureWarning:\n",
      "\n",
      "The behavior of DatetimeProperties.to_pydatetime is deprecated, in a future version this will return a Series containing python datetime objects instead of an ndarray. To retain the old behavior, call `np.array` on the result\n",
      "\n"
     ]
    },
    {
     "data": {
      "application/vnd.plotly.v1+json": {
       "config": {
        "plotlyServerURL": "https://plot.ly"
       },
       "data": [
        {
         "connectgaps": true,
         "mode": "lines+markers",
         "name": "Real GDP",
         "type": "scatter",
         "x": [
          null,
          null,
          "2022-03-31T00:00:00",
          null,
          null,
          "2022-06-30T00:00:00",
          null,
          null,
          "2022-09-30T00:00:00",
          null,
          null,
          "2022-12-31T00:00:00",
          null,
          null,
          "2023-03-31T00:00:00",
          null,
          null,
          "2023-06-30T00:00:00",
          null,
          null,
          "2023-09-30T00:00:00",
          null,
          null,
          "2023-12-31T00:00:00",
          null,
          null,
          null,
          null,
          null,
          null,
          null,
          null,
          null,
          null,
          null,
          null
         ],
         "y": [
          null,
          null,
          -2,
          null,
          null,
          -0.6,
          null,
          null,
          2.7,
          null,
          null,
          2.6,
          null,
          null,
          2.2,
          null,
          null,
          2.1,
          null,
          null,
          4.9,
          null,
          null,
          3.4,
          null,
          null,
          null,
          null,
          null,
          null,
          null,
          null,
          null,
          null,
          null,
          null
         ]
        },
        {
         "connectgaps": true,
         "mode": "lines+markers",
         "name": "Potential GDP Growth Rate",
         "type": "scatter",
         "x": [
          null,
          null,
          "2022-03-31T00:00:00",
          null,
          null,
          "2022-06-30T00:00:00",
          null,
          null,
          "2022-09-30T00:00:00",
          null,
          null,
          "2022-12-31T00:00:00",
          null,
          null,
          "2023-03-31T00:00:00",
          null,
          null,
          "2023-06-30T00:00:00",
          null,
          null,
          "2023-09-30T00:00:00",
          null,
          null,
          "2023-12-31T00:00:00",
          null,
          null,
          null,
          null,
          null,
          null,
          null,
          null,
          null,
          null,
          null,
          null
         ],
         "y": [
          null,
          null,
          0.4587155963302836,
          0.4587155963302836,
          0.4587155963302836,
          0.4058853373921867,
          0.4058853373921867,
          0.4058853373921867,
          0.4547751389590626,
          0.4547751389590626,
          0.4547751389590626,
          0.4527162977867149,
          0.4527162977867149,
          0.4527162977867149,
          0.4506760140210231,
          0.4506760140210231,
          0.4506760140210231,
          0.4486540378863424,
          0.4486540378863424,
          0.4486540378863424,
          0.4466501240694809,
          0.4466501240694809,
          0.4466501240694809,
          0.4446640316205563,
          0.4446640316205563,
          0.4446640316205563,
          0.4446640316205563,
          0.4446640316205563,
          0.4446640316205563,
          0.4446640316205563,
          0.4446640316205563,
          0.4446640316205563,
          0.4446640316205563,
          0.4446640316205563,
          0.4446640316205563,
          0.4446640316205563
         ]
        },
        {
         "connectgaps": true,
         "mode": "lines+markers",
         "name": "Unemployment Rate",
         "type": "scatter",
         "x": [
          null,
          null,
          "2022-03-31T00:00:00",
          null,
          null,
          "2022-06-30T00:00:00",
          null,
          null,
          "2022-09-30T00:00:00",
          null,
          null,
          "2022-12-31T00:00:00",
          null,
          null,
          "2023-03-31T00:00:00",
          null,
          null,
          "2023-06-30T00:00:00",
          null,
          null,
          "2023-09-30T00:00:00",
          null,
          null,
          "2023-12-31T00:00:00",
          null,
          null,
          null,
          null,
          null,
          null,
          null,
          null,
          null,
          null,
          null,
          null
         ],
         "y": [
          null,
          null,
          3.6,
          null,
          null,
          3.6,
          null,
          null,
          3.5,
          null,
          null,
          3.5,
          null,
          null,
          3.5,
          null,
          null,
          3.6,
          null,
          null,
          3.8,
          null,
          null,
          3.7,
          null,
          null,
          null,
          null,
          null,
          null,
          null,
          null,
          null,
          null,
          null,
          null
         ]
        },
        {
         "connectgaps": true,
         "line": {
          "color": "orange",
          "dash": "dash"
         },
         "mode": "lines+markers",
         "name": "Implied Unemployment Rate",
         "type": "scatter",
         "x": [
          null,
          null,
          "2022-03-31T00:00:00",
          null,
          null,
          "2022-06-30T00:00:00",
          null,
          null,
          "2022-09-30T00:00:00",
          null,
          null,
          "2022-12-31T00:00:00",
          null,
          null,
          "2023-03-31T00:00:00",
          null,
          null,
          "2023-06-30T00:00:00",
          null,
          null,
          "2023-09-30T00:00:00",
          null,
          null,
          "2023-12-31T00:00:00",
          null,
          null,
          null,
          null,
          null,
          null,
          null,
          null,
          null,
          null,
          null,
          null
         ],
         "y": [
          null,
          null,
          -4.4,
          null,
          null,
          -1.6,
          null,
          null,
          4.9,
          null,
          null,
          4.7,
          null,
          null,
          3.9000000000000004,
          null,
          null,
          3.8000000000000003,
          null,
          null,
          9.600000000000001,
          null,
          null,
          6.5,
          null,
          null,
          null,
          null,
          null,
          null,
          null,
          null,
          null,
          null,
          null,
          null
         ]
        },
        {
         "line": {
          "color": "red",
          "width": 1
         },
         "mode": "lines",
         "showlegend": false,
         "type": "scatter",
         "x": [
          null,
          null,
          "2022-03-31T00:00:00",
          null,
          null,
          "2022-06-30T00:00:00",
          null,
          null,
          "2022-09-30T00:00:00",
          null,
          null,
          "2022-12-31T00:00:00",
          null,
          null,
          "2023-03-31T00:00:00",
          null,
          null,
          "2023-06-30T00:00:00",
          null,
          null,
          "2023-09-30T00:00:00",
          null,
          null,
          "2023-12-31T00:00:00",
          null,
          null,
          null,
          null,
          null,
          null,
          null,
          null,
          null,
          null,
          null,
          null
         ],
         "y": [
          null,
          null,
          3.6,
          null,
          null,
          3.6,
          null,
          null,
          3.5,
          null,
          null,
          3.5,
          null,
          null,
          3.5,
          null,
          null,
          3.6,
          null,
          null,
          3.8,
          null,
          null,
          3.7,
          null,
          null,
          null,
          null,
          null,
          null,
          null,
          null,
          null,
          null,
          null,
          null
         ]
        },
        {
         "line": {
          "color": "orange",
          "width": 1
         },
         "mode": "lines",
         "showlegend": false,
         "type": "scatter",
         "x": [
          null,
          null,
          "2022-03-31T00:00:00",
          null,
          null,
          "2022-06-30T00:00:00",
          null,
          null,
          "2022-09-30T00:00:00",
          null,
          null,
          "2022-12-31T00:00:00",
          null,
          null,
          "2023-03-31T00:00:00",
          null,
          null,
          "2023-06-30T00:00:00",
          null,
          null,
          "2023-09-30T00:00:00",
          null,
          null,
          "2023-12-31T00:00:00",
          null,
          null,
          null,
          null,
          null,
          null,
          null,
          null,
          null,
          null,
          null,
          null
         ],
         "y": [
          null,
          null,
          -4.4,
          null,
          null,
          -1.6,
          null,
          null,
          4.9,
          null,
          null,
          4.7,
          null,
          null,
          3.9000000000000004,
          null,
          null,
          3.8000000000000003,
          null,
          null,
          9.600000000000001,
          null,
          null,
          6.5,
          null,
          null,
          null,
          null,
          null,
          null,
          null,
          null,
          null,
          null,
          null,
          null
         ]
        }
       ],
       "layout": {
        "template": {
         "data": {
          "bar": [
           {
            "error_x": {
             "color": "#2a3f5f"
            },
            "error_y": {
             "color": "#2a3f5f"
            },
            "marker": {
             "line": {
              "color": "#E5ECF6",
              "width": 0.5
             },
             "pattern": {
              "fillmode": "overlay",
              "size": 10,
              "solidity": 0.2
             }
            },
            "type": "bar"
           }
          ],
          "barpolar": [
           {
            "marker": {
             "line": {
              "color": "#E5ECF6",
              "width": 0.5
             },
             "pattern": {
              "fillmode": "overlay",
              "size": 10,
              "solidity": 0.2
             }
            },
            "type": "barpolar"
           }
          ],
          "carpet": [
           {
            "aaxis": {
             "endlinecolor": "#2a3f5f",
             "gridcolor": "white",
             "linecolor": "white",
             "minorgridcolor": "white",
             "startlinecolor": "#2a3f5f"
            },
            "baxis": {
             "endlinecolor": "#2a3f5f",
             "gridcolor": "white",
             "linecolor": "white",
             "minorgridcolor": "white",
             "startlinecolor": "#2a3f5f"
            },
            "type": "carpet"
           }
          ],
          "choropleth": [
           {
            "colorbar": {
             "outlinewidth": 0,
             "ticks": ""
            },
            "type": "choropleth"
           }
          ],
          "contour": [
           {
            "colorbar": {
             "outlinewidth": 0,
             "ticks": ""
            },
            "colorscale": [
             [
              0,
              "#0d0887"
             ],
             [
              0.1111111111111111,
              "#46039f"
             ],
             [
              0.2222222222222222,
              "#7201a8"
             ],
             [
              0.3333333333333333,
              "#9c179e"
             ],
             [
              0.4444444444444444,
              "#bd3786"
             ],
             [
              0.5555555555555556,
              "#d8576b"
             ],
             [
              0.6666666666666666,
              "#ed7953"
             ],
             [
              0.7777777777777778,
              "#fb9f3a"
             ],
             [
              0.8888888888888888,
              "#fdca26"
             ],
             [
              1,
              "#f0f921"
             ]
            ],
            "type": "contour"
           }
          ],
          "contourcarpet": [
           {
            "colorbar": {
             "outlinewidth": 0,
             "ticks": ""
            },
            "type": "contourcarpet"
           }
          ],
          "heatmap": [
           {
            "colorbar": {
             "outlinewidth": 0,
             "ticks": ""
            },
            "colorscale": [
             [
              0,
              "#0d0887"
             ],
             [
              0.1111111111111111,
              "#46039f"
             ],
             [
              0.2222222222222222,
              "#7201a8"
             ],
             [
              0.3333333333333333,
              "#9c179e"
             ],
             [
              0.4444444444444444,
              "#bd3786"
             ],
             [
              0.5555555555555556,
              "#d8576b"
             ],
             [
              0.6666666666666666,
              "#ed7953"
             ],
             [
              0.7777777777777778,
              "#fb9f3a"
             ],
             [
              0.8888888888888888,
              "#fdca26"
             ],
             [
              1,
              "#f0f921"
             ]
            ],
            "type": "heatmap"
           }
          ],
          "heatmapgl": [
           {
            "colorbar": {
             "outlinewidth": 0,
             "ticks": ""
            },
            "colorscale": [
             [
              0,
              "#0d0887"
             ],
             [
              0.1111111111111111,
              "#46039f"
             ],
             [
              0.2222222222222222,
              "#7201a8"
             ],
             [
              0.3333333333333333,
              "#9c179e"
             ],
             [
              0.4444444444444444,
              "#bd3786"
             ],
             [
              0.5555555555555556,
              "#d8576b"
             ],
             [
              0.6666666666666666,
              "#ed7953"
             ],
             [
              0.7777777777777778,
              "#fb9f3a"
             ],
             [
              0.8888888888888888,
              "#fdca26"
             ],
             [
              1,
              "#f0f921"
             ]
            ],
            "type": "heatmapgl"
           }
          ],
          "histogram": [
           {
            "marker": {
             "pattern": {
              "fillmode": "overlay",
              "size": 10,
              "solidity": 0.2
             }
            },
            "type": "histogram"
           }
          ],
          "histogram2d": [
           {
            "colorbar": {
             "outlinewidth": 0,
             "ticks": ""
            },
            "colorscale": [
             [
              0,
              "#0d0887"
             ],
             [
              0.1111111111111111,
              "#46039f"
             ],
             [
              0.2222222222222222,
              "#7201a8"
             ],
             [
              0.3333333333333333,
              "#9c179e"
             ],
             [
              0.4444444444444444,
              "#bd3786"
             ],
             [
              0.5555555555555556,
              "#d8576b"
             ],
             [
              0.6666666666666666,
              "#ed7953"
             ],
             [
              0.7777777777777778,
              "#fb9f3a"
             ],
             [
              0.8888888888888888,
              "#fdca26"
             ],
             [
              1,
              "#f0f921"
             ]
            ],
            "type": "histogram2d"
           }
          ],
          "histogram2dcontour": [
           {
            "colorbar": {
             "outlinewidth": 0,
             "ticks": ""
            },
            "colorscale": [
             [
              0,
              "#0d0887"
             ],
             [
              0.1111111111111111,
              "#46039f"
             ],
             [
              0.2222222222222222,
              "#7201a8"
             ],
             [
              0.3333333333333333,
              "#9c179e"
             ],
             [
              0.4444444444444444,
              "#bd3786"
             ],
             [
              0.5555555555555556,
              "#d8576b"
             ],
             [
              0.6666666666666666,
              "#ed7953"
             ],
             [
              0.7777777777777778,
              "#fb9f3a"
             ],
             [
              0.8888888888888888,
              "#fdca26"
             ],
             [
              1,
              "#f0f921"
             ]
            ],
            "type": "histogram2dcontour"
           }
          ],
          "mesh3d": [
           {
            "colorbar": {
             "outlinewidth": 0,
             "ticks": ""
            },
            "type": "mesh3d"
           }
          ],
          "parcoords": [
           {
            "line": {
             "colorbar": {
              "outlinewidth": 0,
              "ticks": ""
             }
            },
            "type": "parcoords"
           }
          ],
          "pie": [
           {
            "automargin": true,
            "type": "pie"
           }
          ],
          "scatter": [
           {
            "fillpattern": {
             "fillmode": "overlay",
             "size": 10,
             "solidity": 0.2
            },
            "type": "scatter"
           }
          ],
          "scatter3d": [
           {
            "line": {
             "colorbar": {
              "outlinewidth": 0,
              "ticks": ""
             }
            },
            "marker": {
             "colorbar": {
              "outlinewidth": 0,
              "ticks": ""
             }
            },
            "type": "scatter3d"
           }
          ],
          "scattercarpet": [
           {
            "marker": {
             "colorbar": {
              "outlinewidth": 0,
              "ticks": ""
             }
            },
            "type": "scattercarpet"
           }
          ],
          "scattergeo": [
           {
            "marker": {
             "colorbar": {
              "outlinewidth": 0,
              "ticks": ""
             }
            },
            "type": "scattergeo"
           }
          ],
          "scattergl": [
           {
            "marker": {
             "colorbar": {
              "outlinewidth": 0,
              "ticks": ""
             }
            },
            "type": "scattergl"
           }
          ],
          "scattermapbox": [
           {
            "marker": {
             "colorbar": {
              "outlinewidth": 0,
              "ticks": ""
             }
            },
            "type": "scattermapbox"
           }
          ],
          "scatterpolar": [
           {
            "marker": {
             "colorbar": {
              "outlinewidth": 0,
              "ticks": ""
             }
            },
            "type": "scatterpolar"
           }
          ],
          "scatterpolargl": [
           {
            "marker": {
             "colorbar": {
              "outlinewidth": 0,
              "ticks": ""
             }
            },
            "type": "scatterpolargl"
           }
          ],
          "scatterternary": [
           {
            "marker": {
             "colorbar": {
              "outlinewidth": 0,
              "ticks": ""
             }
            },
            "type": "scatterternary"
           }
          ],
          "surface": [
           {
            "colorbar": {
             "outlinewidth": 0,
             "ticks": ""
            },
            "colorscale": [
             [
              0,
              "#0d0887"
             ],
             [
              0.1111111111111111,
              "#46039f"
             ],
             [
              0.2222222222222222,
              "#7201a8"
             ],
             [
              0.3333333333333333,
              "#9c179e"
             ],
             [
              0.4444444444444444,
              "#bd3786"
             ],
             [
              0.5555555555555556,
              "#d8576b"
             ],
             [
              0.6666666666666666,
              "#ed7953"
             ],
             [
              0.7777777777777778,
              "#fb9f3a"
             ],
             [
              0.8888888888888888,
              "#fdca26"
             ],
             [
              1,
              "#f0f921"
             ]
            ],
            "type": "surface"
           }
          ],
          "table": [
           {
            "cells": {
             "fill": {
              "color": "#EBF0F8"
             },
             "line": {
              "color": "white"
             }
            },
            "header": {
             "fill": {
              "color": "#C8D4E3"
             },
             "line": {
              "color": "white"
             }
            },
            "type": "table"
           }
          ]
         },
         "layout": {
          "annotationdefaults": {
           "arrowcolor": "#2a3f5f",
           "arrowhead": 0,
           "arrowwidth": 1
          },
          "autotypenumbers": "strict",
          "coloraxis": {
           "colorbar": {
            "outlinewidth": 0,
            "ticks": ""
           }
          },
          "colorscale": {
           "diverging": [
            [
             0,
             "#8e0152"
            ],
            [
             0.1,
             "#c51b7d"
            ],
            [
             0.2,
             "#de77ae"
            ],
            [
             0.3,
             "#f1b6da"
            ],
            [
             0.4,
             "#fde0ef"
            ],
            [
             0.5,
             "#f7f7f7"
            ],
            [
             0.6,
             "#e6f5d0"
            ],
            [
             0.7,
             "#b8e186"
            ],
            [
             0.8,
             "#7fbc41"
            ],
            [
             0.9,
             "#4d9221"
            ],
            [
             1,
             "#276419"
            ]
           ],
           "sequential": [
            [
             0,
             "#0d0887"
            ],
            [
             0.1111111111111111,
             "#46039f"
            ],
            [
             0.2222222222222222,
             "#7201a8"
            ],
            [
             0.3333333333333333,
             "#9c179e"
            ],
            [
             0.4444444444444444,
             "#bd3786"
            ],
            [
             0.5555555555555556,
             "#d8576b"
            ],
            [
             0.6666666666666666,
             "#ed7953"
            ],
            [
             0.7777777777777778,
             "#fb9f3a"
            ],
            [
             0.8888888888888888,
             "#fdca26"
            ],
            [
             1,
             "#f0f921"
            ]
           ],
           "sequentialminus": [
            [
             0,
             "#0d0887"
            ],
            [
             0.1111111111111111,
             "#46039f"
            ],
            [
             0.2222222222222222,
             "#7201a8"
            ],
            [
             0.3333333333333333,
             "#9c179e"
            ],
            [
             0.4444444444444444,
             "#bd3786"
            ],
            [
             0.5555555555555556,
             "#d8576b"
            ],
            [
             0.6666666666666666,
             "#ed7953"
            ],
            [
             0.7777777777777778,
             "#fb9f3a"
            ],
            [
             0.8888888888888888,
             "#fdca26"
            ],
            [
             1,
             "#f0f921"
            ]
           ]
          },
          "colorway": [
           "#636efa",
           "#EF553B",
           "#00cc96",
           "#ab63fa",
           "#FFA15A",
           "#19d3f3",
           "#FF6692",
           "#B6E880",
           "#FF97FF",
           "#FECB52"
          ],
          "font": {
           "color": "#2a3f5f"
          },
          "geo": {
           "bgcolor": "white",
           "lakecolor": "white",
           "landcolor": "#E5ECF6",
           "showlakes": true,
           "showland": true,
           "subunitcolor": "white"
          },
          "hoverlabel": {
           "align": "left"
          },
          "hovermode": "closest",
          "mapbox": {
           "style": "light"
          },
          "paper_bgcolor": "white",
          "plot_bgcolor": "#E5ECF6",
          "polar": {
           "angularaxis": {
            "gridcolor": "white",
            "linecolor": "white",
            "ticks": ""
           },
           "bgcolor": "#E5ECF6",
           "radialaxis": {
            "gridcolor": "white",
            "linecolor": "white",
            "ticks": ""
           }
          },
          "scene": {
           "xaxis": {
            "backgroundcolor": "#E5ECF6",
            "gridcolor": "white",
            "gridwidth": 2,
            "linecolor": "white",
            "showbackground": true,
            "ticks": "",
            "zerolinecolor": "white"
           },
           "yaxis": {
            "backgroundcolor": "#E5ECF6",
            "gridcolor": "white",
            "gridwidth": 2,
            "linecolor": "white",
            "showbackground": true,
            "ticks": "",
            "zerolinecolor": "white"
           },
           "zaxis": {
            "backgroundcolor": "#E5ECF6",
            "gridcolor": "white",
            "gridwidth": 2,
            "linecolor": "white",
            "showbackground": true,
            "ticks": "",
            "zerolinecolor": "white"
           }
          },
          "shapedefaults": {
           "line": {
            "color": "#2a3f5f"
           }
          },
          "ternary": {
           "aaxis": {
            "gridcolor": "white",
            "linecolor": "white",
            "ticks": ""
           },
           "baxis": {
            "gridcolor": "white",
            "linecolor": "white",
            "ticks": ""
           },
           "bgcolor": "#E5ECF6",
           "caxis": {
            "gridcolor": "white",
            "linecolor": "white",
            "ticks": ""
           }
          },
          "title": {
           "x": 0.05
          },
          "xaxis": {
           "automargin": true,
           "gridcolor": "white",
           "linecolor": "white",
           "ticks": "",
           "title": {
            "standoff": 15
           },
           "zerolinecolor": "white",
           "zerolinewidth": 2
          },
          "yaxis": {
           "automargin": true,
           "gridcolor": "white",
           "linecolor": "white",
           "ticks": "",
           "title": {
            "standoff": 15
           },
           "zerolinecolor": "white",
           "zerolinewidth": 2
          }
         }
        },
        "title": {
         "text": "Dynamic Chart"
        },
        "xaxis": {
         "title": {
          "text": "Date"
         }
        },
        "yaxis": {
         "title": {
          "text": "Value"
         }
        }
       }
      }
     },
     "metadata": {},
     "output_type": "display_data"
    }
   ],
   "source": [
    "import pandas as pd\n",
    "import numpy as np\n",
    "import plotly.graph_objs as go\n",
    "\n",
    "# Assuming values for k and c\n",
    "k = 2.0  # Normal rate of growth in the labor force plus normal rate of increase in labor productivity\n",
    "c = 2.0  # Okun's coefficient\n",
    "\n",
    "# Generate the monthly time span\n",
    "date_range = pd.date_range(start='2022-01-01', end='2025-01-01', freq='M')\n",
    "\n",
    "# Select data for each DataFrame to fill the new DataFrame\n",
    "# Assuming dfrealgdp, dfpotentialgdp_merged, and dfunemploymentrate are already defined\n",
    "df_realgdp_selected = dfrealgdp[dfrealgdp['Date'].isin(date_range)].rename(columns={'Value': 'Value_realgdp'})\n",
    "df_potentialgdp_selected = dfpotentialgdp_merged[dfpotentialgdp_merged['Date'].isin(date_range)].rename(columns={'Value': 'Value_potentialgdp_growth_rate'})\n",
    "df_unemploymentrate_selected = dfunemploymentrate[dfunemploymentrate['Date'].isin(date_range)].rename(columns={'Value': 'Value_unemploymentrate'})\n",
    "\n",
    "# Merge the selected data into the new DataFrame\n",
    "merged_df = pd.merge(date_range.to_frame(), df_realgdp_selected, left_on=0, right_on='Date', how='left')\n",
    "merged_df = pd.merge(merged_df, df_potentialgdp_selected, on='Date', how='left')\n",
    "merged_df = pd.merge(merged_df, df_unemploymentrate_selected, on='Date', how='left')\n",
    "\n",
    "# Convert columns to numeric type if needed\n",
    "numeric_cols = ['Value_realgdp', 'Value_unemploymentrate']\n",
    "for col in numeric_cols:\n",
    "    merged_df[col] = pd.to_numeric(merged_df[col].str.rstrip('%'), errors='coerce')\n",
    "\n",
    "# Convert 'Value_potentialgdp_growth_rate' column to string type and then to numeric type, and handle missing values\n",
    "merged_df['Value_potentialgdp_growth_rate'] = pd.to_numeric(merged_df['Value_potentialgdp_growth_rate'].astype(str).str.rstrip('%'), errors='coerce')\n",
    "merged_df['Value_potentialgdp_growth_rate'].fillna(method='ffill', inplace=True)  # Forward fill missing values\n",
    "\n",
    "# Apply Okun's Law to estimate the implied unemployment rate\n",
    "merged_df['Implied_Unemployment_Rate'] = merged_df['Value_unemploymentrate'] + c * (merged_df['Value_realgdp'] - k)\n",
    "\n",
    "# Create Plotly figure\n",
    "fig = go.Figure()\n",
    "\n",
    "# Add traces for each dataset\n",
    "fig.add_trace(go.Scatter(x=merged_df['Date'], y=merged_df['Value_realgdp'], mode='lines+markers', name='Real GDP'))\n",
    "fig.add_trace(go.Scatter(x=merged_df['Date'], y=merged_df['Value_potentialgdp_growth_rate'], mode='lines+markers', name='Potential GDP Growth Rate'))\n",
    "fig.add_trace(go.Scatter(x=merged_df['Date'], y=merged_df['Value_unemploymentrate'], mode='lines+markers', name='Unemployment Rate'))\n",
    "fig.add_trace(go.Scatter(x=merged_df['Date'], y=merged_df['Implied_Unemployment_Rate'], mode='lines+markers', name='Implied Unemployment Rate', line=dict(dash='dash', color='orange')))\n",
    "\n",
    "# Add lines connecting the dots\n",
    "fig.update_traces(connectgaps=True)\n",
    "\n",
    "# Add error lines connecting actual and implied unemployment rates\n",
    "fig.add_trace(go.Scatter(x=merged_df['Date'], y=merged_df['Value_unemploymentrate'], mode='lines', line=dict(color='red', width=1), showlegend=False))\n",
    "fig.add_trace(go.Scatter(x=merged_df['Date'], y=merged_df['Implied_Unemployment_Rate'], mode='lines', line=dict(color='orange', width=1), showlegend=False))\n",
    "\n",
    "# Update layout\n",
    "fig.update_layout(title='Dynamic Chart',\n",
    "                  xaxis_title='Date',\n",
    "                  yaxis_title='Value')\n",
    "\n",
    "# Show plot\n",
    "fig.show()\n"
   ]
  },
  {
   "cell_type": "code",
   "execution_count": 178,
   "metadata": {},
   "outputs": [
    {
     "data": {
      "text/html": [
       "<div>\n",
       "<style scoped>\n",
       "    .dataframe tbody tr th:only-of-type {\n",
       "        vertical-align: middle;\n",
       "    }\n",
       "\n",
       "    .dataframe tbody tr th {\n",
       "        vertical-align: top;\n",
       "    }\n",
       "\n",
       "    .dataframe thead th {\n",
       "        text-align: right;\n",
       "    }\n",
       "</style>\n",
       "<table border=\"1\" class=\"dataframe\">\n",
       "  <thead>\n",
       "    <tr style=\"text-align: right;\">\n",
       "      <th></th>\n",
       "      <th>0</th>\n",
       "      <th>Date</th>\n",
       "      <th>Value_realgdp</th>\n",
       "      <th>Value_potentialgdp_growth_rate</th>\n",
       "      <th>Value_unemploymentrate</th>\n",
       "      <th>Implied_Unemployment_Rate</th>\n",
       "    </tr>\n",
       "  </thead>\n",
       "  <tbody>\n",
       "    <tr>\n",
       "      <th>0</th>\n",
       "      <td>2022-01-31</td>\n",
       "      <td>NaT</td>\n",
       "      <td>NaN</td>\n",
       "      <td>NaN</td>\n",
       "      <td>NaN</td>\n",
       "      <td>NaN</td>\n",
       "    </tr>\n",
       "    <tr>\n",
       "      <th>1</th>\n",
       "      <td>2022-02-28</td>\n",
       "      <td>NaT</td>\n",
       "      <td>NaN</td>\n",
       "      <td>NaN</td>\n",
       "      <td>NaN</td>\n",
       "      <td>NaN</td>\n",
       "    </tr>\n",
       "    <tr>\n",
       "      <th>2</th>\n",
       "      <td>2022-03-31</td>\n",
       "      <td>2022-03-31</td>\n",
       "      <td>-2.0</td>\n",
       "      <td>0.458716</td>\n",
       "      <td>3.6</td>\n",
       "      <td>-4.4</td>\n",
       "    </tr>\n",
       "    <tr>\n",
       "      <th>3</th>\n",
       "      <td>2022-04-30</td>\n",
       "      <td>NaT</td>\n",
       "      <td>NaN</td>\n",
       "      <td>0.458716</td>\n",
       "      <td>NaN</td>\n",
       "      <td>NaN</td>\n",
       "    </tr>\n",
       "    <tr>\n",
       "      <th>4</th>\n",
       "      <td>2022-05-31</td>\n",
       "      <td>NaT</td>\n",
       "      <td>NaN</td>\n",
       "      <td>0.458716</td>\n",
       "      <td>NaN</td>\n",
       "      <td>NaN</td>\n",
       "    </tr>\n",
       "    <tr>\n",
       "      <th>5</th>\n",
       "      <td>2022-06-30</td>\n",
       "      <td>2022-06-30</td>\n",
       "      <td>-0.6</td>\n",
       "      <td>0.405885</td>\n",
       "      <td>3.6</td>\n",
       "      <td>-1.6</td>\n",
       "    </tr>\n",
       "    <tr>\n",
       "      <th>6</th>\n",
       "      <td>2022-07-31</td>\n",
       "      <td>NaT</td>\n",
       "      <td>NaN</td>\n",
       "      <td>0.405885</td>\n",
       "      <td>NaN</td>\n",
       "      <td>NaN</td>\n",
       "    </tr>\n",
       "    <tr>\n",
       "      <th>7</th>\n",
       "      <td>2022-08-31</td>\n",
       "      <td>NaT</td>\n",
       "      <td>NaN</td>\n",
       "      <td>0.405885</td>\n",
       "      <td>NaN</td>\n",
       "      <td>NaN</td>\n",
       "    </tr>\n",
       "    <tr>\n",
       "      <th>8</th>\n",
       "      <td>2022-09-30</td>\n",
       "      <td>2022-09-30</td>\n",
       "      <td>2.7</td>\n",
       "      <td>0.454775</td>\n",
       "      <td>3.5</td>\n",
       "      <td>4.9</td>\n",
       "    </tr>\n",
       "    <tr>\n",
       "      <th>9</th>\n",
       "      <td>2022-10-31</td>\n",
       "      <td>NaT</td>\n",
       "      <td>NaN</td>\n",
       "      <td>0.454775</td>\n",
       "      <td>NaN</td>\n",
       "      <td>NaN</td>\n",
       "    </tr>\n",
       "    <tr>\n",
       "      <th>10</th>\n",
       "      <td>2022-11-30</td>\n",
       "      <td>NaT</td>\n",
       "      <td>NaN</td>\n",
       "      <td>0.454775</td>\n",
       "      <td>NaN</td>\n",
       "      <td>NaN</td>\n",
       "    </tr>\n",
       "    <tr>\n",
       "      <th>11</th>\n",
       "      <td>2022-12-31</td>\n",
       "      <td>2022-12-31</td>\n",
       "      <td>2.6</td>\n",
       "      <td>0.452716</td>\n",
       "      <td>3.5</td>\n",
       "      <td>4.7</td>\n",
       "    </tr>\n",
       "    <tr>\n",
       "      <th>12</th>\n",
       "      <td>2023-01-31</td>\n",
       "      <td>NaT</td>\n",
       "      <td>NaN</td>\n",
       "      <td>0.452716</td>\n",
       "      <td>NaN</td>\n",
       "      <td>NaN</td>\n",
       "    </tr>\n",
       "    <tr>\n",
       "      <th>13</th>\n",
       "      <td>2023-02-28</td>\n",
       "      <td>NaT</td>\n",
       "      <td>NaN</td>\n",
       "      <td>0.452716</td>\n",
       "      <td>NaN</td>\n",
       "      <td>NaN</td>\n",
       "    </tr>\n",
       "    <tr>\n",
       "      <th>14</th>\n",
       "      <td>2023-03-31</td>\n",
       "      <td>2023-03-31</td>\n",
       "      <td>2.2</td>\n",
       "      <td>0.450676</td>\n",
       "      <td>3.5</td>\n",
       "      <td>3.9</td>\n",
       "    </tr>\n",
       "    <tr>\n",
       "      <th>15</th>\n",
       "      <td>2023-04-30</td>\n",
       "      <td>NaT</td>\n",
       "      <td>NaN</td>\n",
       "      <td>0.450676</td>\n",
       "      <td>NaN</td>\n",
       "      <td>NaN</td>\n",
       "    </tr>\n",
       "    <tr>\n",
       "      <th>16</th>\n",
       "      <td>2023-05-31</td>\n",
       "      <td>NaT</td>\n",
       "      <td>NaN</td>\n",
       "      <td>0.450676</td>\n",
       "      <td>NaN</td>\n",
       "      <td>NaN</td>\n",
       "    </tr>\n",
       "    <tr>\n",
       "      <th>17</th>\n",
       "      <td>2023-06-30</td>\n",
       "      <td>2023-06-30</td>\n",
       "      <td>2.1</td>\n",
       "      <td>0.448654</td>\n",
       "      <td>3.6</td>\n",
       "      <td>3.8</td>\n",
       "    </tr>\n",
       "    <tr>\n",
       "      <th>18</th>\n",
       "      <td>2023-07-31</td>\n",
       "      <td>NaT</td>\n",
       "      <td>NaN</td>\n",
       "      <td>0.448654</td>\n",
       "      <td>NaN</td>\n",
       "      <td>NaN</td>\n",
       "    </tr>\n",
       "    <tr>\n",
       "      <th>19</th>\n",
       "      <td>2023-08-31</td>\n",
       "      <td>NaT</td>\n",
       "      <td>NaN</td>\n",
       "      <td>0.448654</td>\n",
       "      <td>NaN</td>\n",
       "      <td>NaN</td>\n",
       "    </tr>\n",
       "    <tr>\n",
       "      <th>20</th>\n",
       "      <td>2023-09-30</td>\n",
       "      <td>2023-09-30</td>\n",
       "      <td>4.9</td>\n",
       "      <td>0.446650</td>\n",
       "      <td>3.8</td>\n",
       "      <td>9.6</td>\n",
       "    </tr>\n",
       "    <tr>\n",
       "      <th>21</th>\n",
       "      <td>2023-10-31</td>\n",
       "      <td>NaT</td>\n",
       "      <td>NaN</td>\n",
       "      <td>0.446650</td>\n",
       "      <td>NaN</td>\n",
       "      <td>NaN</td>\n",
       "    </tr>\n",
       "    <tr>\n",
       "      <th>22</th>\n",
       "      <td>2023-11-30</td>\n",
       "      <td>NaT</td>\n",
       "      <td>NaN</td>\n",
       "      <td>0.446650</td>\n",
       "      <td>NaN</td>\n",
       "      <td>NaN</td>\n",
       "    </tr>\n",
       "    <tr>\n",
       "      <th>23</th>\n",
       "      <td>2023-12-31</td>\n",
       "      <td>2023-12-31</td>\n",
       "      <td>3.4</td>\n",
       "      <td>0.444664</td>\n",
       "      <td>3.7</td>\n",
       "      <td>6.5</td>\n",
       "    </tr>\n",
       "    <tr>\n",
       "      <th>24</th>\n",
       "      <td>2024-01-31</td>\n",
       "      <td>NaT</td>\n",
       "      <td>NaN</td>\n",
       "      <td>0.444664</td>\n",
       "      <td>NaN</td>\n",
       "      <td>NaN</td>\n",
       "    </tr>\n",
       "    <tr>\n",
       "      <th>25</th>\n",
       "      <td>2024-02-29</td>\n",
       "      <td>NaT</td>\n",
       "      <td>NaN</td>\n",
       "      <td>0.444664</td>\n",
       "      <td>NaN</td>\n",
       "      <td>NaN</td>\n",
       "    </tr>\n",
       "    <tr>\n",
       "      <th>26</th>\n",
       "      <td>2024-03-31</td>\n",
       "      <td>NaT</td>\n",
       "      <td>NaN</td>\n",
       "      <td>0.444664</td>\n",
       "      <td>NaN</td>\n",
       "      <td>NaN</td>\n",
       "    </tr>\n",
       "    <tr>\n",
       "      <th>27</th>\n",
       "      <td>2024-04-30</td>\n",
       "      <td>NaT</td>\n",
       "      <td>NaN</td>\n",
       "      <td>0.444664</td>\n",
       "      <td>NaN</td>\n",
       "      <td>NaN</td>\n",
       "    </tr>\n",
       "    <tr>\n",
       "      <th>28</th>\n",
       "      <td>2024-05-31</td>\n",
       "      <td>NaT</td>\n",
       "      <td>NaN</td>\n",
       "      <td>0.444664</td>\n",
       "      <td>NaN</td>\n",
       "      <td>NaN</td>\n",
       "    </tr>\n",
       "    <tr>\n",
       "      <th>29</th>\n",
       "      <td>2024-06-30</td>\n",
       "      <td>NaT</td>\n",
       "      <td>NaN</td>\n",
       "      <td>0.444664</td>\n",
       "      <td>NaN</td>\n",
       "      <td>NaN</td>\n",
       "    </tr>\n",
       "    <tr>\n",
       "      <th>30</th>\n",
       "      <td>2024-07-31</td>\n",
       "      <td>NaT</td>\n",
       "      <td>NaN</td>\n",
       "      <td>0.444664</td>\n",
       "      <td>NaN</td>\n",
       "      <td>NaN</td>\n",
       "    </tr>\n",
       "    <tr>\n",
       "      <th>31</th>\n",
       "      <td>2024-08-31</td>\n",
       "      <td>NaT</td>\n",
       "      <td>NaN</td>\n",
       "      <td>0.444664</td>\n",
       "      <td>NaN</td>\n",
       "      <td>NaN</td>\n",
       "    </tr>\n",
       "    <tr>\n",
       "      <th>32</th>\n",
       "      <td>2024-09-30</td>\n",
       "      <td>NaT</td>\n",
       "      <td>NaN</td>\n",
       "      <td>0.444664</td>\n",
       "      <td>NaN</td>\n",
       "      <td>NaN</td>\n",
       "    </tr>\n",
       "    <tr>\n",
       "      <th>33</th>\n",
       "      <td>2024-10-31</td>\n",
       "      <td>NaT</td>\n",
       "      <td>NaN</td>\n",
       "      <td>0.444664</td>\n",
       "      <td>NaN</td>\n",
       "      <td>NaN</td>\n",
       "    </tr>\n",
       "    <tr>\n",
       "      <th>34</th>\n",
       "      <td>2024-11-30</td>\n",
       "      <td>NaT</td>\n",
       "      <td>NaN</td>\n",
       "      <td>0.444664</td>\n",
       "      <td>NaN</td>\n",
       "      <td>NaN</td>\n",
       "    </tr>\n",
       "    <tr>\n",
       "      <th>35</th>\n",
       "      <td>2024-12-31</td>\n",
       "      <td>NaT</td>\n",
       "      <td>NaN</td>\n",
       "      <td>0.444664</td>\n",
       "      <td>NaN</td>\n",
       "      <td>NaN</td>\n",
       "    </tr>\n",
       "  </tbody>\n",
       "</table>\n",
       "</div>"
      ],
      "text/plain": [
       "            0       Date  Value_realgdp  Value_potentialgdp_growth_rate  \\\n",
       "0  2022-01-31        NaT            NaN                             NaN   \n",
       "1  2022-02-28        NaT            NaN                             NaN   \n",
       "2  2022-03-31 2022-03-31           -2.0                        0.458716   \n",
       "3  2022-04-30        NaT            NaN                        0.458716   \n",
       "4  2022-05-31        NaT            NaN                        0.458716   \n",
       "5  2022-06-30 2022-06-30           -0.6                        0.405885   \n",
       "6  2022-07-31        NaT            NaN                        0.405885   \n",
       "7  2022-08-31        NaT            NaN                        0.405885   \n",
       "8  2022-09-30 2022-09-30            2.7                        0.454775   \n",
       "9  2022-10-31        NaT            NaN                        0.454775   \n",
       "10 2022-11-30        NaT            NaN                        0.454775   \n",
       "11 2022-12-31 2022-12-31            2.6                        0.452716   \n",
       "12 2023-01-31        NaT            NaN                        0.452716   \n",
       "13 2023-02-28        NaT            NaN                        0.452716   \n",
       "14 2023-03-31 2023-03-31            2.2                        0.450676   \n",
       "15 2023-04-30        NaT            NaN                        0.450676   \n",
       "16 2023-05-31        NaT            NaN                        0.450676   \n",
       "17 2023-06-30 2023-06-30            2.1                        0.448654   \n",
       "18 2023-07-31        NaT            NaN                        0.448654   \n",
       "19 2023-08-31        NaT            NaN                        0.448654   \n",
       "20 2023-09-30 2023-09-30            4.9                        0.446650   \n",
       "21 2023-10-31        NaT            NaN                        0.446650   \n",
       "22 2023-11-30        NaT            NaN                        0.446650   \n",
       "23 2023-12-31 2023-12-31            3.4                        0.444664   \n",
       "24 2024-01-31        NaT            NaN                        0.444664   \n",
       "25 2024-02-29        NaT            NaN                        0.444664   \n",
       "26 2024-03-31        NaT            NaN                        0.444664   \n",
       "27 2024-04-30        NaT            NaN                        0.444664   \n",
       "28 2024-05-31        NaT            NaN                        0.444664   \n",
       "29 2024-06-30        NaT            NaN                        0.444664   \n",
       "30 2024-07-31        NaT            NaN                        0.444664   \n",
       "31 2024-08-31        NaT            NaN                        0.444664   \n",
       "32 2024-09-30        NaT            NaN                        0.444664   \n",
       "33 2024-10-31        NaT            NaN                        0.444664   \n",
       "34 2024-11-30        NaT            NaN                        0.444664   \n",
       "35 2024-12-31        NaT            NaN                        0.444664   \n",
       "\n",
       "    Value_unemploymentrate  Implied_Unemployment_Rate  \n",
       "0                      NaN                        NaN  \n",
       "1                      NaN                        NaN  \n",
       "2                      3.6                       -4.4  \n",
       "3                      NaN                        NaN  \n",
       "4                      NaN                        NaN  \n",
       "5                      3.6                       -1.6  \n",
       "6                      NaN                        NaN  \n",
       "7                      NaN                        NaN  \n",
       "8                      3.5                        4.9  \n",
       "9                      NaN                        NaN  \n",
       "10                     NaN                        NaN  \n",
       "11                     3.5                        4.7  \n",
       "12                     NaN                        NaN  \n",
       "13                     NaN                        NaN  \n",
       "14                     3.5                        3.9  \n",
       "15                     NaN                        NaN  \n",
       "16                     NaN                        NaN  \n",
       "17                     3.6                        3.8  \n",
       "18                     NaN                        NaN  \n",
       "19                     NaN                        NaN  \n",
       "20                     3.8                        9.6  \n",
       "21                     NaN                        NaN  \n",
       "22                     NaN                        NaN  \n",
       "23                     3.7                        6.5  \n",
       "24                     NaN                        NaN  \n",
       "25                     NaN                        NaN  \n",
       "26                     NaN                        NaN  \n",
       "27                     NaN                        NaN  \n",
       "28                     NaN                        NaN  \n",
       "29                     NaN                        NaN  \n",
       "30                     NaN                        NaN  \n",
       "31                     NaN                        NaN  \n",
       "32                     NaN                        NaN  \n",
       "33                     NaN                        NaN  \n",
       "34                     NaN                        NaN  \n",
       "35                     NaN                        NaN  "
      ]
     },
     "execution_count": 178,
     "metadata": {},
     "output_type": "execute_result"
    }
   ],
   "source": [
    "merged_df"
   ]
  },
  {
   "cell_type": "markdown",
   "metadata": {},
   "source": [
    "Hourly Rate Data"
   ]
  },
  {
   "cell_type": "code",
   "execution_count": 179,
   "metadata": {},
   "outputs": [
    {
     "name": "stdout",
     "output_type": "stream",
     "text": [
      "         Date  Value\n",
      "0  2024-03-31  34.69\n",
      "1  2024-02-29  34.57\n",
      "2  2024-01-31  34.51\n",
      "3  2023-12-31  34.34\n",
      "4  2023-11-30  34.23\n",
      "..        ...    ...\n",
      "95 2016-04-30  25.53\n",
      "96 2016-03-31  25.46\n",
      "97 2016-02-29  25.38\n",
      "98 2016-01-31  25.38\n",
      "99 2015-12-31  25.26\n",
      "\n",
      "[100 rows x 2 columns]\n"
     ]
    }
   ],
   "source": [
    "import pandas as pd\n",
    "\n",
    "# Define the data\n",
    "dates = [\n",
    "    \"March 31, 2024\", \"February 29, 2024\", \"January 31, 2024\", \"December 31, 2023\", \"November 30, 2023\", \"October 31, 2023\",\n",
    "    \"September 30, 2023\", \"August 31, 2023\", \"July 31, 2023\", \"June 30, 2023\", \"May 31, 2023\", \"April 30, 2023\", \"March 31, 2023\",\n",
    "    \"February 28, 2023\", \"January 31, 2023\", \"December 31, 2022\", \"November 30, 2022\", \"October 31, 2022\", \"September 30, 2022\",\n",
    "    \"August 31, 2022\", \"July 31, 2022\", \"June 30, 2022\", \"May 31, 2022\", \"April 30, 2022\", \"March 31, 2022\", \"February 28, 2022\",\n",
    "    \"January 31, 2022\", \"December 31, 2021\", \"November 30, 2021\", \"October 31, 2021\", \"September 30, 2021\", \"August 31, 2021\",\n",
    "    \"July 31, 2021\", \"June 30, 2021\", \"May 31, 2021\", \"April 30, 2021\", \"March 31, 2021\", \"February 28, 2021\", \"January 31, 2021\",\n",
    "    \"December 31, 2020\", \"November 30, 2020\", \"October 31, 2020\", \"September 30, 2020\", \"August 31, 2020\", \"July 31, 2020\",\n",
    "    \"June 30, 2020\", \"May 31, 2020\", \"April 30, 2020\", \"March 31, 2020\", \"February 29, 2020\", \"January 31, 2020\", \"December 31, 2019\",\n",
    "    \"November 30, 2019\", \"October 31, 2019\", \"September 30, 2019\", \"August 31, 2019\", \"July 31, 2019\", \"June 30, 2019\", \"May 31, 2019\",\n",
    "    \"April 30, 2019\", \"March 31, 2019\", \"February 28, 2019\", \"January 31, 2019\", \"December 31, 2018\", \"November 30, 2018\",\n",
    "    \"October 31, 2018\", \"September 30, 2018\", \"August 31, 2018\", \"July 31, 2018\", \"June 30, 2018\", \"May 31, 2018\", \"April 30, 2018\",\n",
    "    \"March 31, 2018\", \"February 28, 2018\", \"January 31, 2018\", \"December 31, 2017\", \"November 30, 2017\", \"October 31, 2017\",\n",
    "    \"September 30, 2017\", \"August 31, 2017\", \"July 31, 2017\", \"June 30, 2017\", \"May 31, 2017\", \"April 30, 2017\", \"March 31, 2017\",\n",
    "    \"February 28, 2017\", \"January 31, 2017\", \"December 31, 2016\", \"November 30, 2016\", \"October 31, 2016\", \"September 30, 2016\",\n",
    "    \"August 31, 2016\", \"July 31, 2016\", \"June 30, 2016\", \"May 31, 2016\", \"April 30, 2016\", \"March 31, 2016\", \"February 29, 2016\",\n",
    "    \"January 31, 2016\", \"December 31, 2015\"\n",
    "]\n",
    "values = [\n",
    "    34.69, 34.57, 34.51, 34.34, 34.23, 34.10, 34.01, 33.91, 33.84, 33.70, 33.54, 33.44, 33.31, 33.15, 33.07, 32.94, 32.83, 32.70,\n",
    "    32.54, 32.44, 32.33, 32.20, 32.08, 31.95, 31.84, 31.65, 31.63, 31.42, 31.24, 31.14, 30.96, 30.78, 30.66, 30.53, 30.38, 30.20,\n",
    "    30.05, 30.05, 29.92, 29.92, 29.65, 29.53, 29.51, 29.48, 29.41, 29.36, 29.71, 30.01, 28.79, 28.56, 28.43, 28.36, 28.33, 28.24,\n",
    "    28.15, 28.16, 28.04, 27.96, 27.88, 27.80, 27.76, 27.68, 27.59, 27.54, 27.44, 27.36, 27.31, 27.22, 27.11, 27.04, 26.98, 26.91,\n",
    "    26.84, 26.75, 26.71, 26.64, 26.55, 26.47, 26.51, 26.39, 26.36, 26.28, 26.22, 26.17, 26.11, 26.08, 25.98, 25.95, 25.90, 25.88,\n",
    "    25.78, 25.72, 25.70, 25.62, 25.58, 25.53, 25.46, 25.38, 25.38, 25.26\n",
    "]\n",
    "\n",
    "# Create DataFrame\n",
    "hourly_rate_df = pd.DataFrame({\"Date\": dates, \"Value\": values})\n",
    "\n",
    "# Convert 'Date' column to datetime format\n",
    "hourly_rate_df['Date'] = pd.to_datetime(hourly_rate_df['Date'], format='%B %d, %Y')\n",
    "\n",
    "# Print the DataFrame\n",
    "print(hourly_rate_df)\n"
   ]
  },
  {
   "cell_type": "markdown",
   "metadata": {},
   "source": []
  },
  {
   "cell_type": "code",
   "execution_count": 183,
   "metadata": {},
   "outputs": [
    {
     "name": "stderr",
     "output_type": "stream",
     "text": [
      "c:\\ProgramData\\anaconda3\\Lib\\site-packages\\_plotly_utils\\basevalidators.py:106: FutureWarning:\n",
      "\n",
      "The behavior of DatetimeProperties.to_pydatetime is deprecated, in a future version this will return a Series containing python datetime objects instead of an ndarray. To retain the old behavior, call `np.array` on the result\n",
      "\n"
     ]
    },
    {
     "data": {
      "application/vnd.plotly.v1+json": {
       "config": {
        "plotlyServerURL": "https://plot.ly"
       },
       "data": [
        {
         "connectgaps": true,
         "mode": "lines+markers",
         "name": "Real GDP",
         "type": "scatter",
         "x": [
          null,
          null,
          "2022-03-31T00:00:00",
          null,
          null,
          "2022-06-30T00:00:00",
          null,
          null,
          "2022-09-30T00:00:00",
          null,
          null,
          "2022-12-31T00:00:00",
          null,
          null,
          "2023-03-31T00:00:00",
          null,
          null,
          "2023-06-30T00:00:00",
          null,
          null,
          "2023-09-30T00:00:00",
          null,
          null,
          "2023-12-31T00:00:00",
          null,
          null,
          null,
          null,
          null,
          null,
          null,
          null,
          null,
          null,
          null,
          null
         ],
         "y": [
          null,
          null,
          -2,
          null,
          null,
          -0.6,
          null,
          null,
          2.7,
          null,
          null,
          2.6,
          null,
          null,
          2.2,
          null,
          null,
          2.1,
          null,
          null,
          4.9,
          null,
          null,
          3.4,
          null,
          null,
          null,
          null,
          null,
          null,
          null,
          null,
          null,
          null,
          null,
          null
         ]
        },
        {
         "connectgaps": true,
         "mode": "lines+markers",
         "name": "Potential GDP Growth Rate",
         "type": "scatter",
         "x": [
          null,
          null,
          "2022-03-31T00:00:00",
          null,
          null,
          "2022-06-30T00:00:00",
          null,
          null,
          "2022-09-30T00:00:00",
          null,
          null,
          "2022-12-31T00:00:00",
          null,
          null,
          "2023-03-31T00:00:00",
          null,
          null,
          "2023-06-30T00:00:00",
          null,
          null,
          "2023-09-30T00:00:00",
          null,
          null,
          "2023-12-31T00:00:00",
          null,
          null,
          null,
          null,
          null,
          null,
          null,
          null,
          null,
          null,
          null,
          null
         ],
         "y": [
          null,
          null,
          0.4587155963302836,
          0.4587155963302836,
          0.4587155963302836,
          0.4058853373921867,
          0.4058853373921867,
          0.4058853373921867,
          0.4547751389590626,
          0.4547751389590626,
          0.4547751389590626,
          0.4527162977867149,
          0.4527162977867149,
          0.4527162977867149,
          0.4506760140210231,
          0.4506760140210231,
          0.4506760140210231,
          0.4486540378863424,
          0.4486540378863424,
          0.4486540378863424,
          0.4466501240694809,
          0.4466501240694809,
          0.4466501240694809,
          0.4446640316205563,
          0.4446640316205563,
          0.4446640316205563,
          0.4446640316205563,
          0.4446640316205563,
          0.4446640316205563,
          0.4446640316205563,
          0.4446640316205563,
          0.4446640316205563,
          0.4446640316205563,
          0.4446640316205563,
          0.4446640316205563,
          0.4446640316205563
         ]
        },
        {
         "connectgaps": true,
         "mode": "lines+markers",
         "name": "Unemployment Rate",
         "type": "scatter",
         "x": [
          null,
          null,
          "2022-03-31T00:00:00",
          null,
          null,
          "2022-06-30T00:00:00",
          null,
          null,
          "2022-09-30T00:00:00",
          null,
          null,
          "2022-12-31T00:00:00",
          null,
          null,
          "2023-03-31T00:00:00",
          null,
          null,
          "2023-06-30T00:00:00",
          null,
          null,
          "2023-09-30T00:00:00",
          null,
          null,
          "2023-12-31T00:00:00",
          null,
          null,
          null,
          null,
          null,
          null,
          null,
          null,
          null,
          null,
          null,
          null
         ],
         "y": [
          null,
          null,
          3.6,
          null,
          null,
          3.6,
          null,
          null,
          3.5,
          null,
          null,
          3.5,
          null,
          null,
          3.5,
          null,
          null,
          3.6,
          null,
          null,
          3.8,
          null,
          null,
          3.7,
          null,
          null,
          null,
          null,
          null,
          null,
          null,
          null,
          null,
          null,
          null,
          null
         ]
        },
        {
         "connectgaps": true,
         "mode": "lines+markers",
         "name": "Implied Unemployment Rate",
         "type": "scatter",
         "x": [
          null,
          null,
          "2022-03-31T00:00:00",
          null,
          null,
          "2022-06-30T00:00:00",
          null,
          null,
          "2022-09-30T00:00:00",
          null,
          null,
          "2022-12-31T00:00:00",
          null,
          null,
          "2023-03-31T00:00:00",
          null,
          null,
          "2023-06-30T00:00:00",
          null,
          null,
          "2023-09-30T00:00:00",
          null,
          null,
          "2023-12-31T00:00:00",
          null,
          null,
          null,
          null,
          null,
          null,
          null,
          null,
          null,
          null,
          null,
          null
         ],
         "y": [
          null,
          null,
          -4.4,
          null,
          null,
          -1.6,
          null,
          null,
          4.9,
          null,
          null,
          4.7,
          null,
          null,
          3.9000000000000004,
          null,
          null,
          3.8000000000000003,
          null,
          null,
          9.600000000000001,
          null,
          null,
          6.5,
          null,
          null,
          null,
          null,
          null,
          null,
          null,
          null,
          null,
          null,
          null,
          null
         ]
        },
        {
         "connectgaps": true,
         "mode": "lines+markers",
         "name": "Hourly Rate",
         "type": "scatter",
         "x": [
          null,
          null,
          "2022-03-31T00:00:00",
          null,
          null,
          "2022-06-30T00:00:00",
          null,
          null,
          "2022-09-30T00:00:00",
          null,
          null,
          "2022-12-31T00:00:00",
          null,
          null,
          "2023-03-31T00:00:00",
          null,
          null,
          "2023-06-30T00:00:00",
          null,
          null,
          "2023-09-30T00:00:00",
          null,
          null,
          "2023-12-31T00:00:00",
          null,
          null,
          null,
          null,
          null,
          null,
          null,
          null,
          null,
          null,
          null,
          null
         ],
         "y": [
          null,
          null,
          31.84,
          null,
          null,
          32.2,
          null,
          null,
          32.54,
          null,
          null,
          32.94,
          null,
          null,
          33.31,
          null,
          null,
          33.7,
          null,
          null,
          34.01,
          null,
          null,
          34.34,
          null,
          null,
          null,
          null,
          null,
          null,
          null,
          null,
          null,
          null,
          null,
          null
         ],
         "yaxis": "y2"
        }
       ],
       "layout": {
        "template": {
         "data": {
          "bar": [
           {
            "error_x": {
             "color": "#2a3f5f"
            },
            "error_y": {
             "color": "#2a3f5f"
            },
            "marker": {
             "line": {
              "color": "#E5ECF6",
              "width": 0.5
             },
             "pattern": {
              "fillmode": "overlay",
              "size": 10,
              "solidity": 0.2
             }
            },
            "type": "bar"
           }
          ],
          "barpolar": [
           {
            "marker": {
             "line": {
              "color": "#E5ECF6",
              "width": 0.5
             },
             "pattern": {
              "fillmode": "overlay",
              "size": 10,
              "solidity": 0.2
             }
            },
            "type": "barpolar"
           }
          ],
          "carpet": [
           {
            "aaxis": {
             "endlinecolor": "#2a3f5f",
             "gridcolor": "white",
             "linecolor": "white",
             "minorgridcolor": "white",
             "startlinecolor": "#2a3f5f"
            },
            "baxis": {
             "endlinecolor": "#2a3f5f",
             "gridcolor": "white",
             "linecolor": "white",
             "minorgridcolor": "white",
             "startlinecolor": "#2a3f5f"
            },
            "type": "carpet"
           }
          ],
          "choropleth": [
           {
            "colorbar": {
             "outlinewidth": 0,
             "ticks": ""
            },
            "type": "choropleth"
           }
          ],
          "contour": [
           {
            "colorbar": {
             "outlinewidth": 0,
             "ticks": ""
            },
            "colorscale": [
             [
              0,
              "#0d0887"
             ],
             [
              0.1111111111111111,
              "#46039f"
             ],
             [
              0.2222222222222222,
              "#7201a8"
             ],
             [
              0.3333333333333333,
              "#9c179e"
             ],
             [
              0.4444444444444444,
              "#bd3786"
             ],
             [
              0.5555555555555556,
              "#d8576b"
             ],
             [
              0.6666666666666666,
              "#ed7953"
             ],
             [
              0.7777777777777778,
              "#fb9f3a"
             ],
             [
              0.8888888888888888,
              "#fdca26"
             ],
             [
              1,
              "#f0f921"
             ]
            ],
            "type": "contour"
           }
          ],
          "contourcarpet": [
           {
            "colorbar": {
             "outlinewidth": 0,
             "ticks": ""
            },
            "type": "contourcarpet"
           }
          ],
          "heatmap": [
           {
            "colorbar": {
             "outlinewidth": 0,
             "ticks": ""
            },
            "colorscale": [
             [
              0,
              "#0d0887"
             ],
             [
              0.1111111111111111,
              "#46039f"
             ],
             [
              0.2222222222222222,
              "#7201a8"
             ],
             [
              0.3333333333333333,
              "#9c179e"
             ],
             [
              0.4444444444444444,
              "#bd3786"
             ],
             [
              0.5555555555555556,
              "#d8576b"
             ],
             [
              0.6666666666666666,
              "#ed7953"
             ],
             [
              0.7777777777777778,
              "#fb9f3a"
             ],
             [
              0.8888888888888888,
              "#fdca26"
             ],
             [
              1,
              "#f0f921"
             ]
            ],
            "type": "heatmap"
           }
          ],
          "heatmapgl": [
           {
            "colorbar": {
             "outlinewidth": 0,
             "ticks": ""
            },
            "colorscale": [
             [
              0,
              "#0d0887"
             ],
             [
              0.1111111111111111,
              "#46039f"
             ],
             [
              0.2222222222222222,
              "#7201a8"
             ],
             [
              0.3333333333333333,
              "#9c179e"
             ],
             [
              0.4444444444444444,
              "#bd3786"
             ],
             [
              0.5555555555555556,
              "#d8576b"
             ],
             [
              0.6666666666666666,
              "#ed7953"
             ],
             [
              0.7777777777777778,
              "#fb9f3a"
             ],
             [
              0.8888888888888888,
              "#fdca26"
             ],
             [
              1,
              "#f0f921"
             ]
            ],
            "type": "heatmapgl"
           }
          ],
          "histogram": [
           {
            "marker": {
             "pattern": {
              "fillmode": "overlay",
              "size": 10,
              "solidity": 0.2
             }
            },
            "type": "histogram"
           }
          ],
          "histogram2d": [
           {
            "colorbar": {
             "outlinewidth": 0,
             "ticks": ""
            },
            "colorscale": [
             [
              0,
              "#0d0887"
             ],
             [
              0.1111111111111111,
              "#46039f"
             ],
             [
              0.2222222222222222,
              "#7201a8"
             ],
             [
              0.3333333333333333,
              "#9c179e"
             ],
             [
              0.4444444444444444,
              "#bd3786"
             ],
             [
              0.5555555555555556,
              "#d8576b"
             ],
             [
              0.6666666666666666,
              "#ed7953"
             ],
             [
              0.7777777777777778,
              "#fb9f3a"
             ],
             [
              0.8888888888888888,
              "#fdca26"
             ],
             [
              1,
              "#f0f921"
             ]
            ],
            "type": "histogram2d"
           }
          ],
          "histogram2dcontour": [
           {
            "colorbar": {
             "outlinewidth": 0,
             "ticks": ""
            },
            "colorscale": [
             [
              0,
              "#0d0887"
             ],
             [
              0.1111111111111111,
              "#46039f"
             ],
             [
              0.2222222222222222,
              "#7201a8"
             ],
             [
              0.3333333333333333,
              "#9c179e"
             ],
             [
              0.4444444444444444,
              "#bd3786"
             ],
             [
              0.5555555555555556,
              "#d8576b"
             ],
             [
              0.6666666666666666,
              "#ed7953"
             ],
             [
              0.7777777777777778,
              "#fb9f3a"
             ],
             [
              0.8888888888888888,
              "#fdca26"
             ],
             [
              1,
              "#f0f921"
             ]
            ],
            "type": "histogram2dcontour"
           }
          ],
          "mesh3d": [
           {
            "colorbar": {
             "outlinewidth": 0,
             "ticks": ""
            },
            "type": "mesh3d"
           }
          ],
          "parcoords": [
           {
            "line": {
             "colorbar": {
              "outlinewidth": 0,
              "ticks": ""
             }
            },
            "type": "parcoords"
           }
          ],
          "pie": [
           {
            "automargin": true,
            "type": "pie"
           }
          ],
          "scatter": [
           {
            "fillpattern": {
             "fillmode": "overlay",
             "size": 10,
             "solidity": 0.2
            },
            "type": "scatter"
           }
          ],
          "scatter3d": [
           {
            "line": {
             "colorbar": {
              "outlinewidth": 0,
              "ticks": ""
             }
            },
            "marker": {
             "colorbar": {
              "outlinewidth": 0,
              "ticks": ""
             }
            },
            "type": "scatter3d"
           }
          ],
          "scattercarpet": [
           {
            "marker": {
             "colorbar": {
              "outlinewidth": 0,
              "ticks": ""
             }
            },
            "type": "scattercarpet"
           }
          ],
          "scattergeo": [
           {
            "marker": {
             "colorbar": {
              "outlinewidth": 0,
              "ticks": ""
             }
            },
            "type": "scattergeo"
           }
          ],
          "scattergl": [
           {
            "marker": {
             "colorbar": {
              "outlinewidth": 0,
              "ticks": ""
             }
            },
            "type": "scattergl"
           }
          ],
          "scattermapbox": [
           {
            "marker": {
             "colorbar": {
              "outlinewidth": 0,
              "ticks": ""
             }
            },
            "type": "scattermapbox"
           }
          ],
          "scatterpolar": [
           {
            "marker": {
             "colorbar": {
              "outlinewidth": 0,
              "ticks": ""
             }
            },
            "type": "scatterpolar"
           }
          ],
          "scatterpolargl": [
           {
            "marker": {
             "colorbar": {
              "outlinewidth": 0,
              "ticks": ""
             }
            },
            "type": "scatterpolargl"
           }
          ],
          "scatterternary": [
           {
            "marker": {
             "colorbar": {
              "outlinewidth": 0,
              "ticks": ""
             }
            },
            "type": "scatterternary"
           }
          ],
          "surface": [
           {
            "colorbar": {
             "outlinewidth": 0,
             "ticks": ""
            },
            "colorscale": [
             [
              0,
              "#0d0887"
             ],
             [
              0.1111111111111111,
              "#46039f"
             ],
             [
              0.2222222222222222,
              "#7201a8"
             ],
             [
              0.3333333333333333,
              "#9c179e"
             ],
             [
              0.4444444444444444,
              "#bd3786"
             ],
             [
              0.5555555555555556,
              "#d8576b"
             ],
             [
              0.6666666666666666,
              "#ed7953"
             ],
             [
              0.7777777777777778,
              "#fb9f3a"
             ],
             [
              0.8888888888888888,
              "#fdca26"
             ],
             [
              1,
              "#f0f921"
             ]
            ],
            "type": "surface"
           }
          ],
          "table": [
           {
            "cells": {
             "fill": {
              "color": "#EBF0F8"
             },
             "line": {
              "color": "white"
             }
            },
            "header": {
             "fill": {
              "color": "#C8D4E3"
             },
             "line": {
              "color": "white"
             }
            },
            "type": "table"
           }
          ]
         },
         "layout": {
          "annotationdefaults": {
           "arrowcolor": "#2a3f5f",
           "arrowhead": 0,
           "arrowwidth": 1
          },
          "autotypenumbers": "strict",
          "coloraxis": {
           "colorbar": {
            "outlinewidth": 0,
            "ticks": ""
           }
          },
          "colorscale": {
           "diverging": [
            [
             0,
             "#8e0152"
            ],
            [
             0.1,
             "#c51b7d"
            ],
            [
             0.2,
             "#de77ae"
            ],
            [
             0.3,
             "#f1b6da"
            ],
            [
             0.4,
             "#fde0ef"
            ],
            [
             0.5,
             "#f7f7f7"
            ],
            [
             0.6,
             "#e6f5d0"
            ],
            [
             0.7,
             "#b8e186"
            ],
            [
             0.8,
             "#7fbc41"
            ],
            [
             0.9,
             "#4d9221"
            ],
            [
             1,
             "#276419"
            ]
           ],
           "sequential": [
            [
             0,
             "#0d0887"
            ],
            [
             0.1111111111111111,
             "#46039f"
            ],
            [
             0.2222222222222222,
             "#7201a8"
            ],
            [
             0.3333333333333333,
             "#9c179e"
            ],
            [
             0.4444444444444444,
             "#bd3786"
            ],
            [
             0.5555555555555556,
             "#d8576b"
            ],
            [
             0.6666666666666666,
             "#ed7953"
            ],
            [
             0.7777777777777778,
             "#fb9f3a"
            ],
            [
             0.8888888888888888,
             "#fdca26"
            ],
            [
             1,
             "#f0f921"
            ]
           ],
           "sequentialminus": [
            [
             0,
             "#0d0887"
            ],
            [
             0.1111111111111111,
             "#46039f"
            ],
            [
             0.2222222222222222,
             "#7201a8"
            ],
            [
             0.3333333333333333,
             "#9c179e"
            ],
            [
             0.4444444444444444,
             "#bd3786"
            ],
            [
             0.5555555555555556,
             "#d8576b"
            ],
            [
             0.6666666666666666,
             "#ed7953"
            ],
            [
             0.7777777777777778,
             "#fb9f3a"
            ],
            [
             0.8888888888888888,
             "#fdca26"
            ],
            [
             1,
             "#f0f921"
            ]
           ]
          },
          "colorway": [
           "#636efa",
           "#EF553B",
           "#00cc96",
           "#ab63fa",
           "#FFA15A",
           "#19d3f3",
           "#FF6692",
           "#B6E880",
           "#FF97FF",
           "#FECB52"
          ],
          "font": {
           "color": "#2a3f5f"
          },
          "geo": {
           "bgcolor": "white",
           "lakecolor": "white",
           "landcolor": "#E5ECF6",
           "showlakes": true,
           "showland": true,
           "subunitcolor": "white"
          },
          "hoverlabel": {
           "align": "left"
          },
          "hovermode": "closest",
          "mapbox": {
           "style": "light"
          },
          "paper_bgcolor": "white",
          "plot_bgcolor": "#E5ECF6",
          "polar": {
           "angularaxis": {
            "gridcolor": "white",
            "linecolor": "white",
            "ticks": ""
           },
           "bgcolor": "#E5ECF6",
           "radialaxis": {
            "gridcolor": "white",
            "linecolor": "white",
            "ticks": ""
           }
          },
          "scene": {
           "xaxis": {
            "backgroundcolor": "#E5ECF6",
            "gridcolor": "white",
            "gridwidth": 2,
            "linecolor": "white",
            "showbackground": true,
            "ticks": "",
            "zerolinecolor": "white"
           },
           "yaxis": {
            "backgroundcolor": "#E5ECF6",
            "gridcolor": "white",
            "gridwidth": 2,
            "linecolor": "white",
            "showbackground": true,
            "ticks": "",
            "zerolinecolor": "white"
           },
           "zaxis": {
            "backgroundcolor": "#E5ECF6",
            "gridcolor": "white",
            "gridwidth": 2,
            "linecolor": "white",
            "showbackground": true,
            "ticks": "",
            "zerolinecolor": "white"
           }
          },
          "shapedefaults": {
           "line": {
            "color": "#2a3f5f"
           }
          },
          "ternary": {
           "aaxis": {
            "gridcolor": "white",
            "linecolor": "white",
            "ticks": ""
           },
           "baxis": {
            "gridcolor": "white",
            "linecolor": "white",
            "ticks": ""
           },
           "bgcolor": "#E5ECF6",
           "caxis": {
            "gridcolor": "white",
            "linecolor": "white",
            "ticks": ""
           }
          },
          "title": {
           "x": 0.05
          },
          "xaxis": {
           "automargin": true,
           "gridcolor": "white",
           "linecolor": "white",
           "ticks": "",
           "title": {
            "standoff": 15
           },
           "zerolinecolor": "white",
           "zerolinewidth": 2
          },
          "yaxis": {
           "automargin": true,
           "gridcolor": "white",
           "linecolor": "white",
           "ticks": "",
           "title": {
            "standoff": 15
           },
           "zerolinecolor": "white",
           "zerolinewidth": 2
          }
         }
        },
        "title": {
         "text": "Dynamic Chart"
        },
        "xaxis": {
         "title": {
          "text": "Date"
         }
        },
        "yaxis": {
         "title": {
          "text": "GDP, Unemployment Rate"
         }
        },
        "yaxis2": {
         "overlaying": "y",
         "side": "right",
         "title": {
          "text": "Hourly Rate"
         }
        }
       }
      }
     },
     "metadata": {},
     "output_type": "display_data"
    }
   ],
   "source": [
    "# Merge Hourly Rate DataFrame with the existing DataFrame\n",
    "merged_df = pd.merge(merged_df, hourly_rate_df, on='Date', how='left')\n",
    "\n",
    "# Convert columns to numeric type if needed\n",
    "numeric_cols = ['Value_realgdp', 'Value_unemploymentrate', 'Value']\n",
    "for col in numeric_cols:\n",
    "    merged_df[col] = pd.to_numeric(merged_df[col], errors='coerce')\n",
    "\n",
    "# Create Plotly figure\n",
    "fig = go.Figure()\n",
    "\n",
    "# Add traces for each dataset\n",
    "fig.add_trace(go.Scatter(x=merged_df['Date'], y=merged_df['Value_realgdp'], mode='lines+markers', name='Real GDP'))\n",
    "fig.add_trace(go.Scatter(x=merged_df['Date'], y=merged_df['Value_potentialgdp_growth_rate'], mode='lines+markers', name='Potential GDP Growth Rate'))\n",
    "fig.add_trace(go.Scatter(x=merged_df['Date'], y=merged_df['Value_unemploymentrate'], mode='lines+markers', name='Unemployment Rate'))\n",
    "fig.add_trace(go.Scatter(x=merged_df['Date'], y=merged_df['Implied_Unemployment_Rate'], mode='lines+markers', name='Implied Unemployment Rate'))\n",
    "\n",
    "\n",
    "# Add trace for Hourly Rate with secondary y-axis\n",
    "fig.add_trace(go.Scatter(x=merged_df['Date'], y=merged_df['Value'], mode='lines+markers', name='Hourly Rate', yaxis='y2'))\n",
    "\n",
    "# Add lines connecting the dots\n",
    "fig.update_traces(connectgaps=True)\n",
    "\n",
    "# Update layout with secondary y-axis\n",
    "fig.update_layout(title='Dynamic Chart',\n",
    "                  xaxis_title='Date',\n",
    "                  yaxis_title='GDP, Unemployment Rate',\n",
    "                  yaxis2=dict(title='Hourly Rate', overlaying='y', side='right'))\n",
    "\n",
    "# Show plot\n",
    "fig.show()\n"
   ]
  },
  {
   "cell_type": "code",
   "execution_count": 184,
   "metadata": {},
   "outputs": [
    {
     "data": {
      "text/html": [
       "<div>\n",
       "<style scoped>\n",
       "    .dataframe tbody tr th:only-of-type {\n",
       "        vertical-align: middle;\n",
       "    }\n",
       "\n",
       "    .dataframe tbody tr th {\n",
       "        vertical-align: top;\n",
       "    }\n",
       "\n",
       "    .dataframe thead th {\n",
       "        text-align: right;\n",
       "    }\n",
       "</style>\n",
       "<table border=\"1\" class=\"dataframe\">\n",
       "  <thead>\n",
       "    <tr style=\"text-align: right;\">\n",
       "      <th></th>\n",
       "      <th>0</th>\n",
       "      <th>Date</th>\n",
       "      <th>Value_realgdp</th>\n",
       "      <th>Value_potentialgdp_growth_rate</th>\n",
       "      <th>Value_unemploymentrate</th>\n",
       "      <th>Implied_Unemployment_Rate</th>\n",
       "      <th>Value_x</th>\n",
       "      <th>Value_y</th>\n",
       "      <th>Value</th>\n",
       "    </tr>\n",
       "  </thead>\n",
       "  <tbody>\n",
       "    <tr>\n",
       "      <th>0</th>\n",
       "      <td>2022-01-31</td>\n",
       "      <td>NaT</td>\n",
       "      <td>NaN</td>\n",
       "      <td>NaN</td>\n",
       "      <td>NaN</td>\n",
       "      <td>NaN</td>\n",
       "      <td>NaN</td>\n",
       "      <td>NaN</td>\n",
       "      <td>NaN</td>\n",
       "    </tr>\n",
       "    <tr>\n",
       "      <th>1</th>\n",
       "      <td>2022-02-28</td>\n",
       "      <td>NaT</td>\n",
       "      <td>NaN</td>\n",
       "      <td>NaN</td>\n",
       "      <td>NaN</td>\n",
       "      <td>NaN</td>\n",
       "      <td>NaN</td>\n",
       "      <td>NaN</td>\n",
       "      <td>NaN</td>\n",
       "    </tr>\n",
       "    <tr>\n",
       "      <th>2</th>\n",
       "      <td>2022-03-31</td>\n",
       "      <td>2022-03-31</td>\n",
       "      <td>-2.0</td>\n",
       "      <td>0.458716</td>\n",
       "      <td>3.6</td>\n",
       "      <td>-4.4</td>\n",
       "      <td>31.84</td>\n",
       "      <td>31.84</td>\n",
       "      <td>31.84</td>\n",
       "    </tr>\n",
       "    <tr>\n",
       "      <th>3</th>\n",
       "      <td>2022-04-30</td>\n",
       "      <td>NaT</td>\n",
       "      <td>NaN</td>\n",
       "      <td>0.458716</td>\n",
       "      <td>NaN</td>\n",
       "      <td>NaN</td>\n",
       "      <td>NaN</td>\n",
       "      <td>NaN</td>\n",
       "      <td>NaN</td>\n",
       "    </tr>\n",
       "    <tr>\n",
       "      <th>4</th>\n",
       "      <td>2022-05-31</td>\n",
       "      <td>NaT</td>\n",
       "      <td>NaN</td>\n",
       "      <td>0.458716</td>\n",
       "      <td>NaN</td>\n",
       "      <td>NaN</td>\n",
       "      <td>NaN</td>\n",
       "      <td>NaN</td>\n",
       "      <td>NaN</td>\n",
       "    </tr>\n",
       "    <tr>\n",
       "      <th>5</th>\n",
       "      <td>2022-06-30</td>\n",
       "      <td>2022-06-30</td>\n",
       "      <td>-0.6</td>\n",
       "      <td>0.405885</td>\n",
       "      <td>3.6</td>\n",
       "      <td>-1.6</td>\n",
       "      <td>32.20</td>\n",
       "      <td>32.20</td>\n",
       "      <td>32.20</td>\n",
       "    </tr>\n",
       "    <tr>\n",
       "      <th>6</th>\n",
       "      <td>2022-07-31</td>\n",
       "      <td>NaT</td>\n",
       "      <td>NaN</td>\n",
       "      <td>0.405885</td>\n",
       "      <td>NaN</td>\n",
       "      <td>NaN</td>\n",
       "      <td>NaN</td>\n",
       "      <td>NaN</td>\n",
       "      <td>NaN</td>\n",
       "    </tr>\n",
       "    <tr>\n",
       "      <th>7</th>\n",
       "      <td>2022-08-31</td>\n",
       "      <td>NaT</td>\n",
       "      <td>NaN</td>\n",
       "      <td>0.405885</td>\n",
       "      <td>NaN</td>\n",
       "      <td>NaN</td>\n",
       "      <td>NaN</td>\n",
       "      <td>NaN</td>\n",
       "      <td>NaN</td>\n",
       "    </tr>\n",
       "    <tr>\n",
       "      <th>8</th>\n",
       "      <td>2022-09-30</td>\n",
       "      <td>2022-09-30</td>\n",
       "      <td>2.7</td>\n",
       "      <td>0.454775</td>\n",
       "      <td>3.5</td>\n",
       "      <td>4.9</td>\n",
       "      <td>32.54</td>\n",
       "      <td>32.54</td>\n",
       "      <td>32.54</td>\n",
       "    </tr>\n",
       "    <tr>\n",
       "      <th>9</th>\n",
       "      <td>2022-10-31</td>\n",
       "      <td>NaT</td>\n",
       "      <td>NaN</td>\n",
       "      <td>0.454775</td>\n",
       "      <td>NaN</td>\n",
       "      <td>NaN</td>\n",
       "      <td>NaN</td>\n",
       "      <td>NaN</td>\n",
       "      <td>NaN</td>\n",
       "    </tr>\n",
       "    <tr>\n",
       "      <th>10</th>\n",
       "      <td>2022-11-30</td>\n",
       "      <td>NaT</td>\n",
       "      <td>NaN</td>\n",
       "      <td>0.454775</td>\n",
       "      <td>NaN</td>\n",
       "      <td>NaN</td>\n",
       "      <td>NaN</td>\n",
       "      <td>NaN</td>\n",
       "      <td>NaN</td>\n",
       "    </tr>\n",
       "    <tr>\n",
       "      <th>11</th>\n",
       "      <td>2022-12-31</td>\n",
       "      <td>2022-12-31</td>\n",
       "      <td>2.6</td>\n",
       "      <td>0.452716</td>\n",
       "      <td>3.5</td>\n",
       "      <td>4.7</td>\n",
       "      <td>32.94</td>\n",
       "      <td>32.94</td>\n",
       "      <td>32.94</td>\n",
       "    </tr>\n",
       "    <tr>\n",
       "      <th>12</th>\n",
       "      <td>2023-01-31</td>\n",
       "      <td>NaT</td>\n",
       "      <td>NaN</td>\n",
       "      <td>0.452716</td>\n",
       "      <td>NaN</td>\n",
       "      <td>NaN</td>\n",
       "      <td>NaN</td>\n",
       "      <td>NaN</td>\n",
       "      <td>NaN</td>\n",
       "    </tr>\n",
       "    <tr>\n",
       "      <th>13</th>\n",
       "      <td>2023-02-28</td>\n",
       "      <td>NaT</td>\n",
       "      <td>NaN</td>\n",
       "      <td>0.452716</td>\n",
       "      <td>NaN</td>\n",
       "      <td>NaN</td>\n",
       "      <td>NaN</td>\n",
       "      <td>NaN</td>\n",
       "      <td>NaN</td>\n",
       "    </tr>\n",
       "    <tr>\n",
       "      <th>14</th>\n",
       "      <td>2023-03-31</td>\n",
       "      <td>2023-03-31</td>\n",
       "      <td>2.2</td>\n",
       "      <td>0.450676</td>\n",
       "      <td>3.5</td>\n",
       "      <td>3.9</td>\n",
       "      <td>33.31</td>\n",
       "      <td>33.31</td>\n",
       "      <td>33.31</td>\n",
       "    </tr>\n",
       "    <tr>\n",
       "      <th>15</th>\n",
       "      <td>2023-04-30</td>\n",
       "      <td>NaT</td>\n",
       "      <td>NaN</td>\n",
       "      <td>0.450676</td>\n",
       "      <td>NaN</td>\n",
       "      <td>NaN</td>\n",
       "      <td>NaN</td>\n",
       "      <td>NaN</td>\n",
       "      <td>NaN</td>\n",
       "    </tr>\n",
       "    <tr>\n",
       "      <th>16</th>\n",
       "      <td>2023-05-31</td>\n",
       "      <td>NaT</td>\n",
       "      <td>NaN</td>\n",
       "      <td>0.450676</td>\n",
       "      <td>NaN</td>\n",
       "      <td>NaN</td>\n",
       "      <td>NaN</td>\n",
       "      <td>NaN</td>\n",
       "      <td>NaN</td>\n",
       "    </tr>\n",
       "    <tr>\n",
       "      <th>17</th>\n",
       "      <td>2023-06-30</td>\n",
       "      <td>2023-06-30</td>\n",
       "      <td>2.1</td>\n",
       "      <td>0.448654</td>\n",
       "      <td>3.6</td>\n",
       "      <td>3.8</td>\n",
       "      <td>33.70</td>\n",
       "      <td>33.70</td>\n",
       "      <td>33.70</td>\n",
       "    </tr>\n",
       "    <tr>\n",
       "      <th>18</th>\n",
       "      <td>2023-07-31</td>\n",
       "      <td>NaT</td>\n",
       "      <td>NaN</td>\n",
       "      <td>0.448654</td>\n",
       "      <td>NaN</td>\n",
       "      <td>NaN</td>\n",
       "      <td>NaN</td>\n",
       "      <td>NaN</td>\n",
       "      <td>NaN</td>\n",
       "    </tr>\n",
       "    <tr>\n",
       "      <th>19</th>\n",
       "      <td>2023-08-31</td>\n",
       "      <td>NaT</td>\n",
       "      <td>NaN</td>\n",
       "      <td>0.448654</td>\n",
       "      <td>NaN</td>\n",
       "      <td>NaN</td>\n",
       "      <td>NaN</td>\n",
       "      <td>NaN</td>\n",
       "      <td>NaN</td>\n",
       "    </tr>\n",
       "    <tr>\n",
       "      <th>20</th>\n",
       "      <td>2023-09-30</td>\n",
       "      <td>2023-09-30</td>\n",
       "      <td>4.9</td>\n",
       "      <td>0.446650</td>\n",
       "      <td>3.8</td>\n",
       "      <td>9.6</td>\n",
       "      <td>34.01</td>\n",
       "      <td>34.01</td>\n",
       "      <td>34.01</td>\n",
       "    </tr>\n",
       "    <tr>\n",
       "      <th>21</th>\n",
       "      <td>2023-10-31</td>\n",
       "      <td>NaT</td>\n",
       "      <td>NaN</td>\n",
       "      <td>0.446650</td>\n",
       "      <td>NaN</td>\n",
       "      <td>NaN</td>\n",
       "      <td>NaN</td>\n",
       "      <td>NaN</td>\n",
       "      <td>NaN</td>\n",
       "    </tr>\n",
       "    <tr>\n",
       "      <th>22</th>\n",
       "      <td>2023-11-30</td>\n",
       "      <td>NaT</td>\n",
       "      <td>NaN</td>\n",
       "      <td>0.446650</td>\n",
       "      <td>NaN</td>\n",
       "      <td>NaN</td>\n",
       "      <td>NaN</td>\n",
       "      <td>NaN</td>\n",
       "      <td>NaN</td>\n",
       "    </tr>\n",
       "    <tr>\n",
       "      <th>23</th>\n",
       "      <td>2023-12-31</td>\n",
       "      <td>2023-12-31</td>\n",
       "      <td>3.4</td>\n",
       "      <td>0.444664</td>\n",
       "      <td>3.7</td>\n",
       "      <td>6.5</td>\n",
       "      <td>34.34</td>\n",
       "      <td>34.34</td>\n",
       "      <td>34.34</td>\n",
       "    </tr>\n",
       "    <tr>\n",
       "      <th>24</th>\n",
       "      <td>2024-01-31</td>\n",
       "      <td>NaT</td>\n",
       "      <td>NaN</td>\n",
       "      <td>0.444664</td>\n",
       "      <td>NaN</td>\n",
       "      <td>NaN</td>\n",
       "      <td>NaN</td>\n",
       "      <td>NaN</td>\n",
       "      <td>NaN</td>\n",
       "    </tr>\n",
       "    <tr>\n",
       "      <th>25</th>\n",
       "      <td>2024-02-29</td>\n",
       "      <td>NaT</td>\n",
       "      <td>NaN</td>\n",
       "      <td>0.444664</td>\n",
       "      <td>NaN</td>\n",
       "      <td>NaN</td>\n",
       "      <td>NaN</td>\n",
       "      <td>NaN</td>\n",
       "      <td>NaN</td>\n",
       "    </tr>\n",
       "    <tr>\n",
       "      <th>26</th>\n",
       "      <td>2024-03-31</td>\n",
       "      <td>NaT</td>\n",
       "      <td>NaN</td>\n",
       "      <td>0.444664</td>\n",
       "      <td>NaN</td>\n",
       "      <td>NaN</td>\n",
       "      <td>NaN</td>\n",
       "      <td>NaN</td>\n",
       "      <td>NaN</td>\n",
       "    </tr>\n",
       "    <tr>\n",
       "      <th>27</th>\n",
       "      <td>2024-04-30</td>\n",
       "      <td>NaT</td>\n",
       "      <td>NaN</td>\n",
       "      <td>0.444664</td>\n",
       "      <td>NaN</td>\n",
       "      <td>NaN</td>\n",
       "      <td>NaN</td>\n",
       "      <td>NaN</td>\n",
       "      <td>NaN</td>\n",
       "    </tr>\n",
       "    <tr>\n",
       "      <th>28</th>\n",
       "      <td>2024-05-31</td>\n",
       "      <td>NaT</td>\n",
       "      <td>NaN</td>\n",
       "      <td>0.444664</td>\n",
       "      <td>NaN</td>\n",
       "      <td>NaN</td>\n",
       "      <td>NaN</td>\n",
       "      <td>NaN</td>\n",
       "      <td>NaN</td>\n",
       "    </tr>\n",
       "    <tr>\n",
       "      <th>29</th>\n",
       "      <td>2024-06-30</td>\n",
       "      <td>NaT</td>\n",
       "      <td>NaN</td>\n",
       "      <td>0.444664</td>\n",
       "      <td>NaN</td>\n",
       "      <td>NaN</td>\n",
       "      <td>NaN</td>\n",
       "      <td>NaN</td>\n",
       "      <td>NaN</td>\n",
       "    </tr>\n",
       "    <tr>\n",
       "      <th>30</th>\n",
       "      <td>2024-07-31</td>\n",
       "      <td>NaT</td>\n",
       "      <td>NaN</td>\n",
       "      <td>0.444664</td>\n",
       "      <td>NaN</td>\n",
       "      <td>NaN</td>\n",
       "      <td>NaN</td>\n",
       "      <td>NaN</td>\n",
       "      <td>NaN</td>\n",
       "    </tr>\n",
       "    <tr>\n",
       "      <th>31</th>\n",
       "      <td>2024-08-31</td>\n",
       "      <td>NaT</td>\n",
       "      <td>NaN</td>\n",
       "      <td>0.444664</td>\n",
       "      <td>NaN</td>\n",
       "      <td>NaN</td>\n",
       "      <td>NaN</td>\n",
       "      <td>NaN</td>\n",
       "      <td>NaN</td>\n",
       "    </tr>\n",
       "    <tr>\n",
       "      <th>32</th>\n",
       "      <td>2024-09-30</td>\n",
       "      <td>NaT</td>\n",
       "      <td>NaN</td>\n",
       "      <td>0.444664</td>\n",
       "      <td>NaN</td>\n",
       "      <td>NaN</td>\n",
       "      <td>NaN</td>\n",
       "      <td>NaN</td>\n",
       "      <td>NaN</td>\n",
       "    </tr>\n",
       "    <tr>\n",
       "      <th>33</th>\n",
       "      <td>2024-10-31</td>\n",
       "      <td>NaT</td>\n",
       "      <td>NaN</td>\n",
       "      <td>0.444664</td>\n",
       "      <td>NaN</td>\n",
       "      <td>NaN</td>\n",
       "      <td>NaN</td>\n",
       "      <td>NaN</td>\n",
       "      <td>NaN</td>\n",
       "    </tr>\n",
       "    <tr>\n",
       "      <th>34</th>\n",
       "      <td>2024-11-30</td>\n",
       "      <td>NaT</td>\n",
       "      <td>NaN</td>\n",
       "      <td>0.444664</td>\n",
       "      <td>NaN</td>\n",
       "      <td>NaN</td>\n",
       "      <td>NaN</td>\n",
       "      <td>NaN</td>\n",
       "      <td>NaN</td>\n",
       "    </tr>\n",
       "    <tr>\n",
       "      <th>35</th>\n",
       "      <td>2024-12-31</td>\n",
       "      <td>NaT</td>\n",
       "      <td>NaN</td>\n",
       "      <td>0.444664</td>\n",
       "      <td>NaN</td>\n",
       "      <td>NaN</td>\n",
       "      <td>NaN</td>\n",
       "      <td>NaN</td>\n",
       "      <td>NaN</td>\n",
       "    </tr>\n",
       "  </tbody>\n",
       "</table>\n",
       "</div>"
      ],
      "text/plain": [
       "            0       Date  Value_realgdp  Value_potentialgdp_growth_rate  \\\n",
       "0  2022-01-31        NaT            NaN                             NaN   \n",
       "1  2022-02-28        NaT            NaN                             NaN   \n",
       "2  2022-03-31 2022-03-31           -2.0                        0.458716   \n",
       "3  2022-04-30        NaT            NaN                        0.458716   \n",
       "4  2022-05-31        NaT            NaN                        0.458716   \n",
       "5  2022-06-30 2022-06-30           -0.6                        0.405885   \n",
       "6  2022-07-31        NaT            NaN                        0.405885   \n",
       "7  2022-08-31        NaT            NaN                        0.405885   \n",
       "8  2022-09-30 2022-09-30            2.7                        0.454775   \n",
       "9  2022-10-31        NaT            NaN                        0.454775   \n",
       "10 2022-11-30        NaT            NaN                        0.454775   \n",
       "11 2022-12-31 2022-12-31            2.6                        0.452716   \n",
       "12 2023-01-31        NaT            NaN                        0.452716   \n",
       "13 2023-02-28        NaT            NaN                        0.452716   \n",
       "14 2023-03-31 2023-03-31            2.2                        0.450676   \n",
       "15 2023-04-30        NaT            NaN                        0.450676   \n",
       "16 2023-05-31        NaT            NaN                        0.450676   \n",
       "17 2023-06-30 2023-06-30            2.1                        0.448654   \n",
       "18 2023-07-31        NaT            NaN                        0.448654   \n",
       "19 2023-08-31        NaT            NaN                        0.448654   \n",
       "20 2023-09-30 2023-09-30            4.9                        0.446650   \n",
       "21 2023-10-31        NaT            NaN                        0.446650   \n",
       "22 2023-11-30        NaT            NaN                        0.446650   \n",
       "23 2023-12-31 2023-12-31            3.4                        0.444664   \n",
       "24 2024-01-31        NaT            NaN                        0.444664   \n",
       "25 2024-02-29        NaT            NaN                        0.444664   \n",
       "26 2024-03-31        NaT            NaN                        0.444664   \n",
       "27 2024-04-30        NaT            NaN                        0.444664   \n",
       "28 2024-05-31        NaT            NaN                        0.444664   \n",
       "29 2024-06-30        NaT            NaN                        0.444664   \n",
       "30 2024-07-31        NaT            NaN                        0.444664   \n",
       "31 2024-08-31        NaT            NaN                        0.444664   \n",
       "32 2024-09-30        NaT            NaN                        0.444664   \n",
       "33 2024-10-31        NaT            NaN                        0.444664   \n",
       "34 2024-11-30        NaT            NaN                        0.444664   \n",
       "35 2024-12-31        NaT            NaN                        0.444664   \n",
       "\n",
       "    Value_unemploymentrate  Implied_Unemployment_Rate  Value_x  Value_y  Value  \n",
       "0                      NaN                        NaN      NaN      NaN    NaN  \n",
       "1                      NaN                        NaN      NaN      NaN    NaN  \n",
       "2                      3.6                       -4.4    31.84    31.84  31.84  \n",
       "3                      NaN                        NaN      NaN      NaN    NaN  \n",
       "4                      NaN                        NaN      NaN      NaN    NaN  \n",
       "5                      3.6                       -1.6    32.20    32.20  32.20  \n",
       "6                      NaN                        NaN      NaN      NaN    NaN  \n",
       "7                      NaN                        NaN      NaN      NaN    NaN  \n",
       "8                      3.5                        4.9    32.54    32.54  32.54  \n",
       "9                      NaN                        NaN      NaN      NaN    NaN  \n",
       "10                     NaN                        NaN      NaN      NaN    NaN  \n",
       "11                     3.5                        4.7    32.94    32.94  32.94  \n",
       "12                     NaN                        NaN      NaN      NaN    NaN  \n",
       "13                     NaN                        NaN      NaN      NaN    NaN  \n",
       "14                     3.5                        3.9    33.31    33.31  33.31  \n",
       "15                     NaN                        NaN      NaN      NaN    NaN  \n",
       "16                     NaN                        NaN      NaN      NaN    NaN  \n",
       "17                     3.6                        3.8    33.70    33.70  33.70  \n",
       "18                     NaN                        NaN      NaN      NaN    NaN  \n",
       "19                     NaN                        NaN      NaN      NaN    NaN  \n",
       "20                     3.8                        9.6    34.01    34.01  34.01  \n",
       "21                     NaN                        NaN      NaN      NaN    NaN  \n",
       "22                     NaN                        NaN      NaN      NaN    NaN  \n",
       "23                     3.7                        6.5    34.34    34.34  34.34  \n",
       "24                     NaN                        NaN      NaN      NaN    NaN  \n",
       "25                     NaN                        NaN      NaN      NaN    NaN  \n",
       "26                     NaN                        NaN      NaN      NaN    NaN  \n",
       "27                     NaN                        NaN      NaN      NaN    NaN  \n",
       "28                     NaN                        NaN      NaN      NaN    NaN  \n",
       "29                     NaN                        NaN      NaN      NaN    NaN  \n",
       "30                     NaN                        NaN      NaN      NaN    NaN  \n",
       "31                     NaN                        NaN      NaN      NaN    NaN  \n",
       "32                     NaN                        NaN      NaN      NaN    NaN  \n",
       "33                     NaN                        NaN      NaN      NaN    NaN  \n",
       "34                     NaN                        NaN      NaN      NaN    NaN  \n",
       "35                     NaN                        NaN      NaN      NaN    NaN  "
      ]
     },
     "execution_count": 184,
     "metadata": {},
     "output_type": "execute_result"
    }
   ],
   "source": [
    "merged_df"
   ]
  },
  {
   "cell_type": "markdown",
   "metadata": {},
   "source": []
  }
 ],
 "metadata": {
  "kernelspec": {
   "display_name": "base",
   "language": "python",
   "name": "python3"
  },
  "language_info": {
   "codemirror_mode": {
    "name": "ipython",
    "version": 3
   },
   "file_extension": ".py",
   "mimetype": "text/x-python",
   "name": "python",
   "nbconvert_exporter": "python",
   "pygments_lexer": "ipython3",
   "version": "undefined.undefined.undefined"
  }
 },
 "nbformat": 4,
 "nbformat_minor": 2
}
