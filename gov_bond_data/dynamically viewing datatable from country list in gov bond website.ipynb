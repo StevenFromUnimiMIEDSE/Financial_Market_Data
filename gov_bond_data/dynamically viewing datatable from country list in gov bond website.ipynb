{
 "cells": [
  {
   "cell_type": "markdown",
   "metadata": {},
   "source": [
    "Get data from https://www.worldgovernmentbonds.com/spread-historical-data/?utm_content=cmp-true"
   ]
  },
  {
   "cell_type": "markdown",
   "metadata": {},
   "source": [
    "get data from url"
   ]
  },
  {
   "cell_type": "code",
   "execution_count": 32,
   "metadata": {},
   "outputs": [
    {
     "name": "stdout",
     "output_type": "stream",
     "text": [
      "   Unnamed: 0_level_0 Unnamed: 1_level_0 Unnamed: 2_level_0  Spread vs  \\\n",
      "   Unnamed: 0_level_1            Country         10Y Yield▴        Ger   \n",
      "0                 NaN        Switzerland             0.728%  -159.5 bp   \n",
      "1                 NaN              Japan             0.760%  -156.3 bp   \n",
      "2                 NaN             Taiwan             1.209%  -111.4 bp   \n",
      "3                 NaN             Sweden             2.288%    -3.5 bp   \n",
      "4                 NaN            Germany             2.323%       0 bp   \n",
      "..                ...                ...                ...        ...   \n",
      "65                NaN            Nigeria            18.413%  1609.0 bp   \n",
      "66                NaN              Kenya            19.496%  1717.3 bp   \n",
      "67                NaN             Zambia            25.150%  2282.7 bp   \n",
      "68                NaN             Turkey            26.940%  2461.7 bp   \n",
      "69                NaN              Egypt            29.880%  2755.7 bp   \n",
      "\n",
      "                                     \n",
      "          Usa        Chi        Aus  \n",
      "0   -342.3 bp  -163.1 bp  -327.1 bp  \n",
      "1   -339.1 bp  -159.9 bp  -323.9 bp  \n",
      "2   -294.2 bp  -115.0 bp  -279.0 bp  \n",
      "3   -186.3 bp    -7.1 bp  -171.1 bp  \n",
      "4   -182.8 bp    -3.6 bp  -167.6 bp  \n",
      "..        ...        ...        ...  \n",
      "65  1426.2 bp  1605.4 bp  1441.4 bp  \n",
      "66  1534.5 bp  1713.7 bp  1549.7 bp  \n",
      "67  2099.9 bp  2279.1 bp  2115.1 bp  \n",
      "68  2278.9 bp  2458.1 bp  2294.1 bp  \n",
      "69  2572.9 bp  2752.1 bp  2588.1 bp  \n",
      "\n",
      "[70 rows x 7 columns]\n"
     ]
    },
    {
     "name": "stderr",
     "output_type": "stream",
     "text": [
      "C:\\Users\\wjbea\\AppData\\Local\\Temp\\ipykernel_2064\\3671338006.py:18: FutureWarning:\n",
      "\n",
      "Passing literal html to 'read_html' is deprecated and will be removed in a future version. To read from a literal string, wrap it in a 'StringIO' object.\n",
      "\n"
     ]
    }
   ],
   "source": [
    "import pandas as pd\n",
    "import requests\n",
    "from bs4 import BeautifulSoup\n",
    "\n",
    "# URL of the page\n",
    "url = 'https://www.worldgovernmentbonds.com/spread-historical-data/?utm_content=cmp-true'\n",
    "\n",
    "# Send a GET request to the website\n",
    "response = requests.get(url)\n",
    "# Parse the HTML content of the page\n",
    "soup = BeautifulSoup(response.text, 'html.parser')\n",
    "\n",
    "# Find all table elements\n",
    "tables = soup.find_all('table')\n",
    "\n",
    "# Assuming the table you're interested in is the first one\n",
    "# Read the table into a pandas dataframe\n",
    "df = pd.read_html(str(tables[0]))[0]\n",
    "\n",
    "# Display the dataframe\n",
    "print(df)\n"
   ]
  },
  {
   "cell_type": "markdown",
   "metadata": {},
   "source": [
    "refine table dropping "
   ]
  },
  {
   "cell_type": "code",
   "execution_count": 33,
   "metadata": {},
   "outputs": [
    {
     "name": "stdout",
     "output_type": "stream",
     "text": [
      "        Country 10Y Yield Spread vs Germany Spread vs USA Spread vs China  \\\n",
      "0   Switzerland    0.728%         -159.5 bp     -342.3 bp       -163.1 bp   \n",
      "1         Japan    0.760%         -156.3 bp     -339.1 bp       -159.9 bp   \n",
      "2        Taiwan    1.209%         -111.4 bp     -294.2 bp       -115.0 bp   \n",
      "3        Sweden    2.288%           -3.5 bp     -186.3 bp         -7.1 bp   \n",
      "4       Germany    2.323%              0 bp     -182.8 bp         -3.6 bp   \n",
      "..          ...       ...               ...           ...             ...   \n",
      "65      Nigeria   18.413%         1609.0 bp     1426.2 bp       1605.4 bp   \n",
      "66        Kenya   19.496%         1717.3 bp     1534.5 bp       1713.7 bp   \n",
      "67       Zambia   25.150%         2282.7 bp     2099.9 bp       2279.1 bp   \n",
      "68       Turkey   26.940%         2461.7 bp     2278.9 bp       2458.1 bp   \n",
      "69        Egypt   29.880%         2755.7 bp     2572.9 bp       2752.1 bp   \n",
      "\n",
      "   Spread vs Australia  \n",
      "0            -327.1 bp  \n",
      "1            -323.9 bp  \n",
      "2            -279.0 bp  \n",
      "3            -171.1 bp  \n",
      "4            -167.6 bp  \n",
      "..                 ...  \n",
      "65           1441.4 bp  \n",
      "66           1549.7 bp  \n",
      "67           2115.1 bp  \n",
      "68           2294.1 bp  \n",
      "69           2588.1 bp  \n",
      "\n",
      "[70 rows x 6 columns]\n"
     ]
    }
   ],
   "source": [
    "# Drop unnecessary level in column names if present\n",
    "if 'Unnamed: 0_level_0' in df.columns:\n",
    "    df.columns = df.columns.get_level_values(1)\n",
    "else:\n",
    "    df.columns = df.columns\n",
    "\n",
    "# Rename columns for clarity\n",
    "df.rename(columns={\n",
    "    'Unnamed: 1_level_0': 'Country',\n",
    "    '10Y Yield▴': '10Y Yield',\n",
    "    'Ger': 'Spread vs Germany',\n",
    "    'Usa': 'Spread vs USA',\n",
    "    'Chi': 'Spread vs China',\n",
    "    'Aus': 'Spread vs Australia'\n",
    "}, inplace=True)\n",
    "\n",
    "# Drop the first unnamed column if it only contains NaN values\n",
    "if df.columns[0].startswith('Unnamed'):\n",
    "    df.drop(df.columns[0], axis=1, inplace=True)\n",
    "\n",
    "# Display the refined dataframe\n",
    "print(df)\n"
   ]
  },
  {
   "cell_type": "code",
   "execution_count": 34,
   "metadata": {},
   "outputs": [
    {
     "data": {
      "text/html": [
       "<div>\n",
       "<style scoped>\n",
       "    .dataframe tbody tr th:only-of-type {\n",
       "        vertical-align: middle;\n",
       "    }\n",
       "\n",
       "    .dataframe tbody tr th {\n",
       "        vertical-align: top;\n",
       "    }\n",
       "\n",
       "    .dataframe thead th {\n",
       "        text-align: right;\n",
       "    }\n",
       "</style>\n",
       "<table border=\"1\" class=\"dataframe\">\n",
       "  <thead>\n",
       "    <tr style=\"text-align: right;\">\n",
       "      <th></th>\n",
       "      <th>Country</th>\n",
       "      <th>10Y Yield</th>\n",
       "      <th>Spread vs Germany</th>\n",
       "      <th>Spread vs USA</th>\n",
       "      <th>Spread vs China</th>\n",
       "      <th>Spread vs Australia</th>\n",
       "    </tr>\n",
       "  </thead>\n",
       "  <tbody>\n",
       "    <tr>\n",
       "      <th>0</th>\n",
       "      <td>Switzerland</td>\n",
       "      <td>0.728%</td>\n",
       "      <td>-159.5 bp</td>\n",
       "      <td>-342.3 bp</td>\n",
       "      <td>-163.1 bp</td>\n",
       "      <td>-327.1 bp</td>\n",
       "    </tr>\n",
       "    <tr>\n",
       "      <th>1</th>\n",
       "      <td>Japan</td>\n",
       "      <td>0.760%</td>\n",
       "      <td>-156.3 bp</td>\n",
       "      <td>-339.1 bp</td>\n",
       "      <td>-159.9 bp</td>\n",
       "      <td>-323.9 bp</td>\n",
       "    </tr>\n",
       "    <tr>\n",
       "      <th>2</th>\n",
       "      <td>Taiwan</td>\n",
       "      <td>1.209%</td>\n",
       "      <td>-111.4 bp</td>\n",
       "      <td>-294.2 bp</td>\n",
       "      <td>-115.0 bp</td>\n",
       "      <td>-279.0 bp</td>\n",
       "    </tr>\n",
       "    <tr>\n",
       "      <th>3</th>\n",
       "      <td>Sweden</td>\n",
       "      <td>2.288%</td>\n",
       "      <td>-3.5 bp</td>\n",
       "      <td>-186.3 bp</td>\n",
       "      <td>-7.1 bp</td>\n",
       "      <td>-171.1 bp</td>\n",
       "    </tr>\n",
       "    <tr>\n",
       "      <th>4</th>\n",
       "      <td>Germany</td>\n",
       "      <td>2.323%</td>\n",
       "      <td>0 bp</td>\n",
       "      <td>-182.8 bp</td>\n",
       "      <td>-3.6 bp</td>\n",
       "      <td>-167.6 bp</td>\n",
       "    </tr>\n",
       "  </tbody>\n",
       "</table>\n",
       "</div>"
      ],
      "text/plain": [
       "       Country 10Y Yield Spread vs Germany Spread vs USA Spread vs China  \\\n",
       "0  Switzerland    0.728%         -159.5 bp     -342.3 bp       -163.1 bp   \n",
       "1        Japan    0.760%         -156.3 bp     -339.1 bp       -159.9 bp   \n",
       "2       Taiwan    1.209%         -111.4 bp     -294.2 bp       -115.0 bp   \n",
       "3       Sweden    2.288%           -3.5 bp     -186.3 bp         -7.1 bp   \n",
       "4      Germany    2.323%              0 bp     -182.8 bp         -3.6 bp   \n",
       "\n",
       "  Spread vs Australia  \n",
       "0           -327.1 bp  \n",
       "1           -323.9 bp  \n",
       "2           -279.0 bp  \n",
       "3           -171.1 bp  \n",
       "4           -167.6 bp  "
      ]
     },
     "execution_count": 34,
     "metadata": {},
     "output_type": "execute_result"
    }
   ],
   "source": [
    "df.head()"
   ]
  },
  {
   "cell_type": "markdown",
   "metadata": {},
   "source": []
  },
  {
   "cell_type": "code",
   "execution_count": 35,
   "metadata": {},
   "outputs": [
    {
     "name": "stdout",
     "output_type": "stream",
     "text": [
      "        Country 10Y Yield Spread vs Germany Spread vs USA Spread vs China  \\\n",
      "0   Switzerland    0.728%            -1.59%        -3.42%          -1.63%   \n",
      "1         Japan    0.760%            -1.56%        -3.39%          -1.60%   \n",
      "2        Taiwan    1.209%            -1.11%        -2.94%          -1.15%   \n",
      "3        Sweden    2.288%            -0.03%        -1.86%          -0.07%   \n",
      "4       Germany    2.323%             0.00%        -1.83%          -0.04%   \n",
      "..          ...       ...               ...           ...             ...   \n",
      "65      Nigeria   18.413%            16.09%        14.26%          16.05%   \n",
      "66        Kenya   19.496%            17.17%        15.35%          17.14%   \n",
      "67       Zambia   25.150%            22.83%        21.00%          22.79%   \n",
      "68       Turkey   26.940%            24.62%        22.79%          24.58%   \n",
      "69        Egypt   29.880%            27.56%        25.73%          27.52%   \n",
      "\n",
      "   Spread vs Australia  \n",
      "0               -3.27%  \n",
      "1               -3.24%  \n",
      "2               -2.79%  \n",
      "3               -1.71%  \n",
      "4               -1.68%  \n",
      "..                 ...  \n",
      "65              14.41%  \n",
      "66              15.50%  \n",
      "67              21.15%  \n",
      "68              22.94%  \n",
      "69              25.88%  \n",
      "\n",
      "[70 rows x 6 columns]\n"
     ]
    }
   ],
   "source": [
    "# Update 'bp' columns to be in percentage format\n",
    "bp_columns = ['Spread vs Germany', 'Spread vs USA', 'Spread vs China', 'Spread vs Australia']\n",
    "for col in bp_columns:\n",
    "    # Remove ' bp' and convert to float, then divide by 100 to convert basis points to percentage\n",
    "    df[col] = df[col].str.replace(' bp', '').astype(float) / 10000\n",
    "    # Format as percentage\n",
    "    df[col] = df[col].map(\"{:.2%}\".format)\n",
    "\n",
    "# Print the updated DataFrame\n",
    "print(df)\n"
   ]
  },
  {
   "cell_type": "markdown",
   "metadata": {},
   "source": []
  },
  {
   "cell_type": "markdown",
   "metadata": {},
   "source": []
  },
  {
   "cell_type": "code",
   "execution_count": 36,
   "metadata": {},
   "outputs": [
    {
     "data": {
      "text/html": [
       "<div>\n",
       "<style scoped>\n",
       "    .dataframe tbody tr th:only-of-type {\n",
       "        vertical-align: middle;\n",
       "    }\n",
       "\n",
       "    .dataframe tbody tr th {\n",
       "        vertical-align: top;\n",
       "    }\n",
       "\n",
       "    .dataframe thead th {\n",
       "        text-align: right;\n",
       "    }\n",
       "</style>\n",
       "<table border=\"1\" class=\"dataframe\">\n",
       "  <thead>\n",
       "    <tr style=\"text-align: right;\">\n",
       "      <th></th>\n",
       "      <th>Country</th>\n",
       "      <th>10Y Yield</th>\n",
       "      <th>Spread vs Germany</th>\n",
       "      <th>Spread vs USA</th>\n",
       "      <th>Spread vs China</th>\n",
       "      <th>Spread vs Australia</th>\n",
       "    </tr>\n",
       "  </thead>\n",
       "  <tbody>\n",
       "    <tr>\n",
       "      <th>0</th>\n",
       "      <td>Switzerland</td>\n",
       "      <td>0.728%</td>\n",
       "      <td>-1.59%</td>\n",
       "      <td>-3.42%</td>\n",
       "      <td>-1.63%</td>\n",
       "      <td>-3.27%</td>\n",
       "    </tr>\n",
       "    <tr>\n",
       "      <th>1</th>\n",
       "      <td>Japan</td>\n",
       "      <td>0.760%</td>\n",
       "      <td>-1.56%</td>\n",
       "      <td>-3.39%</td>\n",
       "      <td>-1.60%</td>\n",
       "      <td>-3.24%</td>\n",
       "    </tr>\n",
       "    <tr>\n",
       "      <th>2</th>\n",
       "      <td>Taiwan</td>\n",
       "      <td>1.209%</td>\n",
       "      <td>-1.11%</td>\n",
       "      <td>-2.94%</td>\n",
       "      <td>-1.15%</td>\n",
       "      <td>-2.79%</td>\n",
       "    </tr>\n",
       "    <tr>\n",
       "      <th>3</th>\n",
       "      <td>Sweden</td>\n",
       "      <td>2.288%</td>\n",
       "      <td>-0.03%</td>\n",
       "      <td>-1.86%</td>\n",
       "      <td>-0.07%</td>\n",
       "      <td>-1.71%</td>\n",
       "    </tr>\n",
       "    <tr>\n",
       "      <th>4</th>\n",
       "      <td>Germany</td>\n",
       "      <td>2.323%</td>\n",
       "      <td>0.00%</td>\n",
       "      <td>-1.83%</td>\n",
       "      <td>-0.04%</td>\n",
       "      <td>-1.68%</td>\n",
       "    </tr>\n",
       "  </tbody>\n",
       "</table>\n",
       "</div>"
      ],
      "text/plain": [
       "       Country 10Y Yield Spread vs Germany Spread vs USA Spread vs China  \\\n",
       "0  Switzerland    0.728%            -1.59%        -3.42%          -1.63%   \n",
       "1        Japan    0.760%            -1.56%        -3.39%          -1.60%   \n",
       "2       Taiwan    1.209%            -1.11%        -2.94%          -1.15%   \n",
       "3       Sweden    2.288%            -0.03%        -1.86%          -0.07%   \n",
       "4      Germany    2.323%             0.00%        -1.83%          -0.04%   \n",
       "\n",
       "  Spread vs Australia  \n",
       "0              -3.27%  \n",
       "1              -3.24%  \n",
       "2              -2.79%  \n",
       "3              -1.71%  \n",
       "4              -1.68%  "
      ]
     },
     "execution_count": 36,
     "metadata": {},
     "output_type": "execute_result"
    }
   ],
   "source": [
    "df.head()"
   ]
  },
  {
   "cell_type": "code",
   "execution_count": 37,
   "metadata": {},
   "outputs": [
    {
     "data": {
      "application/vnd.plotly.v1+json": {
       "config": {
        "plotlyServerURL": "https://plot.ly"
       },
       "data": [
        {
         "hovertemplate": "10Y Yield=%{x}<br>Spread vs Germany=%{y}<br>Country=%{text}<extra></extra>",
         "legendgroup": "",
         "marker": {
          "color": "#636efa",
          "symbol": "circle"
         },
         "mode": "markers+text",
         "name": "",
         "orientation": "v",
         "showlegend": false,
         "text": [
          "Switzerland",
          "Japan",
          "Taiwan",
          "Sweden",
          "Germany",
          "China",
          "Denmark",
          "Thailand",
          "Vietnam",
          "Netherlands",
          "Ireland",
          "France",
          "Finland",
          "Austria",
          "Belgium",
          "Portugal",
          "Slovenia",
          "Singapore",
          "Cyprus",
          "Spain",
          "Greece",
          "Croatia",
          "Malta",
          "South Korea",
          "Jordan (*)",
          "Canada",
          "Slovakia",
          "Norway",
          "Italy",
          "Hong Kong",
          "Lithuania",
          "Czech Republic",
          "Morocco",
          "Malaysia",
          "United Kingdom",
          "Australia",
          "United States",
          "Israel",
          "Bulgaria",
          "New Zealand",
          "Qatar (*)",
          "Mauritius",
          "Poland",
          "Chile",
          "Serbia",
          "Philippines",
          "Hungary",
          "Iceland",
          "Romania",
          "Indonesia",
          "Bahrain (*)",
          "Botswana (*)",
          "Perù",
          "India",
          "Ukraine (*)",
          "Mexico",
          "Colombia",
          "South Africa",
          "Brazil",
          "Namibia",
          "Bangladesh",
          "Russia",
          "Sri Lanka",
          "Pakistan",
          "Uganda",
          "Nigeria",
          "Kenya",
          "Zambia",
          "Turkey",
          "Egypt"
         ],
         "type": "scatter",
         "x": [
          "0.728%",
          "0.760%",
          "1.209%",
          "2.288%",
          "2.323%",
          "2.359%",
          "2.385%",
          "2.495%",
          "2.534%",
          "2.581%",
          "2.716%",
          "2.774%",
          "2.775%",
          "2.796%",
          "2.866%",
          "2.968%",
          "2.970%",
          "2.987%",
          "3.067%",
          "3.131%",
          "3.222%",
          "3.235%",
          "3.320%",
          "3.332%",
          "3.350%",
          "3.418%",
          "3.490%",
          "3.552%",
          "3.604%",
          "3.620%",
          "3.637%",
          "3.718%",
          "3.726%",
          "3.865%",
          "3.979%",
          "3.999%",
          "4.151%",
          "4.188%",
          "4.297%",
          "4.676%",
          "4.719%",
          "5.305%",
          "5.392%",
          "5.630%",
          "6.111%",
          "6.306%",
          "6.450%",
          "6.533%",
          "6.650%",
          "6.724%",
          "6.869%",
          "6.916%",
          "7.006%",
          "7.026%",
          "8.315%",
          "9.550%",
          "9.904%",
          "10.165%",
          "10.710%",
          "11.017%",
          "12.360%",
          "13.280%",
          "13.425%",
          "14.630%",
          "16.420%",
          "18.413%",
          "19.496%",
          "25.150%",
          "26.940%",
          "29.880%"
         ],
         "xaxis": "x",
         "y": [
          "-1.59%",
          "-1.56%",
          "-1.11%",
          "-0.03%",
          "0.00%",
          "0.04%",
          "0.06%",
          "0.17%",
          "0.21%",
          "0.26%",
          "0.39%",
          "0.45%",
          "0.45%",
          "0.47%",
          "0.54%",
          "0.65%",
          "0.65%",
          "0.66%",
          "0.74%",
          "0.81%",
          "0.90%",
          "0.91%",
          "1.00%",
          "1.01%",
          "1.03%",
          "1.09%",
          "1.17%",
          "1.23%",
          "1.28%",
          "1.30%",
          "1.31%",
          "1.40%",
          "1.40%",
          "1.54%",
          "1.66%",
          "1.68%",
          "1.83%",
          "1.86%",
          "1.97%",
          "2.35%",
          "2.40%",
          "2.98%",
          "3.07%",
          "3.31%",
          "3.79%",
          "3.98%",
          "4.13%",
          "4.21%",
          "4.33%",
          "4.40%",
          "4.55%",
          "4.59%",
          "4.68%",
          "4.70%",
          "5.99%",
          "7.23%",
          "7.58%",
          "7.84%",
          "8.39%",
          "8.69%",
          "10.04%",
          "10.96%",
          "11.10%",
          "12.31%",
          "14.10%",
          "16.09%",
          "17.17%",
          "22.83%",
          "24.62%",
          "27.56%"
         ],
         "yaxis": "y"
        }
       ],
       "layout": {
        "legend": {
         "tracegroupgap": 0
        },
        "template": {
         "data": {
          "bar": [
           {
            "error_x": {
             "color": "#2a3f5f"
            },
            "error_y": {
             "color": "#2a3f5f"
            },
            "marker": {
             "line": {
              "color": "#E5ECF6",
              "width": 0.5
             },
             "pattern": {
              "fillmode": "overlay",
              "size": 10,
              "solidity": 0.2
             }
            },
            "type": "bar"
           }
          ],
          "barpolar": [
           {
            "marker": {
             "line": {
              "color": "#E5ECF6",
              "width": 0.5
             },
             "pattern": {
              "fillmode": "overlay",
              "size": 10,
              "solidity": 0.2
             }
            },
            "type": "barpolar"
           }
          ],
          "carpet": [
           {
            "aaxis": {
             "endlinecolor": "#2a3f5f",
             "gridcolor": "white",
             "linecolor": "white",
             "minorgridcolor": "white",
             "startlinecolor": "#2a3f5f"
            },
            "baxis": {
             "endlinecolor": "#2a3f5f",
             "gridcolor": "white",
             "linecolor": "white",
             "minorgridcolor": "white",
             "startlinecolor": "#2a3f5f"
            },
            "type": "carpet"
           }
          ],
          "choropleth": [
           {
            "colorbar": {
             "outlinewidth": 0,
             "ticks": ""
            },
            "type": "choropleth"
           }
          ],
          "contour": [
           {
            "colorbar": {
             "outlinewidth": 0,
             "ticks": ""
            },
            "colorscale": [
             [
              0,
              "#0d0887"
             ],
             [
              0.1111111111111111,
              "#46039f"
             ],
             [
              0.2222222222222222,
              "#7201a8"
             ],
             [
              0.3333333333333333,
              "#9c179e"
             ],
             [
              0.4444444444444444,
              "#bd3786"
             ],
             [
              0.5555555555555556,
              "#d8576b"
             ],
             [
              0.6666666666666666,
              "#ed7953"
             ],
             [
              0.7777777777777778,
              "#fb9f3a"
             ],
             [
              0.8888888888888888,
              "#fdca26"
             ],
             [
              1,
              "#f0f921"
             ]
            ],
            "type": "contour"
           }
          ],
          "contourcarpet": [
           {
            "colorbar": {
             "outlinewidth": 0,
             "ticks": ""
            },
            "type": "contourcarpet"
           }
          ],
          "heatmap": [
           {
            "colorbar": {
             "outlinewidth": 0,
             "ticks": ""
            },
            "colorscale": [
             [
              0,
              "#0d0887"
             ],
             [
              0.1111111111111111,
              "#46039f"
             ],
             [
              0.2222222222222222,
              "#7201a8"
             ],
             [
              0.3333333333333333,
              "#9c179e"
             ],
             [
              0.4444444444444444,
              "#bd3786"
             ],
             [
              0.5555555555555556,
              "#d8576b"
             ],
             [
              0.6666666666666666,
              "#ed7953"
             ],
             [
              0.7777777777777778,
              "#fb9f3a"
             ],
             [
              0.8888888888888888,
              "#fdca26"
             ],
             [
              1,
              "#f0f921"
             ]
            ],
            "type": "heatmap"
           }
          ],
          "heatmapgl": [
           {
            "colorbar": {
             "outlinewidth": 0,
             "ticks": ""
            },
            "colorscale": [
             [
              0,
              "#0d0887"
             ],
             [
              0.1111111111111111,
              "#46039f"
             ],
             [
              0.2222222222222222,
              "#7201a8"
             ],
             [
              0.3333333333333333,
              "#9c179e"
             ],
             [
              0.4444444444444444,
              "#bd3786"
             ],
             [
              0.5555555555555556,
              "#d8576b"
             ],
             [
              0.6666666666666666,
              "#ed7953"
             ],
             [
              0.7777777777777778,
              "#fb9f3a"
             ],
             [
              0.8888888888888888,
              "#fdca26"
             ],
             [
              1,
              "#f0f921"
             ]
            ],
            "type": "heatmapgl"
           }
          ],
          "histogram": [
           {
            "marker": {
             "pattern": {
              "fillmode": "overlay",
              "size": 10,
              "solidity": 0.2
             }
            },
            "type": "histogram"
           }
          ],
          "histogram2d": [
           {
            "colorbar": {
             "outlinewidth": 0,
             "ticks": ""
            },
            "colorscale": [
             [
              0,
              "#0d0887"
             ],
             [
              0.1111111111111111,
              "#46039f"
             ],
             [
              0.2222222222222222,
              "#7201a8"
             ],
             [
              0.3333333333333333,
              "#9c179e"
             ],
             [
              0.4444444444444444,
              "#bd3786"
             ],
             [
              0.5555555555555556,
              "#d8576b"
             ],
             [
              0.6666666666666666,
              "#ed7953"
             ],
             [
              0.7777777777777778,
              "#fb9f3a"
             ],
             [
              0.8888888888888888,
              "#fdca26"
             ],
             [
              1,
              "#f0f921"
             ]
            ],
            "type": "histogram2d"
           }
          ],
          "histogram2dcontour": [
           {
            "colorbar": {
             "outlinewidth": 0,
             "ticks": ""
            },
            "colorscale": [
             [
              0,
              "#0d0887"
             ],
             [
              0.1111111111111111,
              "#46039f"
             ],
             [
              0.2222222222222222,
              "#7201a8"
             ],
             [
              0.3333333333333333,
              "#9c179e"
             ],
             [
              0.4444444444444444,
              "#bd3786"
             ],
             [
              0.5555555555555556,
              "#d8576b"
             ],
             [
              0.6666666666666666,
              "#ed7953"
             ],
             [
              0.7777777777777778,
              "#fb9f3a"
             ],
             [
              0.8888888888888888,
              "#fdca26"
             ],
             [
              1,
              "#f0f921"
             ]
            ],
            "type": "histogram2dcontour"
           }
          ],
          "mesh3d": [
           {
            "colorbar": {
             "outlinewidth": 0,
             "ticks": ""
            },
            "type": "mesh3d"
           }
          ],
          "parcoords": [
           {
            "line": {
             "colorbar": {
              "outlinewidth": 0,
              "ticks": ""
             }
            },
            "type": "parcoords"
           }
          ],
          "pie": [
           {
            "automargin": true,
            "type": "pie"
           }
          ],
          "scatter": [
           {
            "fillpattern": {
             "fillmode": "overlay",
             "size": 10,
             "solidity": 0.2
            },
            "type": "scatter"
           }
          ],
          "scatter3d": [
           {
            "line": {
             "colorbar": {
              "outlinewidth": 0,
              "ticks": ""
             }
            },
            "marker": {
             "colorbar": {
              "outlinewidth": 0,
              "ticks": ""
             }
            },
            "type": "scatter3d"
           }
          ],
          "scattercarpet": [
           {
            "marker": {
             "colorbar": {
              "outlinewidth": 0,
              "ticks": ""
             }
            },
            "type": "scattercarpet"
           }
          ],
          "scattergeo": [
           {
            "marker": {
             "colorbar": {
              "outlinewidth": 0,
              "ticks": ""
             }
            },
            "type": "scattergeo"
           }
          ],
          "scattergl": [
           {
            "marker": {
             "colorbar": {
              "outlinewidth": 0,
              "ticks": ""
             }
            },
            "type": "scattergl"
           }
          ],
          "scattermapbox": [
           {
            "marker": {
             "colorbar": {
              "outlinewidth": 0,
              "ticks": ""
             }
            },
            "type": "scattermapbox"
           }
          ],
          "scatterpolar": [
           {
            "marker": {
             "colorbar": {
              "outlinewidth": 0,
              "ticks": ""
             }
            },
            "type": "scatterpolar"
           }
          ],
          "scatterpolargl": [
           {
            "marker": {
             "colorbar": {
              "outlinewidth": 0,
              "ticks": ""
             }
            },
            "type": "scatterpolargl"
           }
          ],
          "scatterternary": [
           {
            "marker": {
             "colorbar": {
              "outlinewidth": 0,
              "ticks": ""
             }
            },
            "type": "scatterternary"
           }
          ],
          "surface": [
           {
            "colorbar": {
             "outlinewidth": 0,
             "ticks": ""
            },
            "colorscale": [
             [
              0,
              "#0d0887"
             ],
             [
              0.1111111111111111,
              "#46039f"
             ],
             [
              0.2222222222222222,
              "#7201a8"
             ],
             [
              0.3333333333333333,
              "#9c179e"
             ],
             [
              0.4444444444444444,
              "#bd3786"
             ],
             [
              0.5555555555555556,
              "#d8576b"
             ],
             [
              0.6666666666666666,
              "#ed7953"
             ],
             [
              0.7777777777777778,
              "#fb9f3a"
             ],
             [
              0.8888888888888888,
              "#fdca26"
             ],
             [
              1,
              "#f0f921"
             ]
            ],
            "type": "surface"
           }
          ],
          "table": [
           {
            "cells": {
             "fill": {
              "color": "#EBF0F8"
             },
             "line": {
              "color": "white"
             }
            },
            "header": {
             "fill": {
              "color": "#C8D4E3"
             },
             "line": {
              "color": "white"
             }
            },
            "type": "table"
           }
          ]
         },
         "layout": {
          "annotationdefaults": {
           "arrowcolor": "#2a3f5f",
           "arrowhead": 0,
           "arrowwidth": 1
          },
          "autotypenumbers": "strict",
          "coloraxis": {
           "colorbar": {
            "outlinewidth": 0,
            "ticks": ""
           }
          },
          "colorscale": {
           "diverging": [
            [
             0,
             "#8e0152"
            ],
            [
             0.1,
             "#c51b7d"
            ],
            [
             0.2,
             "#de77ae"
            ],
            [
             0.3,
             "#f1b6da"
            ],
            [
             0.4,
             "#fde0ef"
            ],
            [
             0.5,
             "#f7f7f7"
            ],
            [
             0.6,
             "#e6f5d0"
            ],
            [
             0.7,
             "#b8e186"
            ],
            [
             0.8,
             "#7fbc41"
            ],
            [
             0.9,
             "#4d9221"
            ],
            [
             1,
             "#276419"
            ]
           ],
           "sequential": [
            [
             0,
             "#0d0887"
            ],
            [
             0.1111111111111111,
             "#46039f"
            ],
            [
             0.2222222222222222,
             "#7201a8"
            ],
            [
             0.3333333333333333,
             "#9c179e"
            ],
            [
             0.4444444444444444,
             "#bd3786"
            ],
            [
             0.5555555555555556,
             "#d8576b"
            ],
            [
             0.6666666666666666,
             "#ed7953"
            ],
            [
             0.7777777777777778,
             "#fb9f3a"
            ],
            [
             0.8888888888888888,
             "#fdca26"
            ],
            [
             1,
             "#f0f921"
            ]
           ],
           "sequentialminus": [
            [
             0,
             "#0d0887"
            ],
            [
             0.1111111111111111,
             "#46039f"
            ],
            [
             0.2222222222222222,
             "#7201a8"
            ],
            [
             0.3333333333333333,
             "#9c179e"
            ],
            [
             0.4444444444444444,
             "#bd3786"
            ],
            [
             0.5555555555555556,
             "#d8576b"
            ],
            [
             0.6666666666666666,
             "#ed7953"
            ],
            [
             0.7777777777777778,
             "#fb9f3a"
            ],
            [
             0.8888888888888888,
             "#fdca26"
            ],
            [
             1,
             "#f0f921"
            ]
           ]
          },
          "colorway": [
           "#636efa",
           "#EF553B",
           "#00cc96",
           "#ab63fa",
           "#FFA15A",
           "#19d3f3",
           "#FF6692",
           "#B6E880",
           "#FF97FF",
           "#FECB52"
          ],
          "font": {
           "color": "#2a3f5f"
          },
          "geo": {
           "bgcolor": "white",
           "lakecolor": "white",
           "landcolor": "#E5ECF6",
           "showlakes": true,
           "showland": true,
           "subunitcolor": "white"
          },
          "hoverlabel": {
           "align": "left"
          },
          "hovermode": "closest",
          "mapbox": {
           "style": "light"
          },
          "paper_bgcolor": "white",
          "plot_bgcolor": "#E5ECF6",
          "polar": {
           "angularaxis": {
            "gridcolor": "white",
            "linecolor": "white",
            "ticks": ""
           },
           "bgcolor": "#E5ECF6",
           "radialaxis": {
            "gridcolor": "white",
            "linecolor": "white",
            "ticks": ""
           }
          },
          "scene": {
           "xaxis": {
            "backgroundcolor": "#E5ECF6",
            "gridcolor": "white",
            "gridwidth": 2,
            "linecolor": "white",
            "showbackground": true,
            "ticks": "",
            "zerolinecolor": "white"
           },
           "yaxis": {
            "backgroundcolor": "#E5ECF6",
            "gridcolor": "white",
            "gridwidth": 2,
            "linecolor": "white",
            "showbackground": true,
            "ticks": "",
            "zerolinecolor": "white"
           },
           "zaxis": {
            "backgroundcolor": "#E5ECF6",
            "gridcolor": "white",
            "gridwidth": 2,
            "linecolor": "white",
            "showbackground": true,
            "ticks": "",
            "zerolinecolor": "white"
           }
          },
          "shapedefaults": {
           "line": {
            "color": "#2a3f5f"
           }
          },
          "ternary": {
           "aaxis": {
            "gridcolor": "white",
            "linecolor": "white",
            "ticks": ""
           },
           "baxis": {
            "gridcolor": "white",
            "linecolor": "white",
            "ticks": ""
           },
           "bgcolor": "#E5ECF6",
           "caxis": {
            "gridcolor": "white",
            "linecolor": "white",
            "ticks": ""
           }
          },
          "title": {
           "x": 0.05
          },
          "xaxis": {
           "automargin": true,
           "gridcolor": "white",
           "linecolor": "white",
           "ticks": "",
           "title": {
            "standoff": 15
           },
           "zerolinecolor": "white",
           "zerolinewidth": 2
          },
          "yaxis": {
           "automargin": true,
           "gridcolor": "white",
           "linecolor": "white",
           "ticks": "",
           "title": {
            "standoff": 15
           },
           "zerolinecolor": "white",
           "zerolinewidth": 2
          }
         }
        },
        "title": {
         "text": "10Y Yield vs Spread vs Germany"
        },
        "xaxis": {
         "anchor": "y",
         "domain": [
          0,
          1
         ],
         "title": {
          "text": "10Y Yield"
         }
        },
        "yaxis": {
         "anchor": "x",
         "domain": [
          0,
          1
         ],
         "title": {
          "text": "Spread vs Germany"
         }
        }
       }
      }
     },
     "metadata": {},
     "output_type": "display_data"
    }
   ],
   "source": [
    "import plotly.express as px\n",
    "import pandas as pd\n",
    "\n",
    "\n",
    "# Create an interactive scatter plot\n",
    "fig = px.scatter(df, x='10Y Yield', y='Spread vs Germany',\n",
    "                 text='Country', size_max=100, title='10Y Yield vs Spread vs Germany')\n",
    "\n",
    "# Show the figure\n",
    "fig.show()\n"
   ]
  },
  {
   "cell_type": "markdown",
   "metadata": {},
   "source": []
  },
  {
   "cell_type": "code",
   "execution_count": 38,
   "metadata": {},
   "outputs": [
    {
     "name": "stdout",
     "output_type": "stream",
     "text": [
      "Defaulting to user installation because normal site-packages is not writeable\n",
      "Requirement already satisfied: dash in c:\\users\\wjbea\\appdata\\roaming\\python\\python311\\site-packages (2.16.1)\n",
      "Requirement already satisfied: Flask<3.1,>=1.0.4 in c:\\programdata\\anaconda3\\lib\\site-packages (from dash) (2.2.5)\n",
      "Requirement already satisfied: Werkzeug<3.1 in c:\\programdata\\anaconda3\\lib\\site-packages (from dash) (2.2.3)\n",
      "Requirement already satisfied: plotly>=5.0.0 in c:\\programdata\\anaconda3\\lib\\site-packages (from dash) (5.9.0)\n",
      "Requirement already satisfied: dash-html-components==2.0.0 in c:\\users\\wjbea\\appdata\\roaming\\python\\python311\\site-packages (from dash) (2.0.0)\n",
      "Requirement already satisfied: dash-core-components==2.0.0 in c:\\users\\wjbea\\appdata\\roaming\\python\\python311\\site-packages (from dash) (2.0.0)\n",
      "Requirement already satisfied: dash-table==5.0.0 in c:\\users\\wjbea\\appdata\\roaming\\python\\python311\\site-packages (from dash) (5.0.0)\n",
      "Requirement already satisfied: importlib-metadata in c:\\programdata\\anaconda3\\lib\\site-packages (from dash) (7.0.1)\n",
      "Requirement already satisfied: typing-extensions>=4.1.1 in c:\\programdata\\anaconda3\\lib\\site-packages (from dash) (4.9.0)\n",
      "Requirement already satisfied: requests in c:\\programdata\\anaconda3\\lib\\site-packages (from dash) (2.31.0)\n",
      "Requirement already satisfied: retrying in c:\\users\\wjbea\\appdata\\roaming\\python\\python311\\site-packages (from dash) (1.3.4)\n",
      "Requirement already satisfied: nest-asyncio in c:\\users\\wjbea\\appdata\\roaming\\python\\python311\\site-packages (from dash) (1.6.0)\n",
      "Requirement already satisfied: setuptools in c:\\programdata\\anaconda3\\lib\\site-packages (from dash) (68.2.2)\n",
      "Requirement already satisfied: Jinja2>=3.0 in c:\\programdata\\anaconda3\\lib\\site-packages (from Flask<3.1,>=1.0.4->dash) (3.1.3)\n",
      "Requirement already satisfied: itsdangerous>=2.0 in c:\\programdata\\anaconda3\\lib\\site-packages (from Flask<3.1,>=1.0.4->dash) (2.0.1)\n",
      "Requirement already satisfied: click>=8.0 in c:\\programdata\\anaconda3\\lib\\site-packages (from Flask<3.1,>=1.0.4->dash) (8.1.7)\n",
      "Requirement already satisfied: tenacity>=6.2.0 in c:\\programdata\\anaconda3\\lib\\site-packages (from plotly>=5.0.0->dash) (8.2.2)\n",
      "Requirement already satisfied: MarkupSafe>=2.1.1 in c:\\programdata\\anaconda3\\lib\\site-packages (from Werkzeug<3.1->dash) (2.1.3)\n",
      "Requirement already satisfied: zipp>=0.5 in c:\\programdata\\anaconda3\\lib\\site-packages (from importlib-metadata->dash) (3.17.0)\n",
      "Requirement already satisfied: charset-normalizer<4,>=2 in c:\\programdata\\anaconda3\\lib\\site-packages (from requests->dash) (2.0.4)\n",
      "Requirement already satisfied: idna<4,>=2.5 in c:\\programdata\\anaconda3\\lib\\site-packages (from requests->dash) (3.4)\n",
      "Requirement already satisfied: urllib3<3,>=1.21.1 in c:\\programdata\\anaconda3\\lib\\site-packages (from requests->dash) (2.0.7)\n",
      "Requirement already satisfied: certifi>=2017.4.17 in c:\\programdata\\anaconda3\\lib\\site-packages (from requests->dash) (2024.2.2)\n",
      "Requirement already satisfied: six>=1.7.0 in c:\\users\\wjbea\\appdata\\roaming\\python\\python311\\site-packages (from retrying->dash) (1.16.0)\n",
      "Requirement already satisfied: colorama in c:\\users\\wjbea\\appdata\\roaming\\python\\python311\\site-packages (from click>=8.0->Flask<3.1,>=1.0.4->dash) (0.4.6)\n",
      "Note: you may need to restart the kernel to use updated packages.\n"
     ]
    }
   ],
   "source": [
    "pip install dash\n"
   ]
  },
  {
   "cell_type": "code",
   "execution_count": 39,
   "metadata": {},
   "outputs": [
    {
     "data": {
      "text/html": [
       "\n",
       "        <iframe\n",
       "            width=\"100%\"\n",
       "            height=\"650\"\n",
       "            src=\"http://127.0.0.1:8050/\"\n",
       "            frameborder=\"0\"\n",
       "            allowfullscreen\n",
       "            \n",
       "        ></iframe>\n",
       "        "
      ],
      "text/plain": [
       "<IPython.lib.display.IFrame at 0x1dd2e56b290>"
      ]
     },
     "metadata": {},
     "output_type": "display_data"
    }
   ],
   "source": [
    "import dash\n",
    "from dash import dcc, html\n",
    "from dash.dependencies import Input, Output\n",
    "import plotly.express as px\n",
    "import pandas as pd\n",
    "\n",
    "\n",
    "\n",
    "\n",
    "# Initialize the Dash app\n",
    "app = dash.Dash(__name__)\n",
    "\n",
    "# Define the layout of the app\n",
    "app.layout = html.Div([\n",
    "    dcc.Dropdown(\n",
    "        id='country-dropdown',\n",
    "        options=[{'label': i, 'value': i} for i in df['Country']],\n",
    "        value='Switzerland',  # default value\n",
    "        multi=True,  # Allow multiple selections\n",
    "        searchable=True,\n",
    "        style={'width': '50%'}\n",
    "    ),\n",
    "    dcc.Graph(id='yield-vs-spread-plot')\n",
    "])\n",
    "\n",
    "# Define callback to update graph based on selected country\n",
    "@app.callback(\n",
    "    Output('yield-vs-spread-plot', 'figure'),\n",
    "    [Input('country-dropdown', 'value')]\n",
    ")\n",
    "def update_graph(selected_countries):\n",
    "    # Ensure selected_countries is always a list\n",
    "    if not isinstance(selected_countries, list):\n",
    "        selected_countries = [selected_countries]\n",
    "    if selected_countries:\n",
    "        filtered_df = df[df['Country'].isin(selected_countries)]\n",
    "    else:\n",
    "        filtered_df = pd.DataFrame(columns=df.columns)  # Empty DataFrame if no country is selected\n",
    "    fig = px.scatter(filtered_df, x='10Y Yield', y='Spread vs Germany', text='Country', size_max=60)\n",
    "    return fig\n",
    "\n",
    "# Run the app\n",
    "if __name__ == '__main__':\n",
    "    app.run_server(debug=True)\n"
   ]
  },
  {
   "cell_type": "markdown",
   "metadata": {},
   "source": [
    "dynamic map"
   ]
  },
  {
   "cell_type": "code",
   "execution_count": 46,
   "metadata": {},
   "outputs": [
    {
     "data": {
      "text/html": [
       "\n",
       "        <iframe\n",
       "            width=\"100%\"\n",
       "            height=\"650\"\n",
       "            src=\"http://127.0.0.1:8050/\"\n",
       "            frameborder=\"0\"\n",
       "            allowfullscreen\n",
       "            \n",
       "        ></iframe>\n",
       "        "
      ],
      "text/plain": [
       "<IPython.lib.display.IFrame at 0x1dd2e958510>"
      ]
     },
     "metadata": {},
     "output_type": "display_data"
    }
   ],
   "source": [
    "from dash import Dash, html, dcc\n",
    "from dash.dependencies import Input, Output\n",
    "import plotly.express as px\n",
    "import pandas as pd\n",
    "\n",
    "# Sample DataFrame with country information - replace with your data source\n",
    "\n",
    "\n",
    "app = Dash(__name__)\n",
    "\n",
    "app.layout = html.Div([\n",
    "    dcc.Dropdown(\n",
    "        id='country-selector',\n",
    "        options=[{'label': country, 'value': country} for country in df['Country'].unique()],\n",
    "        multi=True,\n",
    "        value=['United States', 'Canada']  # default value\n",
    "    ),\n",
    "    dcc.Graph(id='world-map')\n",
    "])\n",
    "\n",
    "@app.callback(\n",
    "    Output('world-map', 'figure'),\n",
    "    [Input('country-selector', 'value')]\n",
    ")\n",
    "def update_map(selected_countries):\n",
    "    filtered_df = df[df['Country'].isin(selected_countries)]\n",
    "    fig = px.scatter_geo(filtered_df, \n",
    "                         locations='Country', \n",
    "                         locationmode='country names',\n",
    "                         hover_name='Country',  # Shows the country name on hover\n",
    "                         hover_data=['10Y Yield'],  # Add '10Y Yield' to the hover data\n",
    "                         )\n",
    "    return fig\n",
    "\n",
    "if __name__ == '__main__':\n",
    "    app.run_server(debug=True)\n"
   ]
  }
 ],
 "metadata": {
  "kernelspec": {
   "display_name": "base",
   "language": "python",
   "name": "python3"
  },
  "language_info": {
   "codemirror_mode": {
    "name": "ipython",
    "version": 3
   },
   "file_extension": ".py",
   "mimetype": "text/x-python",
   "name": "python",
   "nbconvert_exporter": "python",
   "pygments_lexer": "ipython3",
   "version": "3.11.7"
  }
 },
 "nbformat": 4,
 "nbformat_minor": 2
}
